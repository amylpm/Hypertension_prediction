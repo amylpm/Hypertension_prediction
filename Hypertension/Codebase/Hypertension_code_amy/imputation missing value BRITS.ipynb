{
 "cells": [
  {
   "cell_type": "code",
   "execution_count": 1,
   "id": "89948924",
   "metadata": {},
   "outputs": [],
   "source": [
    "import pandas as pd"
   ]
  },
  {
   "cell_type": "code",
   "execution_count": 2,
   "id": "8b961dae",
   "metadata": {},
   "outputs": [],
   "source": [
    "df = pd.read_excel (r'Mappings.xlsx')\n",
    "p9690 =pd.read_excel (r'p9690.xlsx')\n",
    "p9630 =pd.read_excel (r'p9630.xlsx')\n",
    "p9888 =pd.read_excel (r'p9888.xlsx')\n",
    "p10049=pd.read_excel (r'p10042.xlsx')\n",
    "p10412=pd.read_excel (r'p10412.xlsx')"
   ]
  },
  {
   "cell_type": "code",
   "execution_count": 3,
   "id": "2548ca49",
   "metadata": {},
   "outputs": [
    {
     "name": "stderr",
     "output_type": "stream",
     "text": [
      "Cloning into 'BRITS'...\n"
     ]
    }
   ],
   "source": [
    "!git clone https://github.com/caow13/BRITS.git"
   ]
  },
  {
   "cell_type": "code",
   "execution_count": null,
   "id": "d5f9e7d1",
   "metadata": {},
   "outputs": [],
   "source": []
  },
  {
   "cell_type": "code",
   "execution_count": null,
   "id": "84d0fee0",
   "metadata": {},
   "outputs": [],
   "source": []
  }
 ],
 "metadata": {
  "kernelspec": {
   "display_name": "Python 3 (ipykernel)",
   "language": "python",
   "name": "python3"
  },
  "language_info": {
   "codemirror_mode": {
    "name": "ipython",
    "version": 3
   },
   "file_extension": ".py",
   "mimetype": "text/x-python",
   "name": "python",
   "nbconvert_exporter": "python",
   "pygments_lexer": "ipython3",
   "version": "3.9.12"
  }
 },
 "nbformat": 4,
 "nbformat_minor": 5
}
