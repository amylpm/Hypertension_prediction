{
 "cells": [
  {
   "cell_type": "code",
   "execution_count": null,
   "id": "4f33aac8",
   "metadata": {
    "scrolled": true
   },
   "outputs": [],
   "source": [
    "#!git clone https://github.com/zhiyongc/GRU-D.git"
   ]
  },
  {
   "cell_type": "code",
   "execution_count": 1,
   "id": "d5f9e7d1",
   "metadata": {},
   "outputs": [
    {
     "name": "stderr",
     "output_type": "stream",
     "text": [
      "'sudo' is not recognized as an internal or external command,\n",
      "operable program or batch file.\n"
     ]
    }
   ],
   "source": []
  },
  {
   "cell_type": "code",
   "execution_count": null,
   "id": "6975f4c0",
   "metadata": {},
   "outputs": [],
   "source": [
    "!pip list "
   ]
  },
  {
   "cell_type": "code",
   "execution_count": 1,
   "id": "952fbac6",
   "metadata": {},
   "outputs": [
    {
     "name": "stdout",
     "output_type": "stream",
     "text": [
      "C:\\Users\\User\\Documents\\GitHub\\Hypertension_prediction\\Hypertension\\Codebase\\Hypertension code\\GRU-D\n"
     ]
    }
   ],
   "source": [
    "%cd GRU-D"
   ]
  },
  {
   "cell_type": "code",
   "execution_count": 2,
   "id": "3c6eadb1",
   "metadata": {},
   "outputs": [
    {
     "name": "stderr",
     "output_type": "stream",
     "text": [
      "A subdirectory or file build already exists.\n"
     ]
    }
   ],
   "source": [
    "!mkdir build"
   ]
  },
  {
   "cell_type": "code",
   "execution_count": 3,
   "id": "34588599",
   "metadata": {},
   "outputs": [
    {
     "name": "stdout",
     "output_type": "stream",
     "text": [
      "C:\\Users\\User\\Documents\\GitHub\\Hypertension_prediction\\Hypertension\\Codebase\\Hypertension code\\GRU-D\\build\n"
     ]
    }
   ],
   "source": [
    "%cd build"
   ]
  },
  {
   "cell_type": "code",
   "execution_count": 6,
   "id": "b1ba36af",
   "metadata": {},
   "outputs": [
    {
     "name": "stderr",
     "output_type": "stream",
     "text": [
      "CMake Warning:\n",
      "  Ignoring extra path from command line:\n",
      "\n",
      "   \"code\\GRU-D\\build\"\n",
      "\n",
      "\n",
      "CMake Error: The source directory \"C:/Users/User/Documents/GitHub/Hypertension_prediction/Hypertension/Codebase/Hypertension\" does not exist.\n",
      "Specify --help for usage, or press the help button on the CMake GUI.\n"
     ]
    }
   ],
   "source": [
    "!cmake C:\\Users\\User\\Documents\\GitHub\\Hypertension_prediction\\Hypertension\\Codebase\\Hypertension code\\GRU-D\\build\n"
   ]
  }
 ],
 "metadata": {
  "kernelspec": {
   "display_name": "Python 3 (ipykernel)",
   "language": "python",
   "name": "python3"
  },
  "language_info": {
   "codemirror_mode": {
    "name": "ipython",
    "version": 3
   },
   "file_extension": ".py",
   "mimetype": "text/x-python",
   "name": "python",
   "nbconvert_exporter": "python",
   "pygments_lexer": "ipython3",
   "version": "3.9.12"
  }
 },
 "nbformat": 4,
 "nbformat_minor": 5
}
