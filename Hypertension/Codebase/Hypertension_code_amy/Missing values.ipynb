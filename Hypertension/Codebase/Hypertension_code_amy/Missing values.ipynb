{
 "cells": [
  {
   "cell_type": "code",
   "execution_count": 1,
   "id": "6ee9f907",
   "metadata": {
    "scrolled": false
   },
   "outputs": [
    {
     "name": "stdout",
     "output_type": "stream",
     "text": [
      "Requirement already satisfied: missingno in c:\\users\\user\\anaconda3\\lib\\site-packages (0.5.1)\n",
      "Requirement already satisfied: scipy in c:\\users\\user\\anaconda3\\lib\\site-packages (from missingno) (1.7.3)\n",
      "Requirement already satisfied: matplotlib in c:\\users\\user\\anaconda3\\lib\\site-packages (from missingno) (3.5.1)\n",
      "Requirement already satisfied: numpy in c:\\users\\user\\anaconda3\\lib\\site-packages (from missingno) (1.21.5)\n",
      "Requirement already satisfied: seaborn in c:\\users\\user\\anaconda3\\lib\\site-packages (from missingno) (0.11.2)\n",
      "Requirement already satisfied: cycler>=0.10 in c:\\users\\user\\anaconda3\\lib\\site-packages (from matplotlib->missingno) (0.11.0)\n",
      "Requirement already satisfied: kiwisolver>=1.0.1 in c:\\users\\user\\anaconda3\\lib\\site-packages (from matplotlib->missingno) (1.3.2)\n",
      "Requirement already satisfied: packaging>=20.0 in c:\\users\\user\\anaconda3\\lib\\site-packages (from matplotlib->missingno) (21.3)\n",
      "Requirement already satisfied: python-dateutil>=2.7 in c:\\users\\user\\anaconda3\\lib\\site-packages (from matplotlib->missingno) (2.8.2)\n",
      "Requirement already satisfied: pyparsing>=2.2.1 in c:\\users\\user\\anaconda3\\lib\\site-packages (from matplotlib->missingno) (3.0.4)\n",
      "Requirement already satisfied: pillow>=6.2.0 in c:\\users\\user\\anaconda3\\lib\\site-packages (from matplotlib->missingno) (9.0.1)\n",
      "Requirement already satisfied: fonttools>=4.22.0 in c:\\users\\user\\anaconda3\\lib\\site-packages (from matplotlib->missingno) (4.25.0)\n",
      "Requirement already satisfied: six>=1.5 in c:\\users\\user\\anaconda3\\lib\\site-packages (from python-dateutil>=2.7->matplotlib->missingno) (1.11.0)\n",
      "Requirement already satisfied: pandas>=0.23 in c:\\users\\user\\anaconda3\\lib\\site-packages (from seaborn->missingno) (1.4.2)\n",
      "Requirement already satisfied: pytz>=2020.1 in c:\\users\\user\\anaconda3\\lib\\site-packages (from pandas>=0.23->seaborn->missingno) (2021.3)\n"
     ]
    }
   ],
   "source": [
    "!pip install missingno\n"
   ]
  },
  {
   "cell_type": "code",
   "execution_count": 2,
   "id": "21e8bc85",
   "metadata": {},
   "outputs": [],
   "source": [
    "import pandas as pd\n",
    "import missingno as msno\n",
    "from tabulate import tabulate\n",
    "import os  \n",
    "\n",
    "\n",
    "\n",
    "%matplotlib inline\n",
    "pd.set_option('display.max_rows', None)\n"
   ]
  },
  {
   "cell_type": "code",
   "execution_count": 3,
   "id": "fcdb3bbf",
   "metadata": {},
   "outputs": [],
   "source": [
    "df = pd.read_excel (r'Mappings.xlsx')\n",
    "p9690 =pd.read_excel (r'p9690.xlsx')\n",
    "p9630 =pd.read_excel (r'p9630.xlsx')\n",
    "p9888 =pd.read_excel (r'p9888.xlsx')\n",
    "p10049=pd.read_excel (r'p10042.xlsx')\n",
    "p10412=pd.read_excel (r'p10412.xlsx')\n"
   ]
  },
  {
   "cell_type": "code",
   "execution_count": 4,
   "id": "e04dbd65",
   "metadata": {},
   "outputs": [],
   "source": [
    "#for i, (ID, subdf) in enumerate(bp.groupby('patientID'), 1):\n",
    "#    locals()[f'bp{ID}'] = subdf"
   ]
  },
  {
   "cell_type": "code",
   "execution_count": 7,
   "id": "363c89d7",
   "metadata": {},
   "outputs": [],
   "source": [
    "os.makedirs('Output/missing_value_imputed', exist_ok=True)  \n"
   ]
  },
  {
   "cell_type": "code",
   "execution_count": 55,
   "id": "b861d165",
   "metadata": {},
   "outputs": [],
   "source": [
    "def missing_value(df):\n",
    "    max = df[\"Timestamp\"].max()\n",
    "    min = df[\"Timestamp\"].min()\n",
    "    df = df.set_index('Timestamp').resample('H').asfreq()\n",
    "    df[['UserID','DOB','Weight','Height','Gender']] = df[['UserID','DOB','Weight','Height','Gender']].fillna(method=\"ffill\")\n",
    "    #msno.matrix(df.set_index(pd.period_range(min, max, freq='H')))\n",
    "    #display(df[df.isna().any(axis=1)])\n",
    "    df.to_csv('Output/missing_value_imputed/p10412_missing.csv',sep=',', index=True)  \n",
    "\n"
   ]
  },
  {
   "cell_type": "code",
   "execution_count": 48,
   "id": "29e1c317",
   "metadata": {
    "scrolled": true
   },
   "outputs": [],
   "source": [
    "missing_value(p9630)"
   ]
  },
  {
   "cell_type": "code",
   "execution_count": 50,
   "id": "79b6ad26",
   "metadata": {},
   "outputs": [],
   "source": [
    "missing_value(p9690)"
   ]
  },
  {
   "cell_type": "code",
   "execution_count": 52,
   "id": "91c86429",
   "metadata": {},
   "outputs": [],
   "source": [
    "missing_value(p9888)"
   ]
  },
  {
   "cell_type": "code",
   "execution_count": 54,
   "id": "08cf7571",
   "metadata": {},
   "outputs": [],
   "source": [
    "missing_value(p10049)"
   ]
  },
  {
   "cell_type": "code",
   "execution_count": 56,
   "id": "c255ba8e",
   "metadata": {},
   "outputs": [],
   "source": [
    "missing_value(p10412)"
   ]
  }
 ],
 "metadata": {
  "kernelspec": {
   "display_name": "Python 3 (ipykernel)",
   "language": "python",
   "name": "python3"
  },
  "language_info": {
   "codemirror_mode": {
    "name": "ipython",
    "version": 3
   },
   "file_extension": ".py",
   "mimetype": "text/x-python",
   "name": "python",
   "nbconvert_exporter": "python",
   "pygments_lexer": "ipython3",
   "version": "3.9.12"
  }
 },
 "nbformat": 4,
 "nbformat_minor": 5
}
