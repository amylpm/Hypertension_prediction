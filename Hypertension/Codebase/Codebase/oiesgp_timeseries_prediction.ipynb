{
 "cells": [
  {
   "cell_type": "code",
   "execution_count": 2,
   "metadata": {
    "colab": {
     "base_uri": "https://localhost:8080/",
     "height": 34
    },
    "executionInfo": {
     "elapsed": 707,
     "status": "ok",
     "timestamp": 1603620497333,
     "user": {
      "displayName": "Ghalib Ahmed Tahir",
      "photoUrl": "",
      "userId": "14564760490957802618"
     },
     "user_tz": -480
    },
    "id": "Xhara5PSd_Uj",
    "outputId": "84893de7-b047-411b-e0d8-1a1788efd7f7"
   },
   "outputs": [
    {
     "name": "stdout",
     "output_type": "stream",
     "text": [
      "Drive already mounted at /content/drive; to attempt to forcibly remount, call drive.mount(\"/content/drive\", force_remount=True).\n"
     ]
    }
   ],
   "source": [
    "from google.colab import drive\n",
    "drive.mount('/content/drive')"
   ]
  },
  {
   "cell_type": "code",
   "execution_count": 3,
   "metadata": {
    "colab": {
     "base_uri": "https://localhost:8080/",
     "height": 139
    },
    "executionInfo": {
     "elapsed": 2234,
     "status": "ok",
     "timestamp": 1603620505124,
     "user": {
      "displayName": "Ghalib Ahmed Tahir",
      "photoUrl": "",
      "userId": "14564760490957802618"
     },
     "user_tz": -480
    },
    "id": "owSQSEbIfDwQ",
    "outputId": "36309ed3-0c36-46c7-8d05-939df47e977f"
   },
   "outputs": [
    {
     "name": "stdout",
     "output_type": "stream",
     "text": [
      "Reading package lists... Done\n",
      "Building dependency tree       \n",
      "Reading state information... Done\n",
      "libeigen3-dev is already the newest version (3.3.4-4).\n",
      "swig is already the newest version (3.0.12-1).\n",
      "cmake is already the newest version (3.10.2-1ubuntu2.18.04.1).\n",
      "0 upgraded, 0 newly installed, 0 to remove and 21 not upgraded.\n"
     ]
    }
   ],
   "source": [
    "!sudo apt-get install libeigen3-dev cmake swig"
   ]
  },
  {
   "cell_type": "code",
   "execution_count": 4,
   "metadata": {
    "colab": {
     "base_uri": "https://localhost:8080/",
     "height": 34
    },
    "executionInfo": {
     "elapsed": 1015,
     "status": "ok",
     "timestamp": 1603620505621,
     "user": {
      "displayName": "Ghalib Ahmed Tahir",
      "photoUrl": "",
      "userId": "14564760490957802618"
     },
     "user_tz": -480
    },
    "id": "WPEgHuEhfI3E",
    "outputId": "c7ce32aa-86da-4a58-f006-da2128851bab"
   },
   "outputs": [
    {
     "name": "stdout",
     "output_type": "stream",
     "text": [
      "fatal: destination path 'otl' already exists and is not an empty directory.\n"
     ]
    }
   ],
   "source": [
    "!git clone https://github.com/x75/otl.git"
   ]
  },
  {
   "cell_type": "code",
   "execution_count": 5,
   "metadata": {
    "colab": {
     "base_uri": "https://localhost:8080/",
     "height": 34
    },
    "executionInfo": {
     "elapsed": 810,
     "status": "ok",
     "timestamp": 1603620508516,
     "user": {
      "displayName": "Ghalib Ahmed Tahir",
      "photoUrl": "",
      "userId": "14564760490957802618"
     },
     "user_tz": -480
    },
    "id": "4Nu-U5PgfXpv",
    "outputId": "70708409-1e5c-41ab-891b-6056c1572061"
   },
   "outputs": [
    {
     "name": "stdout",
     "output_type": "stream",
     "text": [
      "/content/otl\n"
     ]
    }
   ],
   "source": [
    "%cd otl"
   ]
  },
  {
   "cell_type": "code",
   "execution_count": 6,
   "metadata": {
    "colab": {
     "base_uri": "https://localhost:8080/",
     "height": 34
    },
    "executionInfo": {
     "elapsed": 793,
     "status": "ok",
     "timestamp": 1603620510406,
     "user": {
      "displayName": "Ghalib Ahmed Tahir",
      "photoUrl": "",
      "userId": "14564760490957802618"
     },
     "user_tz": -480
    },
    "id": "ZH4w5NYGfbLX",
    "outputId": "f18ef543-4b18-447e-8802-a3742315c828"
   },
   "outputs": [
    {
     "name": "stdout",
     "output_type": "stream",
     "text": [
      "mkdir: cannot create directory ‘build’: File exists\n"
     ]
    }
   ],
   "source": [
    "!mkdir build"
   ]
  },
  {
   "cell_type": "code",
   "execution_count": 7,
   "metadata": {
    "colab": {
     "base_uri": "https://localhost:8080/",
     "height": 34
    },
    "executionInfo": {
     "elapsed": 594,
     "status": "ok",
     "timestamp": 1603620510959,
     "user": {
      "displayName": "Ghalib Ahmed Tahir",
      "photoUrl": "",
      "userId": "14564760490957802618"
     },
     "user_tz": -480
    },
    "id": "d1KoW9I4fhFA",
    "outputId": "4ea3291a-184d-4e41-c181-ef993ff055e5"
   },
   "outputs": [
    {
     "name": "stdout",
     "output_type": "stream",
     "text": [
      "/content/otl/build\n"
     ]
    }
   ],
   "source": [
    "%cd build"
   ]
  },
  {
   "cell_type": "code",
   "execution_count": 8,
   "metadata": {
    "colab": {
     "base_uri": "https://localhost:8080/",
     "height": 86
    },
    "executionInfo": {
     "elapsed": 1043,
     "status": "ok",
     "timestamp": 1603620512388,
     "user": {
      "displayName": "Ghalib Ahmed Tahir",
      "photoUrl": "",
      "userId": "14564760490957802618"
     },
     "user_tz": -480
    },
    "id": "Jdh5liLWflFj",
    "outputId": "164da8ba-1b31-4842-8a99-63c72190bb9f"
   },
   "outputs": [
    {
     "name": "stdout",
     "output_type": "stream",
     "text": [
      "-- Could NOT find Doxygen (missing: DOXYGEN_EXECUTABLE) \n",
      "-- Configuring done\n",
      "-- Generating done\n",
      "-- Build files have been written to: /content/otl/build\n"
     ]
    }
   ],
   "source": [
    "!sudo cmake ../"
   ]
  },
  {
   "cell_type": "code",
   "execution_count": 9,
   "metadata": {
    "colab": {
     "base_uri": "https://localhost:8080/",
     "height": 34
    },
    "executionInfo": {
     "elapsed": 731,
     "status": "ok",
     "timestamp": 1603620517811,
     "user": {
      "displayName": "Ghalib Ahmed Tahir",
      "photoUrl": "",
      "userId": "14564760490957802618"
     },
     "user_tz": -480
    },
    "id": "jMSnXMmbfsB3",
    "outputId": "0d0c04b9-3ec1-4529-b50d-191cc6e78c94"
   },
   "outputs": [
    {
     "name": "stdout",
     "output_type": "stream",
     "text": [
      "/content/otl/build\n"
     ]
    }
   ],
   "source": [
    "%cd /content/otl/build"
   ]
  },
  {
   "cell_type": "code",
   "execution_count": 10,
   "metadata": {
    "colab": {
     "base_uri": "https://localhost:8080/",
     "height": 139
    },
    "executionInfo": {
     "elapsed": 678,
     "status": "ok",
     "timestamp": 1603620519753,
     "user": {
      "displayName": "Ghalib Ahmed Tahir",
      "photoUrl": "",
      "userId": "14564760490957802618"
     },
     "user_tz": -480
    },
    "id": "HlUSNNE6f_ch",
    "outputId": "d539232c-e5d4-4528-bf8f-01f070454a98"
   },
   "outputs": [
    {
     "name": "stdout",
     "output_type": "stream",
     "text": [
      "[ 47%] Built target OTL\n",
      "[ 52%] Built target otl_oesgp_swig_compilation\n",
      "[ 65%] Built target _otl_oesgp\n",
      "[ 69%] Built target otl_storkgp_swig_compilation\n",
      "[ 82%] Built target _otl_storkgp\n",
      "[ 91%] Built target storkgp_sin\n",
      "[100%] Built target oesgp_sin\n"
     ]
    }
   ],
   "source": [
    "!sudo make"
   ]
  },
  {
   "cell_type": "code",
   "execution_count": 27,
   "metadata": {
    "colab": {
     "base_uri": "https://localhost:8080/",
     "height": 86
    },
    "executionInfo": {
     "elapsed": 1028,
     "status": "ok",
     "timestamp": 1603620414726,
     "user": {
      "displayName": "Ghalib Ahmed Tahir",
      "photoUrl": "",
      "userId": "14564760490957802618"
     },
     "user_tz": -480
    },
    "id": "ZQm57b_kgLqB",
    "outputId": "70c54bda-8ad6-484e-a030-2746894ede2b"
   },
   "outputs": [
    {
     "name": "stdout",
     "output_type": "stream",
     "text": [
      "-- Could NOT find Doxygen (missing: DOXYGEN_EXECUTABLE) \n",
      "-- Configuring done\n",
      "-- Generating done\n",
      "-- Build files have been written to: /content/otl/build\n"
     ]
    }
   ],
   "source": [
    "!sudo cmake ../ -DBUILD_PYTHON_BINDINGS=ON -DBUILD_DOCS=ON"
   ]
  },
  {
   "cell_type": "code",
   "execution_count": 11,
   "metadata": {
    "colab": {
     "base_uri": "https://localhost:8080/",
     "height": 69
    },
    "executionInfo": {
     "elapsed": 711,
     "status": "ok",
     "timestamp": 1603620082715,
     "user": {
      "displayName": "Ghalib Ahmed Tahir",
      "photoUrl": "",
      "userId": "14564760490957802618"
     },
     "user_tz": -480
    },
    "id": "h8nw1lkegYc_",
    "outputId": "8c9d27cb-1c09-4300-e8e8-b659edcc435a"
   },
   "outputs": [
    {
     "name": "stdout",
     "output_type": "stream",
     "text": [
      "CMakeCache.txt       libOTL.a    otl_oesgp.py    otl_storkgp.pyc\n",
      "\u001b[0m\u001b[01;34mCMakeFiles\u001b[0m/          Makefile    \u001b[01;32m_otl_oesgp.so\u001b[0m*  \u001b[01;32m_otl_storkgp.so\u001b[0m*\n",
      "cmake_install.cmake  \u001b[01;32moesgp_sin\u001b[0m*  otl_storkgp.py  \u001b[01;32mstorkgp_sin\u001b[0m*\n"
     ]
    }
   ],
   "source": [
    "ls"
   ]
  },
  {
   "cell_type": "code",
   "execution_count": 12,
   "metadata": {
    "colab": {
     "base_uri": "https://localhost:8080/",
     "height": 34
    },
    "executionInfo": {
     "elapsed": 578,
     "status": "ok",
     "timestamp": 1603620085093,
     "user": {
      "displayName": "Ghalib Ahmed Tahir",
      "photoUrl": "",
      "userId": "14564760490957802618"
     },
     "user_tz": -480
    },
    "id": "lbXO0WIiJ5B1",
    "outputId": "f231e362-d133-4718-ef5a-e9cdeeb0e025"
   },
   "outputs": [
    {
     "data": {
      "text/plain": [
       "u'/content/otl/build'"
      ]
     },
     "execution_count": 12,
     "metadata": {
      "tags": []
     },
     "output_type": "execute_result"
    }
   ],
   "source": [
    "pwd"
   ]
  },
  {
   "cell_type": "code",
   "execution_count": 11,
   "metadata": {
    "colab": {
     "base_uri": "https://localhost:8080/",
     "height": 34
    },
    "executionInfo": {
     "elapsed": 850,
     "status": "ok",
     "timestamp": 1603620525709,
     "user": {
      "displayName": "Ghalib Ahmed Tahir",
      "photoUrl": "",
      "userId": "14564760490957802618"
     },
     "user_tz": -480
    },
    "id": "A0iJTAKbKFDQ",
    "outputId": "35c486a2-82a3-459f-9f5e-69317fcab300"
   },
   "outputs": [
    {
     "name": "stdout",
     "output_type": "stream",
     "text": [
      "/content/otl/build\n"
     ]
    }
   ],
   "source": [
    "%cd /content/otl/build"
   ]
  },
  {
   "cell_type": "code",
   "execution_count": 12,
   "metadata": {
    "colab": {
     "base_uri": "https://localhost:8080/",
     "height": 69
    },
    "executionInfo": {
     "elapsed": 494,
     "status": "ok",
     "timestamp": 1603620526704,
     "user": {
      "displayName": "Ghalib Ahmed Tahir",
      "photoUrl": "",
      "userId": "14564760490957802618"
     },
     "user_tz": -480
    },
    "id": "qt_LsIWPgyKG",
    "outputId": "2f72b06b-4032-4161-a163-438f41517bcb"
   },
   "outputs": [
    {
     "name": "stdout",
     "output_type": "stream",
     "text": [
      "CMakeCache.txt       libOTL.a    otl_oesgp.py    otl_storkgp.pyc\n",
      "\u001b[0m\u001b[01;34mCMakeFiles\u001b[0m/          Makefile    \u001b[01;32m_otl_oesgp.so\u001b[0m*  \u001b[01;32m_otl_storkgp.so\u001b[0m*\n",
      "cmake_install.cmake  \u001b[01;32moesgp_sin\u001b[0m*  otl_storkgp.py  \u001b[01;32mstorkgp_sin\u001b[0m*\n"
     ]
    }
   ],
   "source": [
    "ls"
   ]
  },
  {
   "cell_type": "code",
   "execution_count": 13,
   "metadata": {
    "executionInfo": {
     "elapsed": 1412,
     "status": "ok",
     "timestamp": 1603620550590,
     "user": {
      "displayName": "Ghalib Ahmed Tahir",
      "photoUrl": "",
      "userId": "14564760490957802618"
     },
     "user_tz": -480
    },
    "id": "yZX98nlaKjgQ"
   },
   "outputs": [],
   "source": [
    "!cp -r /content/otl/build/* /content/drive/My\\ Drive/ # please copy the build files to the same path "
   ]
  },
  {
   "cell_type": "code",
   "execution_count": 14,
   "metadata": {
    "colab": {
     "base_uri": "https://localhost:8080/",
     "height": 34
    },
    "executionInfo": {
     "elapsed": 644,
     "status": "ok",
     "timestamp": 1603620553960,
     "user": {
      "displayName": "Ghalib Ahmed Tahir",
      "photoUrl": "",
      "userId": "14564760490957802618"
     },
     "user_tz": -480
    },
    "id": "bABaB4InK8PU",
    "outputId": "7c7e9926-e80c-4d20-df40-d13476f8fd79"
   },
   "outputs": [
    {
     "name": "stdout",
     "output_type": "stream",
     "text": [
      "/content/drive/My Drive\n"
     ]
    }
   ],
   "source": [
    "%cd /content/drive/My\\ Drive/"
   ]
  },
  {
   "cell_type": "code",
   "execution_count": 15,
   "metadata": {
    "colab": {
     "base_uri": "https://localhost:8080/",
     "height": 34
    },
    "executionInfo": {
     "elapsed": 649,
     "status": "ok",
     "timestamp": 1603620556419,
     "user": {
      "displayName": "Ghalib Ahmed Tahir",
      "photoUrl": "",
      "userId": "14564760490957802618"
     },
     "user_tz": -480
    },
    "id": "9H-8_liSMrYb",
    "outputId": "1062e190-43ac-44c0-d4e1-8dba2ecc9365"
   },
   "outputs": [
    {
     "name": "stdout",
     "output_type": "stream",
     "text": [
      "/content/drive/My Drive/MSCodeGoogleColab/OIESGPOESGP\n"
     ]
    }
   ],
   "source": [
    "%cd  /content/drive/'My Drive'/MSCodeGoogleColab/'OIESGPOESGP'/"
   ]
  },
  {
   "cell_type": "code",
   "execution_count": 18,
   "metadata": {
    "colab": {
     "base_uri": "https://localhost:8080/",
     "height": 572
    },
    "executionInfo": {
     "elapsed": 1007,
     "status": "error",
     "timestamp": 1603620588675,
     "user": {
      "displayName": "Ghalib Ahmed Tahir",
      "photoUrl": "",
      "userId": "14564760490957802618"
     },
     "user_tz": -480
    },
    "id": "aQcKFateeG85",
    "outputId": "95ea1536-7203-4031-bfdc-0cfd98542f30"
   },
   "outputs": [
    {
     "ename": "ImportError",
     "evalue": "ignored",
     "output_type": "error",
     "traceback": [
      "\u001b[0;31m---------------------------------------------------------------------------\u001b[0m",
      "\u001b[0;31mImportError\u001b[0m                               Traceback (most recent call last)",
      "\u001b[0;32m/content/drive/My Drive/MSCodeGoogleColab/OIESGPOESGP/otl_oesgp.py\u001b[0m in \u001b[0;36mswig_import_helper\u001b[0;34m()\u001b[0m\n\u001b[1;32m     17\u001b[0m         \u001b[0;32mtry\u001b[0m\u001b[0;34m:\u001b[0m\u001b[0;34m\u001b[0m\u001b[0;34m\u001b[0m\u001b[0m\n\u001b[0;32m---> 18\u001b[0;31m             \u001b[0;32mreturn\u001b[0m \u001b[0mimportlib\u001b[0m\u001b[0;34m.\u001b[0m\u001b[0mimport_module\u001b[0m\u001b[0;34m(\u001b[0m\u001b[0mmname\u001b[0m\u001b[0;34m)\u001b[0m\u001b[0;34m\u001b[0m\u001b[0;34m\u001b[0m\u001b[0m\n\u001b[0m\u001b[1;32m     19\u001b[0m         \u001b[0;32mexcept\u001b[0m \u001b[0mImportError\u001b[0m\u001b[0;34m:\u001b[0m\u001b[0;34m\u001b[0m\u001b[0;34m\u001b[0m\u001b[0m\n",
      "\u001b[0;32m/usr/lib/python3.6/importlib/__init__.py\u001b[0m in \u001b[0;36mimport_module\u001b[0;34m(name, package)\u001b[0m\n\u001b[1;32m    125\u001b[0m             \u001b[0mlevel\u001b[0m \u001b[0;34m+=\u001b[0m \u001b[0;36m1\u001b[0m\u001b[0;34m\u001b[0m\u001b[0;34m\u001b[0m\u001b[0m\n\u001b[0;32m--> 126\u001b[0;31m     \u001b[0;32mreturn\u001b[0m \u001b[0m_bootstrap\u001b[0m\u001b[0;34m.\u001b[0m\u001b[0m_gcd_import\u001b[0m\u001b[0;34m(\u001b[0m\u001b[0mname\u001b[0m\u001b[0;34m[\u001b[0m\u001b[0mlevel\u001b[0m\u001b[0;34m:\u001b[0m\u001b[0;34m]\u001b[0m\u001b[0;34m,\u001b[0m \u001b[0mpackage\u001b[0m\u001b[0;34m,\u001b[0m \u001b[0mlevel\u001b[0m\u001b[0;34m)\u001b[0m\u001b[0;34m\u001b[0m\u001b[0;34m\u001b[0m\u001b[0m\n\u001b[0m\u001b[1;32m    127\u001b[0m \u001b[0;34m\u001b[0m\u001b[0m\n",
      "\u001b[0;32m/usr/lib/python3.6/importlib/_bootstrap.py\u001b[0m in \u001b[0;36m_gcd_import\u001b[0;34m(name, package, level)\u001b[0m\n",
      "\u001b[0;32m/usr/lib/python3.6/importlib/_bootstrap.py\u001b[0m in \u001b[0;36m_find_and_load\u001b[0;34m(name, import_)\u001b[0m\n",
      "\u001b[0;32m/usr/lib/python3.6/importlib/_bootstrap.py\u001b[0m in \u001b[0;36m_find_and_load_unlocked\u001b[0;34m(name, import_)\u001b[0m\n",
      "\u001b[0;32m/usr/lib/python3.6/importlib/_bootstrap.py\u001b[0m in \u001b[0;36m_load_unlocked\u001b[0;34m(spec)\u001b[0m\n",
      "\u001b[0;32m/usr/lib/python3.6/importlib/_bootstrap.py\u001b[0m in \u001b[0;36mmodule_from_spec\u001b[0;34m(spec)\u001b[0m\n",
      "\u001b[0;32m/usr/lib/python3.6/importlib/_bootstrap_external.py\u001b[0m in \u001b[0;36mcreate_module\u001b[0;34m(self, spec)\u001b[0m\n",
      "\u001b[0;32m/usr/lib/python3.6/importlib/_bootstrap.py\u001b[0m in \u001b[0;36m_call_with_frames_removed\u001b[0;34m(f, *args, **kwds)\u001b[0m\n",
      "\u001b[0;31mImportError\u001b[0m: /content/drive/My Drive/MSCodeGoogleColab/OIESGPOESGP/_otl_oesgp.so: undefined symbol: PyInstance_Type",
      "\nDuring handling of the above exception, another exception occurred:\n",
      "\u001b[0;31mImportError\u001b[0m                               Traceback (most recent call last)",
      "\u001b[0;32m<ipython-input-18-ab31f611776d>\u001b[0m in \u001b[0;36m<module>\u001b[0;34m()\u001b[0m\n\u001b[1;32m      3\u001b[0m \u001b[0;32mimport\u001b[0m \u001b[0mnumpy\u001b[0m \u001b[0;32mas\u001b[0m \u001b[0mnp\u001b[0m\u001b[0;34m\u001b[0m\u001b[0;34m\u001b[0m\u001b[0m\n\u001b[1;32m      4\u001b[0m \u001b[0;32mimport\u001b[0m \u001b[0mmatplotlib\u001b[0m\u001b[0;34m.\u001b[0m\u001b[0mpylab\u001b[0m \u001b[0;32mas\u001b[0m \u001b[0mplt\u001b[0m\u001b[0;34m\u001b[0m\u001b[0;34m\u001b[0m\u001b[0m\n\u001b[0;32m----> 5\u001b[0;31m \u001b[0;32mfrom\u001b[0m \u001b[0motl_oesgp\u001b[0m \u001b[0;32mimport\u001b[0m \u001b[0mOESGP\u001b[0m\u001b[0;34m\u001b[0m\u001b[0;34m\u001b[0m\u001b[0m\n\u001b[0m\u001b[1;32m      6\u001b[0m \u001b[0;32mfrom\u001b[0m \u001b[0mnumpy\u001b[0m\u001b[0;34m.\u001b[0m\u001b[0mlinalg\u001b[0m \u001b[0;32mimport\u001b[0m \u001b[0mnorm\u001b[0m\u001b[0;34m\u001b[0m\u001b[0;34m\u001b[0m\u001b[0m\n\u001b[1;32m      7\u001b[0m \u001b[0;32mfrom\u001b[0m \u001b[0msklearn\u001b[0m\u001b[0;34m.\u001b[0m\u001b[0mmetrics\u001b[0m \u001b[0;32mimport\u001b[0m \u001b[0mmean_absolute_error\u001b[0m\u001b[0;34m\u001b[0m\u001b[0;34m\u001b[0m\u001b[0m\n",
      "\u001b[0;32m/content/drive/My Drive/MSCodeGoogleColab/OIESGPOESGP/otl_oesgp.py\u001b[0m in \u001b[0;36m<module>\u001b[0;34m()\u001b[0m\n\u001b[1;32m     19\u001b[0m         \u001b[0;32mexcept\u001b[0m \u001b[0mImportError\u001b[0m\u001b[0;34m:\u001b[0m\u001b[0;34m\u001b[0m\u001b[0;34m\u001b[0m\u001b[0m\n\u001b[1;32m     20\u001b[0m             \u001b[0;32mreturn\u001b[0m \u001b[0mimportlib\u001b[0m\u001b[0;34m.\u001b[0m\u001b[0mimport_module\u001b[0m\u001b[0;34m(\u001b[0m\u001b[0;34m'_otl_oesgp'\u001b[0m\u001b[0;34m)\u001b[0m\u001b[0;34m\u001b[0m\u001b[0;34m\u001b[0m\u001b[0m\n\u001b[0;32m---> 21\u001b[0;31m     \u001b[0m_otl_oesgp\u001b[0m \u001b[0;34m=\u001b[0m \u001b[0mswig_import_helper\u001b[0m\u001b[0;34m(\u001b[0m\u001b[0;34m)\u001b[0m\u001b[0;34m\u001b[0m\u001b[0;34m\u001b[0m\u001b[0m\n\u001b[0m\u001b[1;32m     22\u001b[0m     \u001b[0;32mdel\u001b[0m \u001b[0mswig_import_helper\u001b[0m\u001b[0;34m\u001b[0m\u001b[0;34m\u001b[0m\u001b[0m\n\u001b[1;32m     23\u001b[0m \u001b[0;32melif\u001b[0m \u001b[0m_swig_python_version_info\u001b[0m \u001b[0;34m>=\u001b[0m \u001b[0;34m(\u001b[0m\u001b[0;36m2\u001b[0m\u001b[0;34m,\u001b[0m \u001b[0;36m6\u001b[0m\u001b[0;34m,\u001b[0m \u001b[0;36m0\u001b[0m\u001b[0;34m)\u001b[0m\u001b[0;34m:\u001b[0m\u001b[0;34m\u001b[0m\u001b[0;34m\u001b[0m\u001b[0m\n",
      "\u001b[0;32m/content/drive/My Drive/MSCodeGoogleColab/OIESGPOESGP/otl_oesgp.py\u001b[0m in \u001b[0;36mswig_import_helper\u001b[0;34m()\u001b[0m\n\u001b[1;32m     18\u001b[0m             \u001b[0;32mreturn\u001b[0m \u001b[0mimportlib\u001b[0m\u001b[0;34m.\u001b[0m\u001b[0mimport_module\u001b[0m\u001b[0;34m(\u001b[0m\u001b[0mmname\u001b[0m\u001b[0;34m)\u001b[0m\u001b[0;34m\u001b[0m\u001b[0;34m\u001b[0m\u001b[0m\n\u001b[1;32m     19\u001b[0m         \u001b[0;32mexcept\u001b[0m \u001b[0mImportError\u001b[0m\u001b[0;34m:\u001b[0m\u001b[0;34m\u001b[0m\u001b[0;34m\u001b[0m\u001b[0m\n\u001b[0;32m---> 20\u001b[0;31m             \u001b[0;32mreturn\u001b[0m \u001b[0mimportlib\u001b[0m\u001b[0;34m.\u001b[0m\u001b[0mimport_module\u001b[0m\u001b[0;34m(\u001b[0m\u001b[0;34m'_otl_oesgp'\u001b[0m\u001b[0;34m)\u001b[0m\u001b[0;34m\u001b[0m\u001b[0;34m\u001b[0m\u001b[0m\n\u001b[0m\u001b[1;32m     21\u001b[0m     \u001b[0m_otl_oesgp\u001b[0m \u001b[0;34m=\u001b[0m \u001b[0mswig_import_helper\u001b[0m\u001b[0;34m(\u001b[0m\u001b[0;34m)\u001b[0m\u001b[0;34m\u001b[0m\u001b[0;34m\u001b[0m\u001b[0m\n\u001b[1;32m     22\u001b[0m     \u001b[0;32mdel\u001b[0m \u001b[0mswig_import_helper\u001b[0m\u001b[0;34m\u001b[0m\u001b[0;34m\u001b[0m\u001b[0m\n",
      "\u001b[0;32m/usr/lib/python3.6/importlib/__init__.py\u001b[0m in \u001b[0;36mimport_module\u001b[0;34m(name, package)\u001b[0m\n\u001b[1;32m    124\u001b[0m                 \u001b[0;32mbreak\u001b[0m\u001b[0;34m\u001b[0m\u001b[0;34m\u001b[0m\u001b[0m\n\u001b[1;32m    125\u001b[0m             \u001b[0mlevel\u001b[0m \u001b[0;34m+=\u001b[0m \u001b[0;36m1\u001b[0m\u001b[0;34m\u001b[0m\u001b[0;34m\u001b[0m\u001b[0m\n\u001b[0;32m--> 126\u001b[0;31m     \u001b[0;32mreturn\u001b[0m \u001b[0m_bootstrap\u001b[0m\u001b[0;34m.\u001b[0m\u001b[0m_gcd_import\u001b[0m\u001b[0;34m(\u001b[0m\u001b[0mname\u001b[0m\u001b[0;34m[\u001b[0m\u001b[0mlevel\u001b[0m\u001b[0;34m:\u001b[0m\u001b[0;34m]\u001b[0m\u001b[0;34m,\u001b[0m \u001b[0mpackage\u001b[0m\u001b[0;34m,\u001b[0m \u001b[0mlevel\u001b[0m\u001b[0;34m)\u001b[0m\u001b[0;34m\u001b[0m\u001b[0;34m\u001b[0m\u001b[0m\n\u001b[0m\u001b[1;32m    127\u001b[0m \u001b[0;34m\u001b[0m\u001b[0m\n\u001b[1;32m    128\u001b[0m \u001b[0;34m\u001b[0m\u001b[0m\n",
      "\u001b[0;31mImportError\u001b[0m: /content/drive/My Drive/MSCodeGoogleColab/OIESGPOESGP/_otl_oesgp.so: undefined symbol: PyInstance_Type",
      "",
      "\u001b[0;31m---------------------------------------------------------------------------\u001b[0;32m\nNOTE: If your import is failing due to a missing package, you can\nmanually install dependencies using either !pip or !apt.\n\nTo view examples of installing some common dependencies, click the\n\"Open Examples\" button below.\n\u001b[0;31m---------------------------------------------------------------------------\u001b[0m\n"
     ]
    }
   ],
   "source": [
    "import pandas as pd\n",
    "from pandas import read_csv\n",
    "import numpy as np\n",
    "import matplotlib.pylab as plt\n",
    "from otl_oesgp import OESGP\n",
    "from numpy.linalg import norm\n",
    "from sklearn.metrics import mean_absolute_error\n",
    "from sklearn.metrics import mean_squared_error\n",
    "import csv\n",
    "import os\n",
    "import datetime\n",
    "from otl_storkgp import STORKGP\n",
    "from numpy import sin, array\n",
    "from numpy.linalg import norm"
   ]
  },
  {
   "cell_type": "code",
   "execution_count": 17,
   "metadata": {
    "colab": {
     "base_uri": "https://localhost:8080/",
     "height": 131
    },
    "executionInfo": {
     "elapsed": 685,
     "status": "error",
     "timestamp": 1603620568279,
     "user": {
      "displayName": "Ghalib Ahmed Tahir",
      "photoUrl": "",
      "userId": "14564760490957802618"
     },
     "user_tz": -480
    },
    "id": "kFnjIf6zIxQN",
    "outputId": "c66b814c-842a-48cb-cdf2-5dd4ccbf062f"
   },
   "outputs": [
    {
     "ename": "SyntaxError",
     "evalue": "ignored",
     "output_type": "error",
     "traceback": [
      "\u001b[0;36m  File \u001b[0;32m\"<ipython-input-17-b713181208e4>\"\u001b[0;36m, line \u001b[0;32m41\u001b[0m\n\u001b[0;31m    print \"Error: \", error\u001b[0m\n\u001b[0m                  ^\u001b[0m\n\u001b[0;31mSyntaxError\u001b[0m\u001b[0;31m:\u001b[0m Missing parentheses in call to 'print'. Did you mean print(\"Error: \", error)?\n"
     ]
    }
   ],
   "source": [
    "    storkgp = STORKGP()\n",
    "\n",
    "    # Our parameters\n",
    "    ip_dim = 3\n",
    "    op_dim = 1\n",
    "\n",
    "    tau = 20                    #length of memory\n",
    "\n",
    "    l = 0.5                    #kernel parameters\n",
    "    rho = 0.99\n",
    "    alpha = 1.0\n",
    "\n",
    "    noise = 0.0001              #SOGP params\n",
    "    epsilon = 1e-4\n",
    "    capacity = 100\n",
    "\n",
    "    kernel_params = [l, rho, alpha, ip_dim]\n",
    "\n",
    "    max_iter = 1000\n",
    "\n",
    "    storkgp.init(\n",
    "        ip_dim, op_dim, tau, STORKGP.RECURSIVE_GAUSSIAN, kernel_params, noise, epsilon, capacity=capacity)\n",
    "\n",
    "\n",
    "    #loop through some sample code\n",
    "    for i in range(0,1000):\n",
    "        input = [sin(i*0.01)]\n",
    "        output = [sin((i + 1)*0.01)]\n",
    "\n",
    "        #update the reservoir\n",
    "        oesgp.update(input)\n",
    "        #oesgp.update_wfeedback(input, input)\n",
    "\n",
    "        prediction = []\n",
    "        variance = []\n",
    "        #make a prediction\n",
    "        oesgp.predict(prediction, variance)\n",
    "\n",
    "        #get and print the error\n",
    "        error = norm(array(prediction) - array(output))\n",
    "        print (\"Error: \", error)\n",
    "\n",
    "        #train the model\n",
    "        oesgp.train(output)"
   ]
  }
 ],
 "metadata": {
  "colab": {
   "collapsed_sections": [],
   "name": "oiesgp_timeseries_prediction.ipynb",
   "provenance": [
    {
     "file_id": "1DJWoqIRNg4POJfRLkVsPYHXi9l-bafUp",
     "timestamp": 1603618348917
    }
   ]
  },
  "kernelspec": {
   "display_name": "Python 3 (ipykernel)",
   "language": "python",
   "name": "python3"
  },
  "language_info": {
   "codemirror_mode": {
    "name": "ipython",
    "version": 3
   },
   "file_extension": ".py",
   "mimetype": "text/x-python",
   "name": "python",
   "nbconvert_exporter": "python",
   "pygments_lexer": "ipython3",
   "version": "3.9.12"
  }
 },
 "nbformat": 4,
 "nbformat_minor": 1
}
