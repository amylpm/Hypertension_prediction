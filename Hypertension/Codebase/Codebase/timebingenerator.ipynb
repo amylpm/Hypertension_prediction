{
 "cells": [
  {
   "cell_type": "code",
   "execution_count": 0,
   "metadata": {
    "colab": {},
    "colab_type": "code",
    "id": "pGNc0AwqFO5c"
   },
   "outputs": [],
   "source": [
    "from google.colab import drive\n",
    "drive.mount('/content/drive')"
   ]
  },
  {
   "cell_type": "code",
   "execution_count": 0,
   "metadata": {
    "colab": {},
    "colab_type": "code",
    "id": "WMhi79GnItgU"
   },
   "outputs": [],
   "source": [
    "!sudo pip install gmr"
   ]
  },
  {
   "cell_type": "code",
   "execution_count": 3,
   "metadata": {
    "colab": {
     "base_uri": "https://localhost:8080/",
     "height": 34
    },
    "colab_type": "code",
    "executionInfo": {
     "elapsed": 742,
     "status": "ok",
     "timestamp": 1568754614806,
     "user": {
      "displayName": "SUNDUS ABRAR STUDENT",
      "photoUrl": "",
      "userId": "04348364771569198575"
     },
     "user_tz": -120
    },
    "id": "GD3HTjgppLby",
    "outputId": "0dbff605-3f9f-4a30-ced9-219cdcc97d30"
   },
   "outputs": [
    {
     "name": "stdout",
     "output_type": "stream",
     "text": [
      "2018-12-17 17:00:00\n"
     ]
    }
   ],
   "source": [
    "import datetime\n",
    "\n",
    "myDate = \"17/12/18 17:00\"\n",
    "my_time = datetime.datetime.strptime(myDate,'%d/%m/%y %H:%M')\n",
    "print(my_time)\n",
    "\n",
    "#stDate = \"98/04/18 16:48:36\"\n",
    "#dat_time = datetime.datetime.strptime(stDate,'%y/%m/%d %H:%M:%S')\n",
    "#print(dat_time)"
   ]
  },
  {
   "cell_type": "code",
   "execution_count": 0,
   "metadata": {
    "colab": {},
    "colab_type": "code",
    "id": "g2a37keBFSzb"
   },
   "outputs": [],
   "source": [
    "import datetime as dt\n",
    "import pandas as pd\n",
    "basedir = '/content/drive/My Drive/MSCodeGoogleColab/'\n",
    "filename = 'ajantip_complete_timeseries.csv' #'timebin2.csv'\n",
    "\n",
    "data = pd.read_csv(basedir+filename, skiprows=1) #header=None)\n",
    "idx = 2                  #0 = systolic | 1 = diastolic | 2 = heartrate\n",
    "bloodpressure = data.iloc[:, idx]\n",
    "x = data.iloc[:, 3]\n",
    " \n",
    "timeslot = pd.to_datetime(x, format=\"%d/%m/%y %H:%M\")\n",
    "print(timeslot)"
   ]
  },
  {
   "cell_type": "code",
   "execution_count": 0,
   "metadata": {
    "colab": {},
    "colab_type": "code",
    "id": "eX7clF65J95o"
   },
   "outputs": [],
   "source": [
    "def createbin(binnum):\n",
    "  \n",
    "  selectedbin = binnum\n",
    "  binname = basedir+'/ajantip_results/'+str(idx)+'_time_bins/'+ str(selectedbin) + '.csv' #basedir+'/outputbindata/bin_' + str(selectedbin) + '.csv'\n",
    "\n",
    "  import os\n",
    "  import numpy as np\n",
    "\n",
    "  if not os.path.exists(os.path.dirname(binname)):\n",
    "      try:\n",
    "          os.makedirs(os.path.dirname(binname))\n",
    "      except OSError as exc:\n",
    "          print(exc.errno)\n",
    "\n",
    "  rowlist = []\n",
    "  #yarray = []\n",
    "  first = 0\n",
    "\n",
    "  for i in range(0, len(timeslot) - 1):\n",
    "      p = timeslot[i]\n",
    "\n",
    "      if p.hour == selectedbin:\n",
    "          rowlist.append([p, bloodpressure[i]])\n",
    "          #if first == 0:\n",
    "          #    first = 1\n",
    "          #else:\n",
    "          #    yarray.append([bloodpressure[i]])\n",
    "\n",
    "\n",
    "  colname = ['time', 'X']\n",
    "  bindata = pd.DataFrame(rowlist, columns=colname)\n",
    "  bindata.to_csv(binname, index=False, sep=',')\n"
   ]
  },
  {
   "cell_type": "code",
   "execution_count": 0,
   "metadata": {
    "colab": {},
    "colab_type": "code",
    "id": "qq9E3C13vKNW"
   },
   "outputs": [],
   "source": [
    "\n",
    "\n",
    "for i in range (0, 24):\n",
    "  createbin(i)\n",
    "  print('created bin: '+str(i))"
   ]
  }
 ],
 "metadata": {
  "colab": {
   "collapsed_sections": [],
   "name": "timebingenerator.ipynb",
   "provenance": []
  },
  "kernelspec": {
   "display_name": "Python 3 (ipykernel)",
   "language": "python",
   "name": "python3"
  },
  "language_info": {
   "codemirror_mode": {
    "name": "ipython",
    "version": 3
   },
   "file_extension": ".py",
   "mimetype": "text/x-python",
   "name": "python",
   "nbconvert_exporter": "python",
   "pygments_lexer": "ipython3",
   "version": "3.9.12"
  }
 },
 "nbformat": 4,
 "nbformat_minor": 1
}
