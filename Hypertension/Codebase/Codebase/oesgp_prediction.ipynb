{
 "cells": [
  {
   "cell_type": "code",
   "execution_count": null,
   "metadata": {
    "colab": {
     "base_uri": "https://localhost:8080/",
     "height": 120
    },
    "colab_type": "code",
    "executionInfo": {
     "elapsed": 28601,
     "status": "ok",
     "timestamp": 1595954972869,
     "user": {
      "displayName": "Ghalib Ahmed Tahir",
      "photoUrl": "",
      "userId": "14564760490957802618"
     },
     "user_tz": -480
    },
    "id": "Xhara5PSd_Uj",
    "outputId": "d4c53d89-ac05-485d-f8d0-def72fa59fff"
   },
   "outputs": [
    {
     "name": "stdout",
     "output_type": "stream",
     "text": [
      "Go to this URL in a browser: https://accounts.google.com/o/oauth2/auth?client_id=947318989803-6bn6qk8qdgf4n4g3pfee6491hc0brc4i.apps.googleusercontent.com&redirect_uri=urn%3aietf%3awg%3aoauth%3a2.0%3aoob&response_type=code&scope=email%20https%3a%2f%2fwww.googleapis.com%2fauth%2fdocs.test%20https%3a%2f%2fwww.googleapis.com%2fauth%2fdrive%20https%3a%2f%2fwww.googleapis.com%2fauth%2fdrive.photos.readonly%20https%3a%2f%2fwww.googleapis.com%2fauth%2fpeopleapi.readonly\n",
      "\n",
      "Enter your authorization code:\n",
      "··········\n",
      "Mounted at /content/drive\n"
     ]
    }
   ],
   "source": [
    "from google.colab import drive\n",
    "drive.mount('/content/drive')"
   ]
  },
  {
   "cell_type": "code",
   "execution_count": null,
   "metadata": {
    "colab": {
     "base_uri": "https://localhost:8080/",
     "height": 683
    },
    "colab_type": "code",
    "executionInfo": {
     "elapsed": 36257,
     "status": "ok",
     "timestamp": 1595954981610,
     "user": {
      "displayName": "Ghalib Ahmed Tahir",
      "photoUrl": "",
      "userId": "14564760490957802618"
     },
     "user_tz": -480
    },
    "id": "owSQSEbIfDwQ",
    "outputId": "918cfd62-65fe-486e-ac9f-e42a1aec0536"
   },
   "outputs": [
    {
     "name": "stdout",
     "output_type": "stream",
     "text": [
      "Reading package lists... Done\n",
      "Building dependency tree       \n",
      "Reading state information... Done\n",
      "cmake is already the newest version (3.10.2-1ubuntu2.18.04.1).\n",
      "The following package was automatically installed and is no longer required:\n",
      "  libnvidia-common-440\n",
      "Use 'sudo apt autoremove' to remove it.\n",
      "Suggested packages:\n",
      "  libeigen3-doc libmrpt-dev swig-doc swig-examples swig3.0-examples\n",
      "  swig3.0-doc\n",
      "The following NEW packages will be installed:\n",
      "  libeigen3-dev swig swig3.0\n",
      "0 upgraded, 3 newly installed, 0 to remove and 35 not upgraded.\n",
      "Need to get 1,910 kB of archives.\n",
      "After this operation, 13.0 MB of additional disk space will be used.\n",
      "Get:1 http://archive.ubuntu.com/ubuntu bionic/universe amd64 swig3.0 amd64 3.0.12-1 [1,094 kB]\n",
      "Get:2 http://archive.ubuntu.com/ubuntu bionic/universe amd64 swig amd64 3.0.12-1 [6,460 B]\n",
      "Get:3 http://archive.ubuntu.com/ubuntu bionic/universe amd64 libeigen3-dev all 3.3.4-4 [810 kB]\n",
      "Fetched 1,910 kB in 2s (1,251 kB/s)\n",
      "debconf: unable to initialize frontend: Dialog\n",
      "debconf: (No usable dialog-like program is installed, so the dialog based frontend cannot be used. at /usr/share/perl5/Debconf/FrontEnd/Dialog.pm line 76, <> line 3.)\n",
      "debconf: falling back to frontend: Readline\n",
      "debconf: unable to initialize frontend: Readline\n",
      "debconf: (This frontend requires a controlling tty.)\n",
      "debconf: falling back to frontend: Teletype\n",
      "dpkg-preconfigure: unable to re-open stdin: \n",
      "Selecting previously unselected package swig3.0.\n",
      "(Reading database ... 144465 files and directories currently installed.)\n",
      "Preparing to unpack .../swig3.0_3.0.12-1_amd64.deb ...\n",
      "Unpacking swig3.0 (3.0.12-1) ...\n",
      "Selecting previously unselected package swig.\n",
      "Preparing to unpack .../swig_3.0.12-1_amd64.deb ...\n",
      "Unpacking swig (3.0.12-1) ...\n",
      "Selecting previously unselected package libeigen3-dev.\n",
      "Preparing to unpack .../libeigen3-dev_3.3.4-4_all.deb ...\n",
      "Unpacking libeigen3-dev (3.3.4-4) ...\n",
      "Setting up swig3.0 (3.0.12-1) ...\n",
      "Setting up libeigen3-dev (3.3.4-4) ...\n",
      "Setting up swig (3.0.12-1) ...\n",
      "Processing triggers for man-db (2.8.3-2ubuntu0.1) ...\n"
     ]
    }
   ],
   "source": [
    "!sudo apt-get install libeigen3-dev cmake swig"
   ]
  },
  {
   "cell_type": "code",
   "execution_count": null,
   "metadata": {
    "colab": {
     "base_uri": "https://localhost:8080/",
     "height": 100
    },
    "colab_type": "code",
    "executionInfo": {
     "elapsed": 15522,
     "status": "ok",
     "timestamp": 1595954983800,
     "user": {
      "displayName": "Ghalib Ahmed Tahir",
      "photoUrl": "",
      "userId": "14564760490957802618"
     },
     "user_tz": -480
    },
    "id": "WPEgHuEhfI3E",
    "outputId": "1dc8e337-4e36-4cd3-a3b3-0cc9d4db3802"
   },
   "outputs": [
    {
     "name": "stdout",
     "output_type": "stream",
     "text": [
      "Cloning into 'otl'...\n",
      "remote: Enumerating objects: 594, done.\u001b[K\n",
      "remote: Total 594 (delta 0), reused 0 (delta 0), pack-reused 594\u001b[K\n",
      "Receiving objects: 100% (594/594), 482.99 KiB | 12.38 MiB/s, done.\n",
      "Resolving deltas: 100% (304/304), done.\n"
     ]
    }
   ],
   "source": [
    "!git clone https://github.com/x75/otl.git"
   ]
  },
  {
   "cell_type": "code",
   "execution_count": null,
   "metadata": {
    "colab": {
     "base_uri": "https://localhost:8080/",
     "height": 33
    },
    "colab_type": "code",
    "executionInfo": {
     "elapsed": 13186,
     "status": "ok",
     "timestamp": 1595954983801,
     "user": {
      "displayName": "Ghalib Ahmed Tahir",
      "photoUrl": "",
      "userId": "14564760490957802618"
     },
     "user_tz": -480
    },
    "id": "4Nu-U5PgfXpv",
    "outputId": "1706ccd9-47b4-488a-e743-89b039d9d8ca"
   },
   "outputs": [
    {
     "name": "stdout",
     "output_type": "stream",
     "text": [
      "/content/otl\n"
     ]
    }
   ],
   "source": [
    "%cd otl"
   ]
  },
  {
   "cell_type": "code",
   "execution_count": null,
   "metadata": {
    "colab": {},
    "colab_type": "code",
    "id": "ZH4w5NYGfbLX"
   },
   "outputs": [],
   "source": [
    "!mkdir build"
   ]
  },
  {
   "cell_type": "code",
   "execution_count": null,
   "metadata": {
    "colab": {
     "base_uri": "https://localhost:8080/",
     "height": 33
    },
    "colab_type": "code",
    "executionInfo": {
     "elapsed": 12464,
     "status": "ok",
     "timestamp": 1595954985631,
     "user": {
      "displayName": "Ghalib Ahmed Tahir",
      "photoUrl": "",
      "userId": "14564760490957802618"
     },
     "user_tz": -480
    },
    "id": "d1KoW9I4fhFA",
    "outputId": "cf928b94-92cd-445a-ec7e-96138ba4ca92"
   },
   "outputs": [
    {
     "name": "stdout",
     "output_type": "stream",
     "text": [
      "/content/otl/build\n"
     ]
    }
   ],
   "source": [
    "%cd build"
   ]
  },
  {
   "cell_type": "code",
   "execution_count": null,
   "metadata": {
    "colab": {
     "base_uri": "https://localhost:8080/",
     "height": 300
    },
    "colab_type": "code",
    "executionInfo": {
     "elapsed": 15131,
     "status": "ok",
     "timestamp": 1595954990082,
     "user": {
      "displayName": "Ghalib Ahmed Tahir",
      "photoUrl": "",
      "userId": "14564760490957802618"
     },
     "user_tz": -480
    },
    "id": "Jdh5liLWflFj",
    "outputId": "9d6ebae5-3009-48bd-8c6d-5e5d1856f076"
   },
   "outputs": [
    {
     "name": "stdout",
     "output_type": "stream",
     "text": [
      "-- The C compiler identification is GNU 7.5.0\n",
      "-- The CXX compiler identification is GNU 7.5.0\n",
      "-- Check for working C compiler: /usr/bin/cc\n",
      "-- Check for working C compiler: /usr/bin/cc -- works\n",
      "-- Detecting C compiler ABI info\n",
      "-- Detecting C compiler ABI info - done\n",
      "-- Detecting C compile features\n",
      "-- Detecting C compile features - done\n",
      "-- Check for working CXX compiler: /usr/bin/c++\n",
      "-- Check for working CXX compiler: /usr/bin/c++ -- works\n",
      "-- Detecting CXX compiler ABI info\n",
      "-- Detecting CXX compiler ABI info - done\n",
      "-- Detecting CXX compile features\n",
      "-- Detecting CXX compile features - done\n",
      "-- Configuring done\n",
      "-- Generating done\n",
      "-- Build files have been written to: /content/otl/build\n"
     ]
    }
   ],
   "source": [
    "!sudo cmake ../"
   ]
  },
  {
   "cell_type": "code",
   "execution_count": null,
   "metadata": {
    "colab": {
     "base_uri": "https://localhost:8080/",
     "height": 33
    },
    "colab_type": "code",
    "executionInfo": {
     "elapsed": 13198,
     "status": "ok",
     "timestamp": 1595954990084,
     "user": {
      "displayName": "Ghalib Ahmed Tahir",
      "photoUrl": "",
      "userId": "14564760490957802618"
     },
     "user_tz": -480
    },
    "id": "jMSnXMmbfsB3",
    "outputId": "ade87d17-60f7-4b2e-f21f-80b691c0ebd3"
   },
   "outputs": [
    {
     "name": "stdout",
     "output_type": "stream",
     "text": [
      "/content/otl/build\n"
     ]
    }
   ],
   "source": [
    "%cd /content/otl/build"
   ]
  },
  {
   "cell_type": "code",
   "execution_count": null,
   "metadata": {
    "colab": {
     "base_uri": "https://localhost:8080/",
     "height": 366
    },
    "colab_type": "code",
    "executionInfo": {
     "elapsed": 33815,
     "status": "ok",
     "timestamp": 1595955012811,
     "user": {
      "displayName": "Ghalib Ahmed Tahir",
      "photoUrl": "",
      "userId": "14564760490957802618"
     },
     "user_tz": -480
    },
    "id": "HlUSNNE6f_ch",
    "outputId": "dc7eee0b-0e5d-48b0-f821-9929060623d0"
   },
   "outputs": [
    {
     "name": "stdout",
     "output_type": "stream",
     "text": [
      "\u001b[35m\u001b[1mScanning dependencies of target OTL\u001b[0m\n",
      "[  6%] \u001b[32mBuilding CXX object CMakeFiles/OTL.dir/src/libOTL/otl_helpers.cpp.o\u001b[0m\n",
      "[ 13%] \u001b[32mBuilding CXX object CMakeFiles/OTL.dir/src/libOTL/otl_kernel_gaussian.cpp.o\u001b[0m\n",
      "[ 20%] \u001b[32mBuilding CXX object CMakeFiles/OTL.dir/src/libOTL/otl_kernel_recursive_gaussian.cpp.o\u001b[0m\n",
      "[ 26%] \u001b[32mBuilding CXX object CMakeFiles/OTL.dir/src/libOTL/otl_kernel_recursive_equality_gaussian.cpp.o\u001b[0m\n",
      "[ 33%] \u001b[32mBuilding CXX object CMakeFiles/OTL.dir/src/libOTL/otl_rls.cpp.o\u001b[0m\n",
      "[ 40%] \u001b[32mBuilding CXX object CMakeFiles/OTL.dir/src/libOTL/otl_reservoir.cpp.o\u001b[0m\n",
      "[ 46%] \u001b[32mBuilding CXX object CMakeFiles/OTL.dir/src/libOTL/otl_window.cpp.o\u001b[0m\n",
      "[ 53%] \u001b[32mBuilding CXX object CMakeFiles/OTL.dir/src/libOTL/otl_sogp.cpp.o\u001b[0m\n",
      "[ 60%] \u001b[32mBuilding CXX object CMakeFiles/OTL.dir/src/libOTL/otl_oesgp.cpp.o\u001b[0m\n",
      "[ 66%] \u001b[32mBuilding CXX object CMakeFiles/OTL.dir/src/libOTL/otl_storkgp.cpp.o\u001b[0m\n",
      "[ 73%] \u001b[32m\u001b[1mLinking CXX static library libOTL.a\u001b[0m\n",
      "[ 73%] Built target OTL\n",
      "\u001b[35m\u001b[1mScanning dependencies of target storkgp_sin\u001b[0m\n",
      "[ 80%] \u001b[32mBuilding CXX object CMakeFiles/storkgp_sin.dir/src/examples/storkgp_sin.cpp.o\u001b[0m\n",
      "[ 86%] \u001b[32m\u001b[1mLinking CXX executable storkgp_sin\u001b[0m\n",
      "[ 86%] Built target storkgp_sin\n",
      "\u001b[35m\u001b[1mScanning dependencies of target oesgp_sin\u001b[0m\n",
      "[ 93%] \u001b[32mBuilding CXX object CMakeFiles/oesgp_sin.dir/src/examples/oesgp_sin.cpp.o\u001b[0m\n",
      "[100%] \u001b[32m\u001b[1mLinking CXX executable oesgp_sin\u001b[0m\n",
      "[100%] Built target oesgp_sin\n"
     ]
    }
   ],
   "source": [
    "!sudo make"
   ]
  },
  {
   "cell_type": "code",
   "execution_count": null,
   "metadata": {
    "colab": {
     "base_uri": "https://localhost:8080/",
     "height": 116
    },
    "colab_type": "code",
    "executionInfo": {
     "elapsed": 33095,
     "status": "ok",
     "timestamp": 1595955014542,
     "user": {
      "displayName": "Ghalib Ahmed Tahir",
      "photoUrl": "",
      "userId": "14564760490957802618"
     },
     "user_tz": -480
    },
    "id": "ZQm57b_kgLqB",
    "outputId": "63f01077-c55d-4ed8-b36b-25a8b4134458"
   },
   "outputs": [
    {
     "name": "stdout",
     "output_type": "stream",
     "text": [
      "-- Could NOT find Doxygen (missing: DOXYGEN_EXECUTABLE) \n",
      "-- Found SWIG: /usr/bin/swig3.0 (found version \"3.0.12\") \n",
      "-- Found PythonLibs: /usr/lib/x86_64-linux-gnu/libpython3.6m.so (found version \"3.6.9\") \n",
      "-- Configuring done\n",
      "-- Generating done\n",
      "-- Build files have been written to: /content/otl/build\n"
     ]
    }
   ],
   "source": [
    "!sudo cmake ../ -DBUILD_PYTHON_BINDINGS=ON -DBUILD_DOCS=ON"
   ]
  },
  {
   "cell_type": "code",
   "execution_count": null,
   "metadata": {
    "colab": {
     "base_uri": "https://localhost:8080/",
     "height": 54
    },
    "colab_type": "code",
    "executionInfo": {
     "elapsed": 2709,
     "status": "ok",
     "timestamp": 1567252184146,
     "user": {
      "displayName": "Ghalib Ahmed Tahir",
      "photoUrl": "",
      "userId": "14564760490957802618"
     },
     "user_tz": -480
    },
    "id": "h8nw1lkegYc_",
    "outputId": "aba94952-21c0-4629-95cc-23dd3b6c6225"
   },
   "outputs": [
    {
     "name": "stdout",
     "output_type": "stream",
     "text": [
      "CMakeCache.txt  cmake_install.cmake  Makefile    \u001b[0m\u001b[01;32mstorkgp_sin\u001b[0m*\n",
      "\u001b[01;34mCMakeFiles\u001b[0m/     libOTL.a             \u001b[01;32moesgp_sin\u001b[0m*\n"
     ]
    }
   ],
   "source": [
    "ls"
   ]
  },
  {
   "cell_type": "code",
   "execution_count": null,
   "metadata": {
    "colab": {
     "base_uri": "https://localhost:8080/",
     "height": 33
    },
    "colab_type": "code",
    "executionInfo": {
     "elapsed": 754,
     "status": "ok",
     "timestamp": 1595955015305,
     "user": {
      "displayName": "Ghalib Ahmed Tahir",
      "photoUrl": "",
      "userId": "14564760490957802618"
     },
     "user_tz": -480
    },
    "id": "qt_LsIWPgyKG",
    "outputId": "e18656c3-18fe-4bcf-dc17-918b0289fb71"
   },
   "outputs": [
    {
     "name": "stdout",
     "output_type": "stream",
     "text": [
      "/content/drive/My Drive/MSCodeGoogleColab/OIESGPOESGP\n"
     ]
    }
   ],
   "source": [
    "%cd  /content/drive/'My Drive'/MSCodeGoogleColab/'OIESGPOESGP'/"
   ]
  },
  {
   "cell_type": "code",
   "execution_count": null,
   "metadata": {
    "colab": {},
    "colab_type": "code",
    "id": "aQcKFateeG85"
   },
   "outputs": [],
   "source": [
    "import pandas as pd\n",
    "from pandas import read_csv\n",
    "import numpy as np\n",
    "import matplotlib.pylab as plt\n",
    "from otl_oesgp import OESGP\n",
    "from numpy.linalg import norm\n",
    "from sklearn.metrics import mean_absolute_error\n",
    "from sklearn.metrics import mean_squared_error\n",
    "import csv\n",
    "import os\n",
    "import datetime\n"
   ]
  },
  {
   "cell_type": "code",
   "execution_count": null,
   "metadata": {
    "colab": {},
    "colab_type": "code",
    "id": "LzuEmTyFh3tH"
   },
   "outputs": [],
   "source": [
    "\n",
    "\n",
    "    \n",
    "    # Create our OESGP object\n",
    "    oesgp = OESGP()\n",
    "\n",
    "    # Our parameters\n",
    "    ip_dim = 1\n",
    "    op_dim = 1\n",
    "\n",
    "    res_size = 100\n",
    "    input_weight = 0.2          #decreasing helps graph become similar\n",
    "    output_feedback_weight = 0.1    #changing has no effect\n",
    "    activation_function = 1\n",
    "    leak_rate = 0.0\n",
    "    connectivity = 0.1\n",
    "    spectral_radius = 0.6           #optimal at 0.6, 0.4 makes error bigger\n",
    "    kernel_params = [3.0, 3.0]      #optimal at 3, 3\n",
    "    noise = 0.0001\n",
    "    epsilon = 1e-3\n",
    "    capacity = 100\n",
    "    random_seed = 0\n",
    "\n",
    "    # Initialise our OESGP\n",
    "    oesgp.init(ip_dim, op_dim, res_size, input_weight, output_feedback_weight,\n",
    "               activation_function, leak_rate, connectivity, spectral_radius,\n",
    "               False, kernel_params, noise, epsilon, capacity, random_seed)"
   ]
  },
  {
   "cell_type": "code",
   "execution_count": null,
   "metadata": {
    "colab": {
     "base_uri": "https://localhost:8080/",
     "height": 54
    },
    "colab_type": "code",
    "executionInfo": {
     "elapsed": 11457,
     "status": "ok",
     "timestamp": 1567254956603,
     "user": {
      "displayName": "Ghalib Ahmed Tahir",
      "photoUrl": "",
      "userId": "14564760490957802618"
     },
     "user_tz": -480
    },
    "id": "dlm-GSytiFIe",
    "outputId": "66587279-f350-4a9c-998d-56747713cfca"
   },
   "outputs": [
    {
     "name": "stdout",
     "output_type": "stream",
     "text": [
      "/content/drive/My Drive/MSCodeGoogleColab/OIESGPOESGP/OESGPResults/prediction_0_Etiqa_ajanthini.csv\n",
      "/content/drive/My Drive/MSCodeGoogleColab/OIESGPOESGP/Etiqa_ajanthini.csv\n"
     ]
    }
   ],
   "source": [
    "    typee = 0  # 0 = systolic, 1 = diastolic, 2 = heartrate\n",
    "    basedir = \"/content/drive/My Drive/MSCodeGoogleColab/OIESGPOESGP\"\n",
    "    filename = 'Etiqa_ajanthini'\n",
    "    outputfilename = basedir+\"/OESGPResults/\" + \"prediction_\" +str(typee) +\"_\" + filename + \".csv\"\n",
    "    print(outputfilename)\n",
    "    print(basedir+'/'+filename+'.csv')\n",
    "    data = pd.read_csv(basedir+'/'+filename+'.csv')\n",
    "    datacopy = data.copy(deep=True)\n"
   ]
  },
  {
   "cell_type": "code",
   "execution_count": null,
   "metadata": {
    "colab": {},
    "colab_type": "code",
    "id": "Zt5FfovpXi_V"
   },
   "outputs": [],
   "source": [
    "from helpers import get_normalized, get_denormalised\n"
   ]
  },
  {
   "cell_type": "code",
   "execution_count": null,
   "metadata": {
    "colab": {},
    "colab_type": "code",
    "id": "eXsN5vjYkgKJ"
   },
   "outputs": [],
   "source": [
    "\n",
    "    # loop through some sample code\n",
    "    count = len(data)\n",
    "\n",
    "    bloodpressure = []\n",
    "    upperlimity = 0\n",
    "    lowerlimity = 0\n",
    "    title = 'Prediction of '\n",
    "    figname = filename + '_type_' + str(typee) + '_oiesgpresult.png'\n",
    "\n",
    "    \"\"\"Systolic\"\"\"\n",
    "    if typee == 0:\n",
    "        bloodpressure = data.iloc[:, 0]\n",
    "        upperlimity = 150\n",
    "        lowerlimity = 70\n",
    "        title = title + 'Systolic Values'\n",
    "    elif typee == 1:\n",
    "        bloodpressure = data.iloc[:, 1]\n",
    "        upperlimity = 120\n",
    "        lowerlimity = 50\n",
    "        title = title + 'Diastolic Values'\n",
    "    elif typee == 2:\n",
    "        bloodpressure = data.iloc[:, 2]\n",
    "        upperlimity = 200\n",
    "        lowerlimity = 0\n",
    "        title = title + 'Heart Rate Values'\n",
    "\n",
    "    from helpers import get_normalized, get_denormalised\n",
    "\n",
    "    bloodpressure = np.array(bloodpressure).astype('float')\n",
    "    normalized_ds = get_normalized(bloodpressure)\n",
    "\n",
    "    tsmax = bloodpressure.max()\n",
    "    tsmin = bloodpressure.min()\n",
    "\n",
    "    normalized_time = pd.to_datetime(data.iloc[:, 3])\n",
    "    normalized_time = np.array(normalized_time)#.astype('float')\n",
    "\n",
    "    totalData = np.ndarray((2000, 2))\n"
   ]
  },
  {
   "cell_type": "code",
   "execution_count": null,
   "metadata": {
    "colab": {},
    "colab_type": "code",
    "id": "jtbXKuYTklDH"
   },
   "outputs": [],
   "source": [
    "    for i in range(0, 2000):\n",
    "        totalData[i, 0] = normalized_ds[i]\n",
    "        totalData[i, 1] = normalized_ds[i + 1]\n",
    "    datacopy.iloc[:, 0] = normalized_ds\n",
    "    import math\n",
    "    trainingCount = int(math.floor(len(normalized_ds) * 0.7))\n",
    "    testingCount = len(normalized_ds) - trainingCount\n",
    "    original = []\n",
    "    testprediction = []\n",
    "    testingResults = []\n",
    "    variances = []\n",
    "    errorarr = []\n",
    "    x_list = []\n"
   ]
  },
  {
   "cell_type": "code",
   "execution_count": null,
   "metadata": {
    "colab": {},
    "colab_type": "code",
    "id": "xECBRqWik8Jr"
   },
   "outputs": [],
   "source": [
    "    import numpy as np\n",
    "    runlooplen = len(totalData)-2\n",
    "    testindex = runlooplen - 250\n",
    "\n",
    "    for j in range(2, runlooplen):\n",
    "        predictedResults = []\n",
    "        variance = []\n",
    "\n",
    "        input = [normalized_ds[j-1]]#, t]\n",
    "        output = [normalized_ds[j]]\n",
    "\n",
    "        oesgp.update(input)\n",
    "\n",
    "        if j > testindex:\n",
    "            oesgp.predict(predictedResults, variance)\n",
    "\n",
    "            error = norm(np.array(predictedResults) - np.array(output))\n",
    "\n",
    "            original.append(output[0])\n",
    "\n",
    "            testingResults.append(predictedResults[0])\n",
    "\n",
    "            variances.append(variance[0])\n",
    "            errorarr.append(error)\n",
    "            x_list.append(j-testindex)\n",
    "\n",
    "        #print(\"Error: \", error)\n",
    "\n",
    "        oesgp.train(output)\n",
    "\n",
    "    oesgp.save(\"test-modeltest2\")\n"
   ]
  },
  {
   "cell_type": "code",
   "execution_count": null,
   "metadata": {
    "colab": {
     "base_uri": "https://localhost:8080/",
     "height": 310
    },
    "colab_type": "code",
    "executionInfo": {
     "elapsed": 1545,
     "status": "ok",
     "timestamp": 1567254971050,
     "user": {
      "displayName": "Ghalib Ahmed Tahir",
      "photoUrl": "",
      "userId": "14564760490957802618"
     },
     "user_tz": -480
    },
    "id": "OjHKpIsLePwp",
    "outputId": "52213584-7911-407c-eb56-735df6fa08b9"
   },
   "outputs": [
    {
     "data": {
      "text/plain": [
       "Text(0,0.5,'Predicted Value')"
      ]
     },
     "execution_count": 70,
     "metadata": {
      "tags": []
     },
     "output_type": "execute_result"
    },
    {
     "data": {
      "image/png": "[encoded data removed]",
      "text/plain": [
       "<Figure size 432x288 with 1 Axes>"
      ]
     },
     "metadata": {
      "tags": []
     },
     "output_type": "display_data"
    }
   ],
   "source": [
    "    denormtesting = get_denormalised(np.array(testingResults), tsmax, tsmin)\n",
    "    denormorig = get_denormalised(np.array(original), tsmax, tsmin)\n",
    "    denormvariance = get_denormalised(np.array(variances), tsmax, tsmin)\n",
    "\n",
    "    plt.xticks(rotation=90)\n",
    "\n",
    "    plt.ylim([lowerlimity, upperlimity])\n",
    "    # marker='o', markerfacecolor='blue',\n",
    "    # marker='o', markerfacecolor='red',\n",
    "\n",
    "    plt.plot(x_list, denormtesting, markersize=4, color='chocolate', label='Prediction',linewidth=2)\n",
    "    plt.plot(x_list, denormorig, markersize=4, color='#333333', label='Original', linewidth=2 , linestyle='dashed')\n",
    "    plt.xlabel('Total Time')\n",
    "    plt.ylabel('Predicted Value')\n",
    "    #plt.plot(x_list, errorarr, color='green', label='Error')\n",
    "    #plt.plot(variances, color='blue', label='Variance')\n",
    "\n",
    "    "
   ]
  },
  {
   "cell_type": "code",
   "execution_count": null,
   "metadata": {
    "colab": {
     "base_uri": "https://localhost:8080/",
     "height": 391
    },
    "colab_type": "code",
    "executionInfo": {
     "elapsed": 1087,
     "status": "ok",
     "timestamp": 1567254976131,
     "user": {
      "displayName": "Ghalib Ahmed Tahir",
      "photoUrl": "",
      "userId": "14564760490957802618"
     },
     "user_tz": -480
    },
    "id": "n3lkBD2yeUmQ",
    "outputId": "70aa005f-e3aa-4951-e8f1-1e46ea322cbb"
   },
   "outputs": [
    {
     "name": "stderr",
     "output_type": "stream",
     "text": [
      "WARNING:matplotlib.legend:No handles with labels found to put in legend.\n"
     ]
    },
    {
     "name": "stdout",
     "output_type": "stream",
     "text": [
      "Type: 0\n",
      "0.02764236594142548\n",
      "0.166259934865\n",
      "0.11653148567824906\n"
     ]
    },
    {
     "data": {
      "image/png": "[encoded data removed]",
      "text/plain": [
       "<Figure size 432x288 with 1 Axes>"
      ]
     },
     "metadata": {
      "tags": []
     },
     "output_type": "display_data"
    },
    {
     "data": {
      "text/plain": [
       "<Figure size 432x288 with 0 Axes>"
      ]
     },
     "metadata": {
      "tags": []
     },
     "output_type": "display_data"
    }
   ],
   "source": [
    "    mae = mean_absolute_error(original, testingResults) ##testingResults) #\n",
    "    mse = mean_squared_error(original, testingResults) ##testingResults) #\n",
    "    rmse = math.sqrt(mse)\n",
    "\n",
    "    print('Type: '+str(type))\n",
    "    print(mse)\n",
    "    print(rmse)\n",
    "    print(mae)\n",
    "\n",
    "    \"\"\"Write results to file\"\"\"\n",
    "    # results = pd.DataFrame({'Original': denormorig, 'Predicted': denormtesting, 'Variance' : denormvariance})\n",
    "    # results.to_csv(outputfilename+'regen', sep=',')\n",
    "\n",
    "    plt.legend(loc='best')\n",
    "    plt.title(title)\n",
    "\n",
    "    #plt.suptitle('MAE: '+str(mae)+'  MSE: '+str(mse)+'  RMSE: '+str(rmse), fontsize=14, fontweight='bold')\n",
    "    #plt.show(block=False)\n",
    "\n",
    "    fig1 = plt.gcf()\n",
    "    plt.show()\n",
    "    plt.draw()\n",
    "    fig1.savefig(figname, dpi=100)"
   ]
  }
 ],
 "metadata": {
  "colab": {
   "collapsed_sections": [],
   "name": "oesgp_prediction.ipynb",
   "provenance": []
  },
  "kernelspec": {
   "display_name": "Python 3 (ipykernel)",
   "language": "python",
   "name": "python3"
  },
  "language_info": {
   "codemirror_mode": {
    "name": "ipython",
    "version": 3
   },
   "file_extension": ".py",
   "mimetype": "text/x-python",
   "name": "python",
   "nbconvert_exporter": "python",
   "pygments_lexer": "ipython3",
   "version": "3.9.12"
  }
 },
 "nbformat": 4,
 "nbformat_minor": 1
}
