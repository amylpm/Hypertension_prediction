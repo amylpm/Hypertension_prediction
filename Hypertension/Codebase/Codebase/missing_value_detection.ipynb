{
 "cells": [
  {
   "cell_type": "code",
   "execution_count": 0,
   "metadata": {
    "colab": {
     "base_uri": "https://localhost:8080/",
     "height": 122
    },
    "colab_type": "code",
    "collapsed": true,
    "executionInfo": {
     "elapsed": 30432,
     "status": "ok",
     "timestamp": 1567452946147,
     "user": {
      "displayName": "SUNDUS ABRAR STUDENT",
      "photoUrl": "",
      "userId": "04348364771569198575"
     },
     "user_tz": -120
    },
    "id": "r-NLytXyYGP4",
    "outputId": "d8e816c9-7be9-48c6-fcec-13dba9c820c0"
   },
   "outputs": [
    {
     "name": "stdout",
     "output_type": "stream",
     "text": [
      "Go to this URL in a browser: https://accounts.google.com/o/oauth2/auth?client_id=947318989803-6bn6qk8qdgf4n4g3pfee6491hc0brc4i.apps.googleusercontent.com&redirect_uri=urn%3Aietf%3Awg%3Aoauth%3A2.0%3Aoob&scope=email%20https%3A%2F%2Fwww.googleapis.com%2Fauth%2Fdocs.test%20https%3A%2F%2Fwww.googleapis.com%2Fauth%2Fdrive%20https%3A%2F%2Fwww.googleapis.com%2Fauth%2Fdrive.photos.readonly%20https%3A%2F%2Fwww.googleapis.com%2Fauth%2Fpeopleapi.readonly&response_type=code\n",
      "\n",
      "Enter your authorization code:\n",
      "··········\n",
      "Mounted at /content/drive\n"
     ]
    }
   ],
   "source": [
    "from google.colab import drive\n",
    "drive.mount('/content/drive')"
   ]
  },
  {
   "cell_type": "code",
   "execution_count": 0,
   "metadata": {
    "colab": {
     "base_uri": "https://localhost:8080/",
     "height": 71
    },
    "colab_type": "code",
    "executionInfo": {
     "elapsed": 3852,
     "status": "ok",
     "timestamp": 1567453040529,
     "user": {
      "displayName": "SUNDUS ABRAR STUDENT",
      "photoUrl": "",
      "userId": "04348364771569198575"
     },
     "user_tz": -120
    },
    "id": "xeHuLzhAYOWr",
    "outputId": "9dafe005-2883-4915-e752-f7f0fb7ce215"
   },
   "outputs": [
    {
     "name": "stdout",
     "output_type": "stream",
     "text": [
      "\u001b[33mDEPRECATION: Python 2.7 will reach the end of its life on January 1st, 2020. Please upgrade your Python as Python 2.7 won't be maintained after that date. A future version of pip will drop support for Python 2.7. More details about Python 2 support in pip, can be found at https://pip.pypa.io/en/latest/development/release-process/#python-2-support\u001b[0m\n",
      "Requirement already satisfied: gmr in /usr/local/lib/python2.7/dist-packages (1.0)\n"
     ]
    }
   ],
   "source": [
    "!sudo pip install gmr"
   ]
  },
  {
   "cell_type": "code",
   "execution_count": 1,
   "metadata": {
    "colab": {},
    "colab_type": "code",
    "id": "_2G3fmh8YUGQ"
   },
   "outputs": [],
   "source": [
    "import pandas as pd\n",
    "import os\n",
    "import csv\n",
    "import math\n",
    "import datetime as dt\n",
    "\n",
    "basedir = '/content/drive/My Drive/MSCodeGoogleColab/'"
   ]
  },
  {
   "cell_type": "code",
   "execution_count": 0,
   "metadata": {
    "colab": {},
    "colab_type": "code",
    "id": "AVLQHCYUYKq-"
   },
   "outputs": [],
   "source": [
    "\n",
    "\n",
    "def preprocess_data(filename):\n",
    "    inputfile = basedir + filename\n",
    "    data = pd.read_csv(inputfile)\n",
    "\n",
    "    data.iloc[:, 4] = pd.to_datetime(data.iloc[:, 4])\n",
    "    timeSlots = data.iloc[:, 4]\n",
    "    username = data.iloc[:, 0].iloc[0]\n",
    "\n",
    "    binname = basedir+'/processeddata/processed_1' + str(filename)\n",
    "\n",
    "\n",
    "    if not os.path.exists(os.path.dirname(binname)):\n",
    "        try:\n",
    "            os.makedirs(os.path.dirname(binname))\n",
    "        except OSError as exc:\n",
    "            print(exc.errno)\n",
    "\n",
    "\n",
    "\n",
    "    rowlist = []\n",
    "\n",
    "    with open(binname, \"w\") as outputFile:\n",
    "        csvWriter = csv.writer(outputFile)\n",
    "\n",
    "        row_iterator = data.iterrows()\n",
    "        _, last = next(row_iterator)  # take first item from row_iterator\n",
    "\n",
    "        for i, row in row_iterator:\n",
    "            # last = row\n",
    "\n",
    "            previous = last  # datetime.strptime(p, '%Y-%m-%d %H:%M:%S')  # \"2015-09-03 16:25:45\"\n",
    "            current = row  # datetime.strptime(c, '%Y-%m-%d %H:%M:%S')\n",
    "\n",
    "            print('previous: ', previous.iloc[4])\n",
    "            print('current: ', current.iloc[4])\n",
    "\n",
    "            sbp = previous.iloc[1]  # data['systolic'][i - 1]\n",
    "            dbp = previous.iloc[2]  # data['diastolic'][i - 1]\n",
    "            hr = previous.iloc[3]  # data['pulse'][i - 1]\n",
    "\n",
    "            csvWriter.writerow([username, sbp, dbp, hr, previous.iloc[4]])\n",
    "\n",
    "            delta = current.iloc[4] - previous.iloc[4]\n",
    "            days = delta.days\n",
    "            hours = math.floor((delta.seconds) / 3600)\n",
    "            mins = math.floor(delta.seconds / 60)\n",
    "\n",
    "\n",
    "            if hours > 1:\n",
    "                print('Found missing value at index:', i)\n",
    "\n",
    "                new_date = previous.iloc[4] + datetime.timedelta(hours=1)\n",
    "\n",
    "                reached = 0\n",
    "\n",
    "                while reached == 0:\n",
    "\n",
    "                    if new_date < current.iloc[4]:\n",
    "                        # create new_date entry in file\n",
    "                        csvWriter.writerow([username, 0, 0, 0, new_date])\n",
    "                        new_date = new_date + datetime.timedelta(hours=1)\n",
    "                    else:\n",
    "                        # csvWriter.writerow([smoking, gender, height, 0, 0, 0, current['recordDateTime'], weight, age])\n",
    "                        reached = 1\n",
    "                        last = row\n",
    "            else:\n",
    "                 last = row\n",
    "\n",
    "        outputFile.close()\n",
    "\n"
   ]
  },
  {
   "cell_type": "code",
   "execution_count": 0,
   "metadata": {
    "colab": {},
    "colab_type": "code",
    "id": "1ruGOl0_Yh3v"
   },
   "outputs": [],
   "source": [
    "def preprocess_etiqa_data(filename):\n",
    "    filename = 'Etiqa_ajanthini'\n",
    "    inputfile = basedir+'/'+filename+'.csv'\n",
    "    missingdata = 0               #keeps track of how many missing entries in sample data\n",
    "    \n",
    "    data = pd.read_csv(inputfile)\n",
    "    ps = pd.to_datetime(data.iloc[:, 3])\n",
    "    data.iloc[:, 3] = ps\n",
    "    timeSlots = data.iloc[:, 3]\n",
    "    username = filename\n",
    "    #print(data.iloc[:3])\n",
    "\n",
    "    outputFileName = basedir+'/first_processeddata/processed_'+filename+'.csv'\n",
    "\n",
    "    if not os.path.exists(os.path.dirname(outputFileName)):\n",
    "        try:\n",
    "            os.makedirs(os.path.dirname(outputFileName))\n",
    "        except OSError as exc:\n",
    "            print (exc.errno)\n",
    "\n",
    "    with open(outputFileName, \"w\") as outputFile:\n",
    "        csvWriter = csv.writer(outputFile)\n",
    "\n",
    "        row_iterator = data.iterrows()\n",
    "        \n",
    "        _, last = row_iterator.next()  # take first item from row_iterator\n",
    "\n",
    "        for i, row in row_iterator:\n",
    "\n",
    "            previous = last  # datetime.strptime(p, '%Y-%m-%d %H:%M:%S')  # \"2015-09-03 16:25:45\"\n",
    "            current = row  # datetime.strptime(c, '%Y-%m-%d %H:%M:%S')\n",
    "\n",
    "            #print('previous: ', previous.iloc[3])\n",
    "            #print('current: ', current.iloc[3])\n",
    "\n",
    "            sbp = previous.iloc[0]  # data['systolic'][i - 1]\n",
    "            dbp = previous.iloc[1]  # data['diastolic'][i - 1]\n",
    "            hr = previous.iloc[2]  # data['pulse'][i - 1]\n",
    "\n",
    "            csvWriter.writerow([sbp, dbp, hr, previous.iloc[3]])\n",
    "\n",
    "            delta = current.iloc[3] - previous.iloc[3]\n",
    "            days = delta.days\n",
    "            hours = math.floor((delta.seconds) / 3600)\n",
    "            mins = math.floor(delta.seconds / 60)\n",
    "\n",
    "            loopstop = current.iloc[3]  #comparison to stop loop of adding missing values\n",
    "\n",
    "            if days > 0 or hours > 1:\n",
    "                print('Found missing value at: ', previous.iloc[3].isoformat(' '))\n",
    "               \n",
    "                if days > 0:\n",
    "                    #only increment time for the current date so as to avoid entire zero dates\n",
    "                    prevDate = previous.iloc[3]\n",
    "                    print('prev date:', prevDate.isoformat(' '))\n",
    "                 \n",
    "                    loopstop = dt.datetime(year= prevDate.year, month=prevDate.month, day=prevDate.day, hour=23, minute=0, second=0)\n",
    "                    print('loopstop:', loopstop.isoformat(' '))\n",
    "\n",
    "                reached = 0\n",
    "                new_date = previous.iloc[3] + dt.timedelta(hours=1)\n",
    "                while reached == 0:\n",
    "                    if new_date < loopstop:\n",
    "                        # create new_date entry in file\n",
    "                        csvWriter.writerow([0, 0, 0, new_date])\n",
    "                        missingdata += 1\n",
    "                        new_date = new_date + dt.timedelta(hours=1)\n",
    "                    else:\n",
    "                        reached = 1\n",
    "                        last = row\n",
    "                        print('last created entry at: ', new_date.isoformat(' '))\n",
    "                        \n",
    "                        if new_date == loopstop:\n",
    "                          print('all entries entered ok')\n",
    "                          \n",
    "                        else:\n",
    "                          print('add last loopstop entry')\n",
    "                          csvWriter.writerow([0, 0, 0, loopstop])\n",
    "                          missingdata += 1\n",
    "                        \n",
    "                        #check if date for this cycle starts at 0 hrs, else generate missing entries\n",
    "                        cycledate = last.iloc[3]\n",
    "                        \n",
    "                        if cycledate.hour > 0 and (cycledate.day > new_date.day):\n",
    "                          #generate missing values untill cycle date\n",
    "                          \n",
    "                          cyclestart = dt.datetime(year= cycledate.year, month=cycledate.month, day=cycledate.day, hour=0, minute=0, second=0)\n",
    "                          print('add missing values in cycle from: ', cyclestart.isoformat(' '))\n",
    "                          \n",
    "                          while cyclestart < cycledate:\n",
    "                            csvWriter.writerow([0,0,0, cyclestart])\n",
    "                            missingdata += 1\n",
    "                            cyclestart = cyclestart + dt.timedelta(hours=1)\n",
    "                            \n",
    "                        else:\n",
    "                          print('normal cycle begin')\n",
    "            else:\n",
    "              last = row\n",
    "             \n",
    "\n",
    "        outputFile.close()\n",
    "        \n",
    "        totalsamplesize = len(data) + missingdata\n",
    "        print('****************************')\n",
    "        print(totalsamplesize)\n",
    "        print(missingdata)\n",
    "        return missingdata/totalsamplesize\n"
   ]
  },
  {
   "cell_type": "markdown",
   "metadata": {
    "colab_type": "text",
    "id": "8HSWimmWeQmr"
   },
   "source": []
  },
  {
   "cell_type": "code",
   "execution_count": 0,
   "metadata": {
    "colab": {},
    "colab_type": "code",
    "id": "XGuIfZLtYkMO"
   },
   "outputs": [],
   "source": [
    "\n",
    "\n",
    "#preprocess_data('etiqa_azim.csv')\n",
    "\n",
    "missingdata = preprocess_etiqa_data('dd')\n",
    "print('****************************')\n",
    "print('total missing in file: '+str(missingdata))"
   ]
  }
 ],
 "metadata": {
  "colab": {
   "collapsed_sections": [],
   "name": "first_processing.ipynb",
   "provenance": [],
   "version": "0.3.2"
  },
  "kernelspec": {
   "display_name": "Python 3 (ipykernel)",
   "language": "python",
   "name": "python3"
  },
  "language_info": {
   "codemirror_mode": {
    "name": "ipython",
    "version": 3
   },
   "file_extension": ".py",
   "mimetype": "text/x-python",
   "name": "python",
   "nbconvert_exporter": "python",
   "pygments_lexer": "ipython3",
   "version": "3.9.12"
  }
 },
 "nbformat": 4,
 "nbformat_minor": 1
}
