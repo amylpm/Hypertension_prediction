{
 "cells": [
  {
   "cell_type": "markdown",
   "id": "eecb7b20",
   "metadata": {},
   "source": [
    "Import the necessary libraries"
   ]
  },
  {
   "cell_type": "code",
   "execution_count": 4,
   "id": "451946e2",
   "metadata": {},
   "outputs": [],
   "source": [
    "import pandas as pd\n",
    "import matplotlib.pyplot as plt\n",
    "import seaborn as sns\n",
    "import numpy as np\n",
    "from datetime import date, datetime\n",
    "sns.set(font_scale=2)\n",
    "from IPython.core.interactiveshell import InteractiveShell\n",
    "import os\n",
    "InteractiveShell.ast_node_interactivity = \"all\""
   ]
  },
  {
   "cell_type": "code",
   "execution_count": 5,
   "id": "cf4e1e6c",
   "metadata": {},
   "outputs": [
    {
     "data": {
      "text/plain": [
       "'C:\\\\Users\\\\Acer\\\\OneDrive\\\\Documents\\\\GitHub\\\\ClinicalAIDSS\\\\Hypertension\\\\.ipynb_checkpoints'"
      ]
     },
     "execution_count": 5,
     "metadata": {},
     "output_type": "execute_result"
    }
   ],
   "source": [
    "os. getcwd()\n"
   ]
  },
  {
   "cell_type": "code",
   "execution_count": null,
   "id": "142a8247",
   "metadata": {},
   "outputs": [],
   "source": [
    "os. chdir(path)"
   ]
  },
  {
   "cell_type": "markdown",
   "id": "5a2262f8",
   "metadata": {},
   "source": [
    "Obtain the dataset"
   ]
  },
  {
   "cell_type": "code",
   "execution_count": 2,
   "id": "c0b85cfe",
   "metadata": {
    "scrolled": true
   },
   "outputs": [
    {
     "ename": "FileNotFoundError",
     "evalue": "[Errno 2] No such file or directory: './../data/20220405/bp_20220405.xlsx'",
     "output_type": "error",
     "traceback": [
      "\u001b[1;31m---------------------------------------------------------------------------\u001b[0m",
      "\u001b[1;31mFileNotFoundError\u001b[0m                         Traceback (most recent call last)",
      "\u001b[1;32m~\\AppData\\Local\\Temp/ipykernel_16692/532581087.py\u001b[0m in \u001b[0;36m<module>\u001b[1;34m\u001b[0m\n\u001b[1;32m----> 1\u001b[1;33m \u001b[0mbp\u001b[0m \u001b[1;33m=\u001b[0m \u001b[0mpd\u001b[0m\u001b[1;33m.\u001b[0m\u001b[0mread_excel\u001b[0m\u001b[1;33m(\u001b[0m\u001b[1;34mr'./../data/20220405/bp_20220405.xlsx'\u001b[0m\u001b[1;33m)\u001b[0m\u001b[1;33m\u001b[0m\u001b[1;33m\u001b[0m\u001b[0m\n\u001b[0m\u001b[0;32m      2\u001b[0m \u001b[1;33m\u001b[0m\u001b[0m\n\u001b[0;32m      3\u001b[0m \u001b[0mbp\u001b[0m\u001b[1;33m.\u001b[0m\u001b[0mhead\u001b[0m\u001b[1;33m(\u001b[0m\u001b[1;33m)\u001b[0m\u001b[1;33m\u001b[0m\u001b[1;33m\u001b[0m\u001b[0m\n",
      "\u001b[1;32m~\\AppData\\Local\\Programs\\Python\\Python310\\lib\\site-packages\\pandas\\util\\_decorators.py\u001b[0m in \u001b[0;36mwrapper\u001b[1;34m(*args, **kwargs)\u001b[0m\n\u001b[0;32m    309\u001b[0m                     \u001b[0mstacklevel\u001b[0m\u001b[1;33m=\u001b[0m\u001b[0mstacklevel\u001b[0m\u001b[1;33m,\u001b[0m\u001b[1;33m\u001b[0m\u001b[1;33m\u001b[0m\u001b[0m\n\u001b[0;32m    310\u001b[0m                 )\n\u001b[1;32m--> 311\u001b[1;33m             \u001b[1;32mreturn\u001b[0m \u001b[0mfunc\u001b[0m\u001b[1;33m(\u001b[0m\u001b[1;33m*\u001b[0m\u001b[0margs\u001b[0m\u001b[1;33m,\u001b[0m \u001b[1;33m**\u001b[0m\u001b[0mkwargs\u001b[0m\u001b[1;33m)\u001b[0m\u001b[1;33m\u001b[0m\u001b[1;33m\u001b[0m\u001b[0m\n\u001b[0m\u001b[0;32m    312\u001b[0m \u001b[1;33m\u001b[0m\u001b[0m\n\u001b[0;32m    313\u001b[0m         \u001b[1;32mreturn\u001b[0m \u001b[0mwrapper\u001b[0m\u001b[1;33m\u001b[0m\u001b[1;33m\u001b[0m\u001b[0m\n",
      "\u001b[1;32m~\\AppData\\Local\\Programs\\Python\\Python310\\lib\\site-packages\\pandas\\io\\excel\\_base.py\u001b[0m in \u001b[0;36mread_excel\u001b[1;34m(io, sheet_name, header, names, index_col, usecols, squeeze, dtype, engine, converters, true_values, false_values, skiprows, nrows, na_values, keep_default_na, na_filter, verbose, parse_dates, date_parser, thousands, comment, skipfooter, convert_float, mangle_dupe_cols, storage_options)\u001b[0m\n\u001b[0;32m    362\u001b[0m     \u001b[1;32mif\u001b[0m \u001b[1;32mnot\u001b[0m \u001b[0misinstance\u001b[0m\u001b[1;33m(\u001b[0m\u001b[0mio\u001b[0m\u001b[1;33m,\u001b[0m \u001b[0mExcelFile\u001b[0m\u001b[1;33m)\u001b[0m\u001b[1;33m:\u001b[0m\u001b[1;33m\u001b[0m\u001b[1;33m\u001b[0m\u001b[0m\n\u001b[0;32m    363\u001b[0m         \u001b[0mshould_close\u001b[0m \u001b[1;33m=\u001b[0m \u001b[1;32mTrue\u001b[0m\u001b[1;33m\u001b[0m\u001b[1;33m\u001b[0m\u001b[0m\n\u001b[1;32m--> 364\u001b[1;33m         \u001b[0mio\u001b[0m \u001b[1;33m=\u001b[0m \u001b[0mExcelFile\u001b[0m\u001b[1;33m(\u001b[0m\u001b[0mio\u001b[0m\u001b[1;33m,\u001b[0m \u001b[0mstorage_options\u001b[0m\u001b[1;33m=\u001b[0m\u001b[0mstorage_options\u001b[0m\u001b[1;33m,\u001b[0m \u001b[0mengine\u001b[0m\u001b[1;33m=\u001b[0m\u001b[0mengine\u001b[0m\u001b[1;33m)\u001b[0m\u001b[1;33m\u001b[0m\u001b[1;33m\u001b[0m\u001b[0m\n\u001b[0m\u001b[0;32m    365\u001b[0m     \u001b[1;32melif\u001b[0m \u001b[0mengine\u001b[0m \u001b[1;32mand\u001b[0m \u001b[0mengine\u001b[0m \u001b[1;33m!=\u001b[0m \u001b[0mio\u001b[0m\u001b[1;33m.\u001b[0m\u001b[0mengine\u001b[0m\u001b[1;33m:\u001b[0m\u001b[1;33m\u001b[0m\u001b[1;33m\u001b[0m\u001b[0m\n\u001b[0;32m    366\u001b[0m         raise ValueError(\n",
      "\u001b[1;32m~\\AppData\\Local\\Programs\\Python\\Python310\\lib\\site-packages\\pandas\\io\\excel\\_base.py\u001b[0m in \u001b[0;36m__init__\u001b[1;34m(self, path_or_buffer, engine, storage_options)\u001b[0m\n\u001b[0;32m   1189\u001b[0m                 \u001b[0mext\u001b[0m \u001b[1;33m=\u001b[0m \u001b[1;34m\"xls\"\u001b[0m\u001b[1;33m\u001b[0m\u001b[1;33m\u001b[0m\u001b[0m\n\u001b[0;32m   1190\u001b[0m             \u001b[1;32melse\u001b[0m\u001b[1;33m:\u001b[0m\u001b[1;33m\u001b[0m\u001b[1;33m\u001b[0m\u001b[0m\n\u001b[1;32m-> 1191\u001b[1;33m                 ext = inspect_excel_format(\n\u001b[0m\u001b[0;32m   1192\u001b[0m                     \u001b[0mcontent_or_path\u001b[0m\u001b[1;33m=\u001b[0m\u001b[0mpath_or_buffer\u001b[0m\u001b[1;33m,\u001b[0m \u001b[0mstorage_options\u001b[0m\u001b[1;33m=\u001b[0m\u001b[0mstorage_options\u001b[0m\u001b[1;33m\u001b[0m\u001b[1;33m\u001b[0m\u001b[0m\n\u001b[0;32m   1193\u001b[0m                 )\n",
      "\u001b[1;32m~\\AppData\\Local\\Programs\\Python\\Python310\\lib\\site-packages\\pandas\\io\\excel\\_base.py\u001b[0m in \u001b[0;36minspect_excel_format\u001b[1;34m(content_or_path, storage_options)\u001b[0m\n\u001b[0;32m   1068\u001b[0m         \u001b[0mcontent_or_path\u001b[0m \u001b[1;33m=\u001b[0m \u001b[0mBytesIO\u001b[0m\u001b[1;33m(\u001b[0m\u001b[0mcontent_or_path\u001b[0m\u001b[1;33m)\u001b[0m\u001b[1;33m\u001b[0m\u001b[1;33m\u001b[0m\u001b[0m\n\u001b[0;32m   1069\u001b[0m \u001b[1;33m\u001b[0m\u001b[0m\n\u001b[1;32m-> 1070\u001b[1;33m     with get_handle(\n\u001b[0m\u001b[0;32m   1071\u001b[0m         \u001b[0mcontent_or_path\u001b[0m\u001b[1;33m,\u001b[0m \u001b[1;34m\"rb\"\u001b[0m\u001b[1;33m,\u001b[0m \u001b[0mstorage_options\u001b[0m\u001b[1;33m=\u001b[0m\u001b[0mstorage_options\u001b[0m\u001b[1;33m,\u001b[0m \u001b[0mis_text\u001b[0m\u001b[1;33m=\u001b[0m\u001b[1;32mFalse\u001b[0m\u001b[1;33m\u001b[0m\u001b[1;33m\u001b[0m\u001b[0m\n\u001b[0;32m   1072\u001b[0m     ) as handle:\n",
      "\u001b[1;32m~\\AppData\\Local\\Programs\\Python\\Python310\\lib\\site-packages\\pandas\\io\\common.py\u001b[0m in \u001b[0;36mget_handle\u001b[1;34m(path_or_buf, mode, encoding, compression, memory_map, is_text, errors, storage_options)\u001b[0m\n\u001b[0;32m    709\u001b[0m         \u001b[1;32melse\u001b[0m\u001b[1;33m:\u001b[0m\u001b[1;33m\u001b[0m\u001b[1;33m\u001b[0m\u001b[0m\n\u001b[0;32m    710\u001b[0m             \u001b[1;31m# Binary mode\u001b[0m\u001b[1;33m\u001b[0m\u001b[1;33m\u001b[0m\u001b[0m\n\u001b[1;32m--> 711\u001b[1;33m             \u001b[0mhandle\u001b[0m \u001b[1;33m=\u001b[0m \u001b[0mopen\u001b[0m\u001b[1;33m(\u001b[0m\u001b[0mhandle\u001b[0m\u001b[1;33m,\u001b[0m \u001b[0mioargs\u001b[0m\u001b[1;33m.\u001b[0m\u001b[0mmode\u001b[0m\u001b[1;33m)\u001b[0m\u001b[1;33m\u001b[0m\u001b[1;33m\u001b[0m\u001b[0m\n\u001b[0m\u001b[0;32m    712\u001b[0m         \u001b[0mhandles\u001b[0m\u001b[1;33m.\u001b[0m\u001b[0mappend\u001b[0m\u001b[1;33m(\u001b[0m\u001b[0mhandle\u001b[0m\u001b[1;33m)\u001b[0m\u001b[1;33m\u001b[0m\u001b[1;33m\u001b[0m\u001b[0m\n\u001b[0;32m    713\u001b[0m \u001b[1;33m\u001b[0m\u001b[0m\n",
      "\u001b[1;31mFileNotFoundError\u001b[0m: [Errno 2] No such file or directory: './../data/20220405/bp_20220405.xlsx'"
     ]
    }
   ],
   "source": [
    "bp = pd.read_excel(r'./../data/20220405/bp_20220405.xlsx')\n",
    "\n",
    "bp.head()\n"
   ]
  },
  {
   "cell_type": "code",
   "execution_count": null,
   "id": "f46f9399",
   "metadata": {
    "scrolled": false
   },
   "outputs": [],
   "source": [
    "user = pd.read_excel(r'./../data/20220405/user_20220405.xlsx')\n",
    "user.head()"
   ]
  },
  {
   "cell_type": "markdown",
   "id": "91ad7fc8",
   "metadata": {},
   "source": [
    "Remove Time from birthday ( a record with 1000-04-25 00:00:00 was found)"
   ]
  },
  {
   "cell_type": "code",
   "execution_count": null,
   "id": "1cd7371b",
   "metadata": {},
   "outputs": [],
   "source": [
    "user['birthday']=pd.to_datetime(user['birthday'], errors = 'coerce')\n",
    "\n"
   ]
  },
  {
   "cell_type": "code",
   "execution_count": null,
   "id": "eba39a64",
   "metadata": {
    "scrolled": true
   },
   "outputs": [],
   "source": [
    "user['birthday'] = pd.to_datetime(user['birthday']).dt.date"
   ]
  },
  {
   "cell_type": "code",
   "execution_count": null,
   "id": "7e0ba73e",
   "metadata": {},
   "outputs": [],
   "source": [
    "def age(born):\n",
    "    today = date.today()\n",
    "    return today.year - born.year - ((today.month, \n",
    "                                      today.day) < (born.month, \n",
    "                                                    born.day))\n",
    "  "
   ]
  },
  {
   "cell_type": "code",
   "execution_count": null,
   "id": "616d6dd4",
   "metadata": {},
   "outputs": [],
   "source": [
    "user['age'] = user['birthday'].apply(age)"
   ]
  },
  {
   "cell_type": "code",
   "execution_count": null,
   "id": "caca9ccc",
   "metadata": {},
   "outputs": [],
   "source": [
    "user.head()"
   ]
  },
  {
   "cell_type": "code",
   "execution_count": null,
   "id": "efa75bc1",
   "metadata": {
    "scrolled": true
   },
   "outputs": [],
   "source": [
    "bp.info()"
   ]
  },
  {
   "cell_type": "code",
   "execution_count": null,
   "id": "cf197548",
   "metadata": {},
   "outputs": [],
   "source": [
    "user.info()"
   ]
  },
  {
   "cell_type": "markdown",
   "id": "17e83409",
   "metadata": {},
   "source": [
    "Missing values in the dataset"
   ]
  },
  {
   "cell_type": "code",
   "execution_count": null,
   "id": "4e5169cf",
   "metadata": {
    "scrolled": true
   },
   "outputs": [],
   "source": [
    "bp.isna().sum()"
   ]
  },
  {
   "cell_type": "code",
   "execution_count": null,
   "id": "408bfed3",
   "metadata": {
    "scrolled": true
   },
   "outputs": [],
   "source": [
    "user.isna().sum()"
   ]
  },
  {
   "cell_type": "markdown",
   "id": "432294e6",
   "metadata": {},
   "source": [
    "Structure of the dataset"
   ]
  },
  {
   "cell_type": "code",
   "execution_count": null,
   "id": "e62b204c",
   "metadata": {},
   "outputs": [],
   "source": [
    "bp.shape"
   ]
  },
  {
   "cell_type": "code",
   "execution_count": null,
   "id": "14808ba1",
   "metadata": {},
   "outputs": [],
   "source": [
    "user.shape"
   ]
  },
  {
   "cell_type": "markdown",
   "id": "a14fb2c5",
   "metadata": {},
   "source": [
    "Seperating numerical features in Blood Pressure dataset"
   ]
  },
  {
   "cell_type": "code",
   "execution_count": null,
   "id": "d43d2aed",
   "metadata": {},
   "outputs": [],
   "source": [
    "num = ['systolic', 'diastolic','pulse']\n",
    "time = ['recordDateTime']"
   ]
  },
  {
   "cell_type": "code",
   "execution_count": null,
   "id": "100e1d69",
   "metadata": {
    "scrolled": true
   },
   "outputs": [],
   "source": [
    "bp[num].describe()"
   ]
  },
  {
   "cell_type": "code",
   "execution_count": null,
   "id": "299f0177",
   "metadata": {},
   "outputs": [],
   "source": [
    "bp['deviceID'].value_counts()\n"
   ]
  },
  {
   "cell_type": "code",
   "execution_count": null,
   "id": "3e0f94d0",
   "metadata": {},
   "outputs": [],
   "source": [
    "plt.figure(figsize=(22,10))\n",
    "sns.countplot(bp['deviceID'])\n",
    "plt.show()"
   ]
  },
  {
   "cell_type": "code",
   "execution_count": null,
   "id": "c3ca6cbe",
   "metadata": {
    "scrolled": true
   },
   "outputs": [],
   "source": [
    "bp['unit'].value_counts()\n"
   ]
  },
  {
   "cell_type": "markdown",
   "id": "fe188c48",
   "metadata": {},
   "source": [
    "Boxplot to detect outliers"
   ]
  },
  {
   "cell_type": "code",
   "execution_count": null,
   "id": "ed756609",
   "metadata": {},
   "outputs": [],
   "source": [
    "sns.boxplot(x=bp['systolic'])\n",
    "\n"
   ]
  },
  {
   "cell_type": "code",
   "execution_count": null,
   "id": "d740065b",
   "metadata": {},
   "outputs": [],
   "source": [
    "sns.boxplot(x=bp['diastolic'])\n"
   ]
  },
  {
   "cell_type": "code",
   "execution_count": null,
   "id": "cdcb540c",
   "metadata": {
    "scrolled": true
   },
   "outputs": [],
   "source": [
    "sns.boxplot(x=bp['pulse'])\n"
   ]
  },
  {
   "cell_type": "markdown",
   "id": "225520cf",
   "metadata": {},
   "source": [
    "Correlation"
   ]
  },
  {
   "cell_type": "code",
   "execution_count": null,
   "id": "dccd677d",
   "metadata": {},
   "outputs": [],
   "source": [
    "plt.figure(figsize=(20,10))\n",
    "c= bp[num].corr()\n",
    "sns.heatmap(c,cmap=\"YlGnBu\",annot=True)\n",
    "c"
   ]
  },
  {
   "cell_type": "code",
   "execution_count": null,
   "id": "4974c9f9",
   "metadata": {},
   "outputs": [],
   "source": [
    "bp"
   ]
  },
  {
   "cell_type": "markdown",
   "id": "ee6c7475",
   "metadata": {},
   "source": [
    "Time series plot( Plan to make a time series plot based on the user ID for systolic, diastolic and pulse but inconsistency may be the problem)"
   ]
  },
  {
   "cell_type": "code",
   "execution_count": null,
   "id": "167e13d7",
   "metadata": {
    "scrolled": true
   },
   "outputs": [],
   "source": [
    "#sns.relplot(data = bp, x = 'recordTime',y='systolic',\n",
    "#            row = 'userID',kind = 'line', sizes=(1000, 10))\n",
    "\n",
    "\n",
    "\n"
   ]
  },
  {
   "cell_type": "code",
   "execution_count": null,
   "id": "5d824110",
   "metadata": {
    "scrolled": true
   },
   "outputs": [],
   "source": [
    "for d in bp.groupby(bp['userID']):\n",
    "    plt.figure(figsize=(10, 6))\n",
    "    plt.plot(d[1]['recordTime'],d[1]['systolic'], label = \"Systolic\")\n",
    "    plt.plot(d[1]['recordTime'],d[1]['diastolic'], label = \"Diastolic\")\n",
    "    plt.plot(d[1]['recordTime'],d[1]['pulse'], label = \"Pulse\")\n",
    "    plt.legend(bbox_to_anchor=(1.1, 1.05))\n",
    "    plt.xticks(rotation=90)\n",
    "    plt.show()"
   ]
  },
  {
   "cell_type": "code",
   "execution_count": null,
   "id": "4fa86f18",
   "metadata": {},
   "outputs": [],
   "source": [
    "bp.groupby(['userID'])[num].describe()"
   ]
  },
  {
   "cell_type": "markdown",
   "id": "6b0f8ffc",
   "metadata": {},
   "source": [
    "User table"
   ]
  },
  {
   "cell_type": "code",
   "execution_count": null,
   "id": "510dc7a1",
   "metadata": {
    "scrolled": true
   },
   "outputs": [],
   "source": [
    "user.info()"
   ]
  },
  {
   "cell_type": "code",
   "execution_count": null,
   "id": "c77539f2",
   "metadata": {
    "scrolled": false
   },
   "outputs": [],
   "source": [
    "user"
   ]
  },
  {
   "cell_type": "code",
   "execution_count": null,
   "id": "3b298665",
   "metadata": {},
   "outputs": [],
   "source": [
    "user['gender'].value_counts()\n"
   ]
  },
  {
   "cell_type": "code",
   "execution_count": null,
   "id": "f8f883f2",
   "metadata": {},
   "outputs": [],
   "source": [
    "plt.figure(figsize=(22,10))\n",
    "sns.countplot(user['gender'])\n",
    "plt.show()"
   ]
  },
  {
   "cell_type": "code",
   "execution_count": null,
   "id": "3c069708",
   "metadata": {},
   "outputs": [],
   "source": [
    "user['marital'].value_counts()\n"
   ]
  },
  {
   "cell_type": "code",
   "execution_count": null,
   "id": "97564484",
   "metadata": {},
   "outputs": [],
   "source": [
    "plt.figure(figsize=(22,10))\n",
    "sns.countplot(user['marital'])\n",
    "plt.show()"
   ]
  },
  {
   "cell_type": "code",
   "execution_count": null,
   "id": "f2497b43",
   "metadata": {},
   "outputs": [],
   "source": [
    "user['smoking'].value_counts()\n"
   ]
  },
  {
   "cell_type": "code",
   "execution_count": null,
   "id": "21adca63",
   "metadata": {},
   "outputs": [],
   "source": [
    "plt.figure(figsize=(22,10))\n",
    "sns.countplot(user['smoking'])\n",
    "plt.show()"
   ]
  },
  {
   "cell_type": "code",
   "execution_count": null,
   "id": "c7ac27c5",
   "metadata": {},
   "outputs": [],
   "source": [
    "user['race'].value_counts()\n"
   ]
  },
  {
   "cell_type": "code",
   "execution_count": null,
   "id": "1f6cc6be",
   "metadata": {},
   "outputs": [],
   "source": [
    "plt.figure(figsize=(22,10))\n",
    "sns.countplot(user['race'])\n",
    "plt.show()"
   ]
  },
  {
   "cell_type": "code",
   "execution_count": null,
   "id": "ab263dc1",
   "metadata": {},
   "outputs": [],
   "source": [
    "user['life_style'].value_counts()\n"
   ]
  },
  {
   "cell_type": "code",
   "execution_count": null,
   "id": "51caaffd",
   "metadata": {
    "scrolled": true
   },
   "outputs": [],
   "source": [
    "plt.figure(figsize=(22,10))\n",
    "sns.countplot(user['life_style'])\n",
    "plt.show()"
   ]
  },
  {
   "cell_type": "code",
   "execution_count": null,
   "id": "e9df84f9",
   "metadata": {
    "scrolled": true
   },
   "outputs": [],
   "source": [
    "user['Eduction'].value_counts()\n"
   ]
  },
  {
   "cell_type": "code",
   "execution_count": null,
   "id": "c7e7484b",
   "metadata": {
    "scrolled": true
   },
   "outputs": [],
   "source": [
    "plt.figure(figsize=(22,10))\n",
    "sns.countplot(user['Eduction'])\n",
    "plt.show()"
   ]
  },
  {
   "cell_type": "markdown",
   "id": "46256b3f",
   "metadata": {},
   "source": [
    "Next step is to consider the following addition\n",
    "-multivariate plots\n",
    "-multidimensional distribution\n",
    "-bayesian level of blood pressure\n",
    "-statistical analysis of each patient\n",
    "-distribution plots in seaborn"
   ]
  },
  {
   "cell_type": "code",
   "execution_count": null,
   "id": "6f613fc3",
   "metadata": {},
   "outputs": [],
   "source": [
    "sns.displot(data=user, x=user['height'],kind=\"kde\")\n"
   ]
  },
  {
   "cell_type": "code",
   "execution_count": null,
   "id": "a651b245",
   "metadata": {},
   "outputs": [],
   "source": [
    "sns.displot(data=user, x=user['weight'],kind=\"kde\")\n"
   ]
  },
  {
   "cell_type": "code",
   "execution_count": null,
   "id": "6406036d",
   "metadata": {},
   "outputs": [],
   "source": [
    "sns.displot(data=user, x=user['height'],y =user['weight'],kind=\"kde\",rug=True)\n"
   ]
  },
  {
   "cell_type": "code",
   "execution_count": null,
   "id": "5a0276b1",
   "metadata": {},
   "outputs": [],
   "source": [
    "sns.displot(data=user, x=user['age'],kind=\"kde\")"
   ]
  },
  {
   "cell_type": "code",
   "execution_count": null,
   "id": "90b8f91f",
   "metadata": {},
   "outputs": [],
   "source": [
    "sns.pairplot(user)"
   ]
  },
  {
   "cell_type": "code",
   "execution_count": null,
   "id": "0a0e661e",
   "metadata": {
    "scrolled": true
   },
   "outputs": [],
   "source": [
    "sns.pairplot(bp)"
   ]
  },
  {
   "cell_type": "code",
   "execution_count": null,
   "id": "e3aeb33f",
   "metadata": {},
   "outputs": [],
   "source": []
  }
 ],
 "metadata": {
  "kernelspec": {
   "display_name": "Python 3 (ipykernel)",
   "language": "python",
   "name": "python3"
  },
  "language_info": {
   "codemirror_mode": {
    "name": "ipython",
    "version": 3
   },
   "file_extension": ".py",
   "mimetype": "text/x-python",
   "name": "python",
   "nbconvert_exporter": "python",
   "pygments_lexer": "ipython3",
   "version": "3.10.1"
  }
 },
 "nbformat": 4,
 "nbformat_minor": 5
}
