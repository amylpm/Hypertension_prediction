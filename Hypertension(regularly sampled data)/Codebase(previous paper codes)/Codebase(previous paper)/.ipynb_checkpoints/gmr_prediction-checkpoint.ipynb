{
 "cells": [
  {
   "cell_type": "markdown",
   "metadata": {
    "id": "IvjQ1s4dvhyO"
   },
   "source": [
    "MUST CHANGE I/P DIRRECTORY AND O/P DIRECTORY PATH DEPENDING UPON WHICH FILE IS BEING PROCESSED. \n",
    "THERE ARE TWO TYPES OF I/P FILES THAT ARE USING THE CODE FOR GMM PREDICTION."
   ]
  },
  {
   "cell_type": "code",
   "execution_count": null,
   "metadata": {
    "colab": {
     "base_uri": "https://localhost:8080/",
     "height": 122
    },
    "executionInfo": {
     "elapsed": 32917,
     "status": "ok",
     "timestamp": 1580681481164,
     "user": {
      "displayName": "SUNDUS ABRAR STUDENT",
      "photoUrl": "",
      "userId": "04348364771569198575"
     },
     "user_tz": -60
    },
    "id": "KfvEVv-PVYZX",
    "outputId": "4d37c061-128d-4625-f90a-911e0600a6bb"
   },
   "outputs": [
    {
     "name": "stdout",
     "output_type": "stream",
     "text": [
      "Go to this URL in a browser: https://accounts.google.com/o/oauth2/auth?client_id=947318989803-6bn6qk8qdgf4n4g3pfee6491hc0brc4i.apps.googleusercontent.com&redirect_uri=urn%3aietf%3awg%3aoauth%3a2.0%3aoob&response_type=code&scope=email%20https%3a%2f%2fwww.googleapis.com%2fauth%2fdocs.test%20https%3a%2f%2fwww.googleapis.com%2fauth%2fdrive%20https%3a%2f%2fwww.googleapis.com%2fauth%2fdrive.photos.readonly%20https%3a%2f%2fwww.googleapis.com%2fauth%2fpeopleapi.readonly\n",
      "\n",
      "Enter your authorization code:\n",
      "··········\n",
      "Mounted at /content/drive\n"
     ]
    }
   ],
   "source": [
    "from google.colab import drive\n",
    "drive.mount('/content/drive')"
   ]
  },
  {
   "cell_type": "code",
   "execution_count": null,
   "metadata": {
    "id": "BVahAG3-aWQM"
   },
   "outputs": [],
   "source": [
    "#!pip install https://github.com/ipython-contrib/jupyter_contrib_nbextensions/tarball/master\n",
    "#!pip install jupyter_contrib_nbextensions\n",
    "#!jupyter contrib nbextension install --user\n",
    "#!jupyter nbextension enable hinterland/hinterland:\n"
   ]
  },
  {
   "cell_type": "code",
   "execution_count": null,
   "metadata": {
    "id": "4JKxaSQhbe6x"
   },
   "outputs": [],
   "source": [
    "#!jupyter nbextension enable hinterland/hinterland"
   ]
  },
  {
   "cell_type": "code",
   "execution_count": null,
   "metadata": {
    "colab": {
     "base_uri": "https://localhost:8080/",
     "height": 34
    },
    "executionInfo": {
     "elapsed": 1085,
     "status": "ok",
     "timestamp": 1580681517246,
     "user": {
      "displayName": "SUNDUS ABRAR STUDENT",
      "photoUrl": "",
      "userId": "04348364771569198575"
     },
     "user_tz": -60
    },
    "id": "nMp1huen4_zT",
    "outputId": "2e3a3d44-566e-4e54-b74b-fb88bcc49d84"
   },
   "outputs": [
    {
     "name": "stdout",
     "output_type": "stream",
     "text": [
      "/content/drive/My Drive/MSCodeGoogleColab/gmr\n"
     ]
    }
   ],
   "source": [
    "%cd /content/drive/My Drive/MSCodeGoogleColab/gmr"
   ]
  },
  {
   "cell_type": "code",
   "execution_count": null,
   "metadata": {
    "id": "QkSPlW7gsEWx"
   },
   "outputs": [],
   "source": [
    "import pandas as pd\n",
    "import pandas as pd\n",
    "from pandas import read_csv\n",
    "import numpy as np\n",
    "from datetime import datetime\n",
    "\n",
    "##### Global Constants\n",
    "\n",
    "indextoprocess = 0          # 0 = systolic | 1 = diastolic | 2 = heart rate\n",
    "basedir = '/content/drive/My Drive/MSCodeGoogleColab'\n",
    "my_list = list()\n",
    "meanvalue = 0.0\n",
    "\n",
    "if indextoprocess == 0: \n",
    "  meanvalue = 120.0\n",
    "if indextoprocess == 1: \n",
    "  meanvalue = 80.0\n",
    "if indextoprocess == 2:\n",
    "  meanvalue = 60.0\n",
    "  \n",
    "#opfilepath = ''\n",
    "\n",
    "predarr = []"
   ]
  },
  {
   "cell_type": "code",
   "execution_count": null,
   "metadata": {
    "id": "8B4556mzr2zc"
   },
   "outputs": [],
   "source": [
    "def getuserinputfromfile():\n",
    "  #filename = basedir+'/ajantip.csv'\n",
    "  \n",
    "  filename = basedir+'/ajantip_results/complete_timeseries/testing/testing_data_125miss.csv'\n",
    "  ##  set op file path\n",
    "  opfilepath = basedir+'/ajantip_results/complete_timeseries/testing/testing_result_125miss.csv'\n",
    "  # '/content/drive/My Drive/MSCodeGoogleColab/ajantip_results/' + str(indextoprocess)+\"_second_proprocessed_result.csv\"\n",
    "  data = pd.read_csv(filename, header=None)\n",
    "  #datacopy = data.copy(deep=True)\n",
    "  #bloodpressure = data.iloc[:, idxx]\n",
    "  #bloodpressure = pd.np.array(bloodpressure).astype('float')\n",
    "  print('opfilepath:: '+opfilepath)\n",
    "  return data, opfilepath\n",
    "  "
   ]
  },
  {
   "cell_type": "code",
   "execution_count": null,
   "metadata": {
    "id": "_onHChrrxDLq"
   },
   "outputs": [],
   "source": [
    "def getoutlierinputfromfile(fileidx):\n",
    "  filename = basedir+'/ajantip_results/'+ str(indextoprocess)+'_time_bins/outlier_results/mod'+str(fileidx)+'.csv'\n",
    "  print('reading outliers filled file at:: ', str(filename))\n",
    "  ##  set op file path\n",
    "  opfilepath = '/content/drive/My Drive/MSCodeGoogleColab/ajantip_results/' + str(indextoprocess)+'_complete_timebins/'\n",
    "  print(opfilepath)\n",
    " \n",
    "  data = pd.read_csv(filename, header=None, skiprows=1)\n",
    "  datacopy = data.copy(deep=True)\n",
    "  bloodpressure = data.iloc[:, 0]\n",
    "  bloodpressure = pd.np.array(bloodpressure).astype('float')\n",
    "  print('items read from file ', len(bloodpressure))\n",
    "  return bloodpressure, opfilepath"
   ]
  },
  {
   "cell_type": "code",
   "execution_count": null,
   "metadata": {
    "id": "hcQ9x42YSyJc"
   },
   "outputs": [],
   "source": [
    "#import pandas as pd\n",
    "#import pandas as pd\n",
    "#from pandas import read_csv\n",
    "#import numpy as np\n",
    "#from datetime import datetime\n",
    "import matplotlib.pyplot as plt\n",
    "from sklearn.metrics import mean_squared_error\n",
    "\n",
    "from gmm import GMM\n",
    "\n",
    "\n",
    "#basedir = '/content/drive/My Drive/MSCodeGoogleColab'\n",
    "#filename = basedir+'/ajantip.csv'\n",
    "#data = pd.read_csv(filename, header=None)\n",
    "\n",
    "#my_list = list()\n",
    "#datacopy = data.copy(deep=True)\n",
    "#bloodpressure = data.iloc[:, indextoprocess]\n",
    "#bloodpressure = pd.np.array(bloodpressure).astype('float')\n",
    "\n",
    "#normalized_time = pd.to_datetime(data.iloc[:, 3])\n",
    "#normalized_time = pd.np.array(normalized_time).astype('float')\n",
    "previousIndex = 0\n",
    "n = 0\n"
   ]
  },
  {
   "cell_type": "code",
   "execution_count": null,
   "metadata": {
    "id": "Edj5I1cQqoau"
   },
   "outputs": [],
   "source": [
    "def processData(currentWindow):\n",
    "        print('currentwindow: ', currentWindow)\n",
    "        gmm1 = GMM(n_components=1,random_state=0)\n",
    "     # train with window and predict  the immediate next value\n",
    "        trainingData = currentWindow       \n",
    "#         print(trainingData) \n",
    "        totalData = np.ndarray((trainingData.size, 2))\n",
    "#         print(totalData)\n",
    "        for l in range(0, trainingData.size-1):\n",
    "          totalData[l, 0] = trainingData[l]\n",
    "          totalData[l, 1] = trainingData[l + 1]\n",
    "          \n",
    "        totalData[trainingData.size-1,0] = trainingData[trainingData.size-1]\n",
    "        totalData[trainingData.size - 1, 1] = 0 \n",
    "        trainDDD = totalData[0:-1,:]\n",
    "\n",
    "        if (len(trainDDD) == 0):\n",
    "          print('trainDDD size 0 - check')\n",
    "          print(totalData)\n",
    "        try:\n",
    "          np.asarray_chkfinite(trainDDD)\n",
    "        except ValueError:\n",
    "          print('ValueError')\n",
    "          print('nan in trainDDD::', np.isnan(trainDDD).any())\n",
    "        return gmm1,totalData  \n",
    "   "
   ]
  },
  {
   "cell_type": "code",
   "execution_count": null,
   "metadata": {
    "id": "TvjtRn6Ntr3R"
   },
   "outputs": [],
   "source": [
    "def predictNextZeroValueIfExists(T ,i,Y):\n",
    "        trainDDD = totalData[0:-1,:]\n",
    "        if len(bloodpressure) > i+1:\n",
    "          TArray2 = np.ndarray((1, 2))\n",
    "          print(\"Test Index Before \"+str(i))\n",
    "          for k in range(i+1, bloodpressure.size):\n",
    "            if bloodpressure[k] == 0:\n",
    "              print(\"Test Index Loop \"+str(k))\n",
    "              #trains the gmm with predicted value\n",
    "              gmm2 = GMM(n_components=1,random_state=0)\n",
    "              TArray2[0,0] = T\n",
    "              TArray2[0,1] = Y\n",
    "              trainDDD = np.vstack((trainDDD,TArray2))\n",
    "                        \n",
    "              try:\n",
    "                np.asarray_chkfinite(trainDDD)\n",
    "              except ValueError:\n",
    "                print('Data ValueError    Please Check sundus ')\n",
    "                print(TArray2)\n",
    "                print(np.isnan(trainDDD).any())\n",
    "              print(\"second window\")  \n",
    "              print(trainDDD)             \n",
    "              gmm2.from_samples(trainDDD)\n",
    "              TArray1 = np.ndarray((1, 1))\n",
    "              TArray1[0, 0] = int(Y)\n",
    "\n",
    "              Yy = gmm2.predict(np.array([0]), TArray1)\n",
    "              if (math.isnan(Yy)):\n",
    "                print('Predicted value for Yy is nan**')\n",
    "                print('TArray1::', TArray1)\n",
    "                Yy = meanvalue\n",
    "                \n",
    "              Yy =  math.ceil(Yy)\n",
    "              if T-Yy > 30:\n",
    "                     Yy = T\n",
    "              print(\"Other Predicted Value \"+str(Yy))\n",
    "              \n",
    "              bloodpressure[k] = Yy\n",
    "              print(\"output added: \"+str(k)+\" : \"+str(Yy))\n",
    "              predarr.append((k, Yy))  \n",
    "              #predarr.append((k+1, Y))  \n",
    "              i = k\n",
    "            else:\n",
    "              i = k -1\n",
    "              break;\n",
    "        return i     "
   ]
  },
  {
   "cell_type": "code",
   "execution_count": null,
   "metadata": {
    "id": "AmSu11AZ0_jZ"
   },
   "outputs": [],
   "source": [
    "bloodpressure, opfilepath = getuserinputfromfile()\n",
    "#getoutlierinputfromfile(0)\n",
    "print('bp::', bloodpressure)\n",
    "print(predarr)"
   ]
  },
  {
   "cell_type": "code",
   "execution_count": null,
   "metadata": {
    "id": "u5sn6UJ5JIvZ"
   },
   "outputs": [],
   "source": [
    "data, opfilepath = getuserinputfromfile()\n",
    "\n",
    "sys = data.iloc[:, 0]\n",
    "dias = data.iloc[:, 1]\n",
    "hr = data.iloc[:, 2] \n",
    "predsys = [0] * len(sys)\n",
    "preddias = [0] * len(sys)\n",
    "predhr = [0] * len(sys)\n",
    "\n",
    "rres = {'PredSys': predsys, 'PredDias': preddias,'PredHR': predhr,}\n",
    "result = pd.DataFrame(rres)\n",
    " \n",
    "print(result.iloc[:,0])"
   ]
  },
  {
   "cell_type": "code",
   "execution_count": null,
   "metadata": {
    "id": "pbWY38d9W08B"
   },
   "outputs": [],
   "source": [
    "# from IPython.core.debugger import set_trace\n",
    "previousIndex = 0\n",
    "import math\n",
    "\n",
    "data, opfilepath = getuserinputfromfile()\n",
    "\n",
    "sys = data.iloc[:, 0]\n",
    "dias = data.iloc[:, 1]\n",
    "hr = data.iloc[:, 2]\n",
    "\n",
    "predsys = [0] * len(sys)\n",
    "preddias = [0] * len(sys)\n",
    "predhr = [0] * len(sys)\n",
    "\n",
    "rres = {'PredSys': predsys, 'PredDias': preddias,'PredHR': predhr,}\n",
    "result = pd.DataFrame(rres)\n",
    "\n",
    "for r in range(0,3):  \n",
    "  bloodpressure = data.iloc[:, r]      #getoutlierinputfromfile(r)\n",
    "  bloodpressure = pd.np.array(bloodpressure).astype('float')\n",
    "  predarr = []\n",
    "  previousIndex = 0\n",
    "  i = 0 \n",
    "\n",
    "  while i < bloodpressure.size:\n",
    "    print(\"current idx: \"+str(i))\n",
    "    if (bloodpressure[i]!=0):\n",
    "      print(\"output added: \"+str(i)+\" : \"+str(bloodpressure[i]))\n",
    "      predarr.append((i, bloodpressure[i]))\n",
    "\n",
    "    if(bloodpressure[i]==0):\n",
    "      print(\"zero detected at index \"+str(i))\n",
    "\n",
    "      if(bloodpressure[i] == 0):\n",
    "        #if (i-previousIndex) < 15:\n",
    "           #previousIndex = previousIndex -(15-(i-previousIndex))\n",
    "          \n",
    "        if (i-previousIndex) > 15:\n",
    "          print(\"updating previndex value from: \"+str(previousIndex)+\" to: \"+str(i - 15))\n",
    "          previousIndex = i - 15\n",
    "          \n",
    "        print(\"reads the blood pressure value from previous index \"+ str(previousIndex)+\":\"+str(i))\n",
    "        print(bloodpressure[previousIndex:i])\n",
    "        print(\"**********************************\")\n",
    "        currentWindow = bloodpressure[previousIndex:i]\n",
    "        print(\"items in currwindow: \"+str(currentWindow.shape[0]))\n",
    "        if currentWindow.shape[0] > 0:\n",
    "          print(\"current window size is greater than zero\")\n",
    "          gmm,totalData = processData(currentWindow)\n",
    "          gmm.from_samples(np.array(totalData))\n",
    "          T = totalData[-1,0]\n",
    "          TArray = np.ndarray((1,1))\n",
    "          TArray[0,0] = T\n",
    "          print(\"****************** To Predict****************\")\n",
    "          print(np.array([0])+ TArray)\n",
    "          print(\"**********************************\")\n",
    "          Y = gmm.predict(np.array([0]), TArray)\n",
    "\n",
    "          print(\"First Predicted Value: \"+str(Y)+\" at idx:\"+str(i))        \n",
    "          if (math.isnan(Y)):\n",
    "            print('Predicted value is nan-- or 0')\n",
    "            Y = meanvalue\n",
    "            \n",
    "          if Y == 0:\n",
    "            Y = meanvalue\n",
    "\n",
    "          Y = math.ceil(Y)\n",
    "          if T-Y > 30:\n",
    "            Y = T\n",
    "          valtoadd = int(Y)\n",
    "          print(\"this output added: \"+str(i)+\" : \"+str(Y))\n",
    "          predarr.append((i, valtoadd))\n",
    "          print(\"Existing Index \"+str(i))\n",
    "          bloodpressure[i] = valtoadd # sets the zaro \n",
    "          # i is index Y is previous predicted Value and T is data\n",
    "          i = predictNextZeroValueIfExists(T ,i,Y) \n",
    "          \n",
    "          print(\"updating previndex after prediction: \"+str(previousIndex)+\" to: \"+str(i))\n",
    "          previousIndex = i\n",
    "    i = i+1\n",
    "  \n",
    "  import csv\n",
    "  print('*********************************')\n",
    "  print('predictions::')\n",
    "  print(len(predarr))\n",
    "  print('*********************************')\n",
    "\n",
    "  dtype = [('Col1','int32'), ('Col2','float32')]\n",
    "  index = [i for i in range(0, len(predarr))]\n",
    "  df = pd.DataFrame(predarr, index=index)\n",
    "\n",
    "  if r == 0:\n",
    "    result['PredSys'] = df.iloc[:,1] #pd.DataFrame({'PredSys': predarr})\n",
    "  if r == 1:\n",
    "    result['PredDias'] = df.iloc[:,1] #pd.DataFrame({'PredDias': predarr})\n",
    "  if r == 2:\n",
    "    result['PredHR'] = df.iloc[:,1] #pd.DataFrame({'PredHR': predarr})\n",
    "\n",
    "  name= str(indextoprocess)+\"_faasecond_proprocessed_result.csv\"\n",
    "\n",
    "  #cff = opfilepath + str(r) + '_complete.csv'\n",
    "  #print('opfilepath:' + opfilepath)\n",
    "  #export_csv = result.to_csv(opfilepath, index = None, header = True)\n",
    "  \n",
    "\n",
    "print('opfilepath:' + opfilepath)\n",
    "export_csv = result.to_csv(opfilepath, index = None, header = True)\n",
    "  "
   ]
  },
  {
   "cell_type": "code",
   "execution_count": null,
   "metadata": {
    "id": "ou6HHDKkOzBG"
   },
   "outputs": [],
   "source": [
    "  import csv\n",
    "  print('*********************************')\n",
    "  print('predictions::')\n",
    "#  print(predarr)\n",
    "  print('*********************************')\n",
    "  \n",
    "  \n",
    "  dtype = [('Col1','int32'), ('Col2','float32')]\n",
    "  values = predarr\n",
    "  index = ['Row'+str(i) for i in range(1, len(values)+1)]\n",
    "\n",
    "  df = pd.DataFrame(values, index=index)\n",
    "  \n",
    "  #print(df)\n",
    "  name= str(indextoprocess)+\"_aasecond_proprocessed_result.csv\"\n",
    "  \n",
    "  cff = opfilepath + str(r) + '_complete.csv'\n",
    "  print('opfilepath:' + cff)\n",
    "  export_csv = df.to_csv(cff, index = None, header = True)\n",
    "  \n",
    "  #export_csv = df.to_csv ('/content/drive/My Drive/MSCodeGoogleColab/ajantip_results/'+name, index = None, header=True)\n",
    "\n",
    "\n"
   ]
  },
  {
   "cell_type": "code",
   "execution_count": null,
   "metadata": {
    "id": "Gvd75fkygn7l"
   },
   "outputs": [],
   "source": [
    "import numpy as np\n",
    "\n",
    "def mean_absolute_percentage_error(y_true, y_pred): \n",
    "    y_true, y_pred = np.array(y_true), np.array(y_pred)\n",
    "    return np.mean(np.abs((y_true - y_pred) / y_true)) * 100"
   ]
  },
  {
   "cell_type": "code",
   "execution_count": null,
   "metadata": {
    "id": "Jtz9mJx9a30I"
   },
   "outputs": [],
   "source": [
    "from sklearn.metrics.regression import mean_absolute_error as mae\n",
    "from sklearn.metrics.regression import mean_squared_error as mse\n",
    "\n",
    "filename = basedir+'/ajantip_results/complete_timeseries/testing/combined_results/testing_result_82miss.csv'\n",
    "data = pd.read_csv(filename)\n",
    "print(data[0:10])\n",
    "\n",
    "j=0\n",
    "while j<5:\n",
    "  print('j: ',j)\n",
    "  X = data.iloc[:,j]\n",
    "  res = data.iloc[:,j+1]\n",
    "  j = j+2\n",
    "  meanerror = mae(X.values, res.values)\n",
    "  meansquareerror = mse(X.values, res.values)\n",
    "  rmse_val = math.sqrt(mse(X.values, res.values))\n",
    "  rms = np.sqrt(meansquareerror)\n",
    "  mape = mean_absolute_percentage_error(X.values, res.values)\n",
    "\n",
    "  print('mean error: ', meanerror)\n",
    "  print('mean square error: ', meansquareerror)\n",
    "  print('root mean square error: ', rms)\n",
    "  print('mape: ', mape)\n",
    "\n"
   ]
  },
  {
   "cell_type": "code",
   "execution_count": null,
   "metadata": {
    "id": "hyDkI0fYbfgJ"
   },
   "outputs": [],
   "source": [
    "meanerror = mae(X.values, res.values)\n",
    "meansquareerror = mse(X.values, res.values)\n",
    "rmse_val = math.sqrt(mse(X.values, res.values))\n",
    "rms = np.sqrt(meansquareerror)\n",
    "\n",
    "print('type: ' + str(type))\n",
    "print(meansquareerror)\n",
    "print(rms)\n",
    "print(meanerror)"
   ]
  }
 ],
 "metadata": {
  "colab": {
   "collapsed_sections": [],
   "name": "second_preprocessed_python_complete.ipynb",
   "provenance": []
  },
  "kernelspec": {
   "display_name": "Python 3 (ipykernel)",
   "language": "python",
   "name": "python3"
  },
  "language_info": {
   "codemirror_mode": {
    "name": "ipython",
    "version": 3
   },
   "file_extension": ".py",
   "mimetype": "text/x-python",
   "name": "python",
   "nbconvert_exporter": "python",
   "pygments_lexer": "ipython3",
   "version": "3.9.12"
  }
 },
 "nbformat": 4,
 "nbformat_minor": 1
}
