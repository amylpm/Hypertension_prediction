{
 "cells": [
  {
   "cell_type": "code",
   "execution_count": 0,
   "metadata": {
    "colab": {
     "base_uri": "https://localhost:8080/",
     "height": 122
    },
    "colab_type": "code",
    "executionInfo": {
     "elapsed": 35302,
     "status": "ok",
     "timestamp": 1580595466761,
     "user": {
      "displayName": "SUNDUS ABRAR STUDENT",
      "photoUrl": "",
      "userId": "04348364771569198575"
     },
     "user_tz": -60
    },
    "id": "3tMJiCiuH9K2",
    "outputId": "fcd7b1c0-73bc-4c1c-9ef6-c461f12ed335"
   },
   "outputs": [
    {
     "name": "stdout",
     "output_type": "stream",
     "text": [
      "Go to this URL in a browser: https://accounts.google.com/o/oauth2/auth?client_id=947318989803-6bn6qk8qdgf4n4g3pfee6491hc0brc4i.apps.googleusercontent.com&redirect_uri=urn%3aietf%3awg%3aoauth%3a2.0%3aoob&response_type=code&scope=email%20https%3a%2f%2fwww.googleapis.com%2fauth%2fdocs.test%20https%3a%2f%2fwww.googleapis.com%2fauth%2fdrive%20https%3a%2f%2fwww.googleapis.com%2fauth%2fdrive.photos.readonly%20https%3a%2f%2fwww.googleapis.com%2fauth%2fpeopleapi.readonly\n",
      "\n",
      "Enter your authorization code:\n",
      "··········\n",
      "Mounted at /content/drive\n"
     ]
    }
   ],
   "source": [
    "from google.colab import drive\n",
    "drive.mount('/content/drive')"
   ]
  },
  {
   "cell_type": "code",
   "execution_count": 0,
   "metadata": {
    "colab": {
     "base_uri": "https://localhost:8080/",
     "height": 207
    },
    "colab_type": "code",
    "executionInfo": {
     "elapsed": 5995,
     "status": "ok",
     "timestamp": 1580598159285,
     "user": {
      "displayName": "SUNDUS ABRAR STUDENT",
      "photoUrl": "",
      "userId": "04348364771569198575"
     },
     "user_tz": -60
    },
    "id": "bTi0vhGnIyWU",
    "outputId": "7c8ccd62-6688-45f5-ecd1-977d69c35f7a"
   },
   "outputs": [
    {
     "name": "stdout",
     "output_type": "stream",
     "text": [
      "\u001b[33mDEPRECATION: Python 2.7 will reach the end of its life on January 1st, 2020. Please upgrade your Python as Python 2.7 won't be maintained after that date. A future version of pip will drop support for Python 2.7. More details about Python 2 support in pip, can be found at https://pip.pypa.io/en/latest/development/release-process/#python-2-support\u001b[0m\n",
      "Collecting gmr\n",
      "  Downloading https://files.pythonhosted.org/packages/56/bd/d276d0816369ca291a43d38ff12f4aa08017966f739a780fc08adf0d4629/gmr-1.0.tar.gz\n",
      "Building wheels for collected packages: gmr\n",
      "  Building wheel for gmr (setup.py) ... \u001b[?25l\u001b[?25hdone\n",
      "  Created wheel for gmr: filename=gmr-1.0-cp27-none-any.whl size=5826 sha256=b6e3a2f82058f2e20af6c2a7a55c5a32df2ed6ef0df7bca86135fe84bcf29fac\n",
      "  Stored in directory: /root/.cache/pip/wheels/ee/04/6f/28ce55ca1589dd9ca7ef2b486f85cc7ef137a76d620b438d89\n",
      "Successfully built gmr\n",
      "Installing collected packages: gmr\n",
      "Successfully installed gmr-1.0\n"
     ]
    }
   ],
   "source": [
    "!sudo pip install gmr"
   ]
  },
  {
   "cell_type": "code",
   "execution_count": 0,
   "metadata": {
    "colab": {
     "base_uri": "https://localhost:8080/",
     "height": 136
    },
    "colab_type": "code",
    "executionInfo": {
     "elapsed": 2982,
     "status": "ok",
     "timestamp": 1580598954693,
     "user": {
      "displayName": "SUNDUS ABRAR STUDENT",
      "photoUrl": "",
      "userId": "04348364771569198575"
     },
     "user_tz": -60
    },
    "id": "suSZKAgGRYoP",
    "outputId": "99305c3a-c8c3-4ad7-f317-c05422360c9f"
   },
   "outputs": [
    {
     "name": "stdout",
     "output_type": "stream",
     "text": [
      "Cloning into 'gmr'...\n",
      "remote: Enumerating objects: 15, done.\u001b[K\n",
      "remote: Counting objects:   6% (1/15)\u001b[K\r",
      "remote: Counting objects:  13% (2/15)\u001b[K\r",
      "remote: Counting objects:  20% (3/15)\u001b[K\r",
      "remote: Counting objects:  26% (4/15)\u001b[K\r",
      "remote: Counting objects:  33% (5/15)\u001b[K\r",
      "remote: Counting objects:  40% (6/15)\u001b[K\r",
      "remote: Counting objects:  46% (7/15)\u001b[K\r",
      "remote: Counting objects:  53% (8/15)\u001b[K\r",
      "remote: Counting objects:  60% (9/15)\u001b[K\r",
      "remote: Counting objects:  66% (10/15)\u001b[K\r",
      "remote: Counting objects:  73% (11/15)\u001b[K\r",
      "remote: Counting objects:  80% (12/15)\u001b[K\r",
      "remote: Counting objects:  86% (13/15)\u001b[K\r",
      "remote: Counting objects:  93% (14/15)\u001b[K\r",
      "remote: Counting objects: 100% (15/15)\u001b[K\r",
      "remote: Counting objects: 100% (15/15), done.\u001b[K\n",
      "remote: Compressing objects:   8% (1/12)\u001b[K\r",
      "remote: Compressing objects:  16% (2/12)\u001b[K\r",
      "remote: Compressing objects:  25% (3/12)\u001b[K\r",
      "remote: Compressing objects:  33% (4/12)\u001b[K\r",
      "remote: Compressing objects:  41% (5/12)\u001b[K\r",
      "remote: Compressing objects:  50% (6/12)\u001b[K\r",
      "remote: Compressing objects:  58% (7/12)\u001b[K\r",
      "remote: Compressing objects:  66% (8/12)\u001b[K\r",
      "remote: Compressing objects:  75% (9/12)\u001b[K\r",
      "remote: Compressing objects:  83% (10/12)\u001b[K\r",
      "remote: Compressing objects:  91% (11/12)\u001b[K\r",
      "remote: Compressing objects: 100% (12/12)\u001b[K\r",
      "remote: Compressing objects: 100% (12/12), done.\u001b[K\n",
      "Receiving objects:   0% (1/403)   \r",
      "Receiving objects:   1% (5/403)   \r",
      "Receiving objects:   2% (9/403)   \r",
      "Receiving objects:   3% (13/403)   \r",
      "Receiving objects:   4% (17/403)   \r",
      "Receiving objects:   5% (21/403)   \r",
      "Receiving objects:   6% (25/403)   \r",
      "Receiving objects:   7% (29/403)   \r",
      "Receiving objects:   8% (33/403)   \r",
      "Receiving objects:   9% (37/403)   \r",
      "Receiving objects:  10% (41/403)   \r",
      "Receiving objects:  11% (45/403)   \r",
      "Receiving objects:  12% (49/403)   \r",
      "Receiving objects:  13% (53/403)   \r",
      "Receiving objects:  14% (57/403)   \r",
      "Receiving objects:  15% (61/403)   \r",
      "Receiving objects:  16% (65/403)   \r",
      "Receiving objects:  17% (69/403)   \r",
      "Receiving objects:  18% (73/403)   \r",
      "Receiving objects:  19% (77/403)   \r",
      "Receiving objects:  20% (81/403)   \r",
      "Receiving objects:  21% (85/403)   \r",
      "Receiving objects:  22% (89/403)   \r",
      "Receiving objects:  23% (93/403)   \r",
      "Receiving objects:  24% (97/403)   \r",
      "Receiving objects:  25% (101/403)   \r",
      "Receiving objects:  26% (105/403)   \r",
      "Receiving objects:  27% (109/403)   \r",
      "Receiving objects:  28% (113/403)   \r",
      "Receiving objects:  29% (117/403)   \r",
      "Receiving objects:  30% (121/403)   \r",
      "Receiving objects:  31% (125/403)   \r",
      "Receiving objects:  32% (129/403)   \r",
      "Receiving objects:  33% (133/403)   \r",
      "Receiving objects:  34% (138/403)   \r",
      "Receiving objects:  35% (142/403)   \r",
      "Receiving objects:  36% (146/403)   \r",
      "Receiving objects:  37% (150/403)   \r",
      "Receiving objects:  38% (154/403)   \r",
      "Receiving objects:  39% (158/403)   \r",
      "Receiving objects:  40% (162/403)   \r",
      "Receiving objects:  41% (166/403)   \r",
      "Receiving objects:  42% (170/403)   \r",
      "Receiving objects:  43% (174/403)   \r",
      "Receiving objects:  44% (178/403)   \r",
      "Receiving objects:  45% (182/403)   \r",
      "Receiving objects:  46% (186/403)   \r",
      "Receiving objects:  47% (190/403)   \r",
      "Receiving objects:  48% (194/403)   \r",
      "Receiving objects:  49% (198/403)   \r",
      "Receiving objects:  50% (202/403)   \r",
      "Receiving objects:  51% (206/403)   \r",
      "Receiving objects:  52% (210/403)   \r",
      "Receiving objects:  53% (214/403)   \r",
      "Receiving objects:  54% (218/403)   \r",
      "Receiving objects:  55% (222/403)   \r",
      "Receiving objects:  56% (226/403)   \r",
      "Receiving objects:  57% (230/403)   \r",
      "Receiving objects:  58% (234/403)   \r",
      "Receiving objects:  59% (238/403)   \r",
      "Receiving objects:  60% (242/403)   \r",
      "Receiving objects:  61% (246/403)   \r",
      "Receiving objects:  62% (250/403)   \r",
      "Receiving objects:  63% (254/403)   \r",
      "Receiving objects:  64% (258/403)   \r",
      "Receiving objects:  65% (262/403)   \r",
      "Receiving objects:  66% (266/403)   \r",
      "Receiving objects:  67% (271/403)   \r",
      "Receiving objects:  68% (275/403)   \r",
      "Receiving objects:  69% (279/403)   \r",
      "Receiving objects:  70% (283/403)   \r",
      "Receiving objects:  71% (287/403)   \r",
      "Receiving objects:  72% (291/403)   \r",
      "Receiving objects:  73% (295/403)   \r",
      "Receiving objects:  74% (299/403)   \r",
      "Receiving objects:  75% (303/403)   \r",
      "Receiving objects:  76% (307/403)   \r",
      "Receiving objects:  77% (311/403)   \r",
      "Receiving objects:  78% (315/403)   \r",
      "Receiving objects:  79% (319/403)   \r",
      "Receiving objects:  80% (323/403)   \r",
      "Receiving objects:  81% (327/403)   \r",
      "Receiving objects:  82% (331/403)   \r",
      "remote: Total 403 (delta 4), reused 9 (delta 3), pack-reused 388\u001b[K\n",
      "Receiving objects:  83% (335/403)   \r",
      "Receiving objects:  84% (339/403)   \r",
      "Receiving objects:  85% (343/403)   \r",
      "Receiving objects:  86% (347/403)   \r",
      "Receiving objects:  87% (351/403)   \r",
      "Receiving objects:  88% (355/403)   \r",
      "Receiving objects:  89% (359/403)   \r",
      "Receiving objects:  90% (363/403)   \r",
      "Receiving objects:  91% (367/403)   \r",
      "Receiving objects:  92% (371/403)   \r",
      "Receiving objects:  93% (375/403)   \r",
      "Receiving objects:  94% (379/403)   \r",
      "Receiving objects:  95% (383/403)   \r",
      "Receiving objects:  96% (387/403)   \r",
      "Receiving objects:  97% (391/403)   \r",
      "Receiving objects:  98% (395/403)   \r",
      "Receiving objects:  99% (399/403)   \r",
      "Receiving objects: 100% (403/403)   \r",
      "Receiving objects: 100% (403/403), 151.16 KiB | 7.20 MiB/s, done.\n",
      "Resolving deltas:   0% (0/203)   \r",
      "Resolving deltas:   4% (9/203)   \r",
      "Resolving deltas:   9% (19/203)   \r",
      "Resolving deltas:  11% (23/203)   \r",
      "Resolving deltas:  12% (26/203)   \r",
      "Resolving deltas:  17% (35/203)   \r",
      "Resolving deltas:  34% (70/203)   \r",
      "Resolving deltas:  36% (75/203)   \r",
      "Resolving deltas:  58% (118/203)   \r",
      "Resolving deltas:  68% (140/203)   \r",
      "Resolving deltas:  70% (144/203)   \r",
      "Resolving deltas:  71% (145/203)   \r",
      "Resolving deltas:  73% (150/203)   \r",
      "Resolving deltas:  74% (151/203)   \r",
      "Resolving deltas:  75% (154/203)   \r",
      "Resolving deltas:  76% (156/203)   \r",
      "Resolving deltas:  81% (165/203)   \r",
      "Resolving deltas:  83% (169/203)   \r",
      "Resolving deltas:  84% (172/203)   \r",
      "Resolving deltas:  86% (175/203)   \r",
      "Resolving deltas:  88% (179/203)   \r",
      "Resolving deltas:  89% (181/203)   \r",
      "Resolving deltas:  90% (184/203)   \r",
      "Resolving deltas:  91% (185/203)   \r",
      "Resolving deltas: 100% (203/203)   \r",
      "Resolving deltas: 100% (203/203), done.\n"
     ]
    }
   ],
   "source": [
    "!git clone https://github.com/AlexanderFabisch/gmr.git"
   ]
  },
  {
   "cell_type": "code",
   "execution_count": 0,
   "metadata": {
    "colab": {
     "base_uri": "https://localhost:8080/",
     "height": 34
    },
    "colab_type": "code",
    "executionInfo": {
     "elapsed": 707,
     "status": "ok",
     "timestamp": 1580598957219,
     "user": {
      "displayName": "SUNDUS ABRAR STUDENT",
      "photoUrl": "",
      "userId": "04348364771569198575"
     },
     "user_tz": -60
    },
    "id": "Jthm_2a1RiXV",
    "outputId": "ea56d1a9-0f89-485d-de79-85cb3b8e7a02"
   },
   "outputs": [
    {
     "name": "stdout",
     "output_type": "stream",
     "text": [
      "/content/gmr\n"
     ]
    }
   ],
   "source": [
    "%cd gmr/"
   ]
  },
  {
   "cell_type": "code",
   "execution_count": 0,
   "metadata": {
    "colab": {
     "base_uri": "https://localhost:8080/",
     "height": 816
    },
    "colab_type": "code",
    "executionInfo": {
     "elapsed": 2779,
     "status": "ok",
     "timestamp": 1580598961846,
     "user": {
      "displayName": "SUNDUS ABRAR STUDENT",
      "photoUrl": "",
      "userId": "04348364771569198575"
     },
     "user_tz": -60
    },
    "id": "TcL5qia5RnZN",
    "outputId": "b5711221-e6a5-47b9-9b21-7d86929de76c"
   },
   "outputs": [
    {
     "name": "stdout",
     "output_type": "stream",
     "text": [
      "running install\n",
      "running bdist_egg\n",
      "running egg_info\n",
      "creating gmr.egg-info\n",
      "writing gmr.egg-info/PKG-INFO\n",
      "writing top-level names to gmr.egg-info/top_level.txt\n",
      "writing dependency_links to gmr.egg-info/dependency_links.txt\n",
      "writing manifest file 'gmr.egg-info/SOURCES.txt'\n",
      "reading manifest template 'MANIFEST.in'\n",
      "writing manifest file 'gmr.egg-info/SOURCES.txt'\n",
      "installing library code to build/bdist.linux-x86_64/egg\n",
      "running install_lib\n",
      "running build_py\n",
      "creating build\n",
      "creating build/lib.linux-x86_64-2.7\n",
      "creating build/lib.linux-x86_64-2.7/gmr\n",
      "copying gmr/gmm.py -> build/lib.linux-x86_64-2.7/gmr\n",
      "copying gmr/utils.py -> build/lib.linux-x86_64-2.7/gmr\n",
      "copying gmr/mvn.py -> build/lib.linux-x86_64-2.7/gmr\n",
      "copying gmr/__init__.py -> build/lib.linux-x86_64-2.7/gmr\n",
      "creating build/bdist.linux-x86_64\n",
      "creating build/bdist.linux-x86_64/egg\n",
      "creating build/bdist.linux-x86_64/egg/gmr\n",
      "copying build/lib.linux-x86_64-2.7/gmr/gmm.py -> build/bdist.linux-x86_64/egg/gmr\n",
      "copying build/lib.linux-x86_64-2.7/gmr/utils.py -> build/bdist.linux-x86_64/egg/gmr\n",
      "copying build/lib.linux-x86_64-2.7/gmr/mvn.py -> build/bdist.linux-x86_64/egg/gmr\n",
      "copying build/lib.linux-x86_64-2.7/gmr/__init__.py -> build/bdist.linux-x86_64/egg/gmr\n",
      "byte-compiling build/bdist.linux-x86_64/egg/gmr/gmm.py to gmm.pyc\n",
      "byte-compiling build/bdist.linux-x86_64/egg/gmr/utils.py to utils.pyc\n",
      "byte-compiling build/bdist.linux-x86_64/egg/gmr/mvn.py to mvn.pyc\n",
      "byte-compiling build/bdist.linux-x86_64/egg/gmr/__init__.py to __init__.pyc\n",
      "creating build/bdist.linux-x86_64/egg/EGG-INFO\n",
      "copying gmr.egg-info/PKG-INFO -> build/bdist.linux-x86_64/egg/EGG-INFO\n",
      "copying gmr.egg-info/SOURCES.txt -> build/bdist.linux-x86_64/egg/EGG-INFO\n",
      "copying gmr.egg-info/dependency_links.txt -> build/bdist.linux-x86_64/egg/EGG-INFO\n",
      "copying gmr.egg-info/top_level.txt -> build/bdist.linux-x86_64/egg/EGG-INFO\n",
      "zip_safe flag not set; analyzing archive contents...\n",
      "creating dist\n",
      "creating 'dist/gmr-1.1-py2.7.egg' and adding 'build/bdist.linux-x86_64/egg' to it\n",
      "removing 'build/bdist.linux-x86_64/egg' (and everything under it)\n",
      "Processing gmr-1.1-py2.7.egg\n",
      "Copying gmr-1.1-py2.7.egg to /usr/local/lib/python2.7/dist-packages\n",
      "Adding gmr 1.1 to easy-install.pth file\n",
      "\n",
      "Installed /usr/local/lib/python2.7/dist-packages/gmr-1.1-py2.7.egg\n",
      "Processing dependencies for gmr==1.1\n",
      "Finished processing dependencies for gmr==1.1\n"
     ]
    }
   ],
   "source": [
    "!sudo python setup.py install"
   ]
  },
  {
   "cell_type": "code",
   "execution_count": 2,
   "metadata": {
    "colab": {},
    "colab_type": "code",
    "id": "v6bZfNG00K2k"
   },
   "outputs": [
    {
     "name": "stdout",
     "output_type": "stream",
     "text": [
      "<built-in function dir>\n"
     ]
    }
   ],
   "source": [
    "#print(basePath)\n",
    "print(dir)\n",
    "\n",
    "arr = []\n",
    "for l in range(0,4,1):\n",
    "  arr.append([l, 9])\n",
    "\n",
    "#dff = np.array(arr)\n",
    "#print(dff[:,1])"
   ]
  },
  {
   "cell_type": "code",
   "execution_count": 0,
   "metadata": {
    "colab": {},
    "colab_type": "code",
    "id": "3Xy4R2NSN-uv"
   },
   "outputs": [],
   "source": [
    "def getdataframes(hournumber):\n",
    "  filename = basePath + dir + str(hournumber) + '.csv'  # timebin1.csv'\n",
    "  print(\"*** reading \"+filename+\"***\")\n",
    "  data = pd.read_csv(filename)\n",
    "  datcopy = data.iloc[:,1]\n",
    "\n",
    "  xx = data.iloc[0:len(data)-2:,1]\n",
    "  yy = data.iloc[1:len(data)-1:,1]\n",
    "  ktime = data.iloc[0:len(data)-2:,0]\n",
    "  scosx = [0] * len(xx)\n",
    "\n",
    "  bp = {'X': xx.values, 'Y': yy.values}\n",
    "  bloodpressure = pd.DataFrame(bp)\n",
    "\n",
    "  rres = {'X': xx.values, 'Result': xx.values, 'Time': ktime.values, 'ScOSx' : scosx}\n",
    "  result = pd.DataFrame(rres)\n",
    "  \n",
    "  return bloodpressure, result\n",
    "  "
   ]
  },
  {
   "cell_type": "code",
   "execution_count": 0,
   "metadata": {
    "colab": {},
    "colab_type": "code",
    "id": "4vtduBZTOliJ"
   },
   "outputs": [],
   "source": [
    "blooodpressure, rresult = getdataframes('0')\n",
    "print(rresult[0:5])"
   ]
  },
  {
   "cell_type": "code",
   "execution_count": 0,
   "metadata": {
    "colab": {},
    "colab_type": "code",
    "id": "Mi8bob8wUb2p"
   },
   "outputs": [],
   "source": [
    "def calculate_score(pdensity):\n",
    "  if pdensity == 0:\n",
    "    return 0\n",
    "  \n",
    "  f = 4\n",
    "  exp = 2 * f\n",
    "  score = (math.log10(pdensity) ** exp)\n",
    "  return score"
   ]
  },
  {
   "cell_type": "code",
   "execution_count": 0,
   "metadata": {
    "colab": {},
    "colab_type": "code",
    "id": "-Sx0BP3Irdpr"
   },
   "outputs": [],
   "source": [
    "def get_scaled_score(osx):\n",
    "  s = set(osx)\n",
    "  minval = min(osx) ##sorted(s)[1] ## -> because min value is 0 and we want second smalles value in this case\n",
    "  maxval = max(osx)\n",
    "\n",
    "  scaledosx = []\n",
    "\n",
    "  prstr = \"max: \"+str(maxval)+\" min: \"+str(minval)\n",
    "  print(prstr)\n",
    "\n",
    "  if minval == 0 and maxval == 0:\n",
    "    scaledosx = [0] * len(osx)\n",
    "  else:\n",
    "    bottom = maxval - minval\n",
    "    for os in osx:\n",
    "        top = os - minval\n",
    "        scaledos = top / bottom\n",
    "        scaledos = scaledos * 10\n",
    "        scaledosx.append(scaledos)\n",
    "\n",
    "  print(\"created osx array :: \"+str(len(scaledosx)))\n",
    "  df = np.array(scaledosx)\n",
    "  return df"
   ]
  },
  {
   "cell_type": "code",
   "execution_count": 0,
   "metadata": {
    "colab": {},
    "colab_type": "code",
    "id": "DTyrRwAmO3dM"
   },
   "outputs": [],
   "source": [
    "dir = dir + 'testing/' \n",
    "print(dir)"
   ]
  },
  {
   "cell_type": "code",
   "execution_count": 0,
   "metadata": {
    "colab": {},
    "colab_type": "code",
    "id": "99H_N7FZVAJs"
   },
   "outputs": [],
   "source": [
    "def get_prob_density(centroid_value, X):\n",
    "  print(\"centroid: \", centroid_value)\n",
    "  centroidData = [centroid_value] \n",
    "  X_test = X\n",
    "  gmm = GMM(n_components=1,means=centroidData)    # here n componet is the centroid, if n componets are more than 1 then the number of centroids will also be more than 1, the means is the centroid data here i have set for upper limit\n",
    "  gmm.from_samples(X)\n",
    "  p_density = gmm.to_probability_density(X_test)\n",
    "\n",
    "  #print(p_density)\n",
    "\n",
    "  return p_density\n"
   ]
  },
  {
   "cell_type": "code",
   "execution_count": 0,
   "metadata": {
    "colab": {},
    "colab_type": "code",
    "id": "22quqSHBubuh"
   },
   "outputs": [],
   "source": [
    "def getseparatedensities(systolic):\n",
    "  print(\"****upper****\")\n",
    "  p_upper = get_prob_density(upper_limit, systolic)\n",
    "  #print(p_upper[0:5])\n",
    "\n",
    "  print(\"****lower****\")\n",
    "  p_lower = get_prob_density(lower_limit, systolic)\n",
    "  #print(p_lower[0:5])\n",
    "  \n",
    "  return p_upper, p_lower\n"
   ]
  },
  {
   "cell_type": "code",
   "execution_count": 0,
   "metadata": {
    "colab": {},
    "colab_type": "code",
    "id": "qeT3k83v1-S3"
   },
   "outputs": [],
   "source": [
    "def getupperscores(systolic, p_upper):\n",
    "  upperscores = []\n",
    "\n",
    "  i = 0\n",
    "  for i in range(0, len(systolic), 1):\n",
    "    score = 0 \n",
    "    bpvalue = systolic[i]\n",
    "\n",
    "    if bpvalue > ideal_value: #and bpvalue < lower_limit:\n",
    "      score = calculate_score(p_upper[i])\n",
    "      upperscores.append([i, score])\n",
    "      scorestr = \"bp: \"+str(bpvalue)+\" at: \"+str(i)+\" upperscore \"+str(score)\n",
    "      print(scorestr)\n",
    "    else:\n",
    "      \"\"\"Append 0 score for this index value in any array to facilitate combining later\"\"\"\n",
    "      scorestr = \"bp: \"+str(bpvalue)+\" no score at: \"+str(i)+\" - \"+str(score)\n",
    "      #print(scorestr)\n",
    "\n",
    "  npupperscores = np.array(upperscores)\n",
    "\n",
    "  return npupperscores"
   ]
  },
  {
   "cell_type": "code",
   "execution_count": 0,
   "metadata": {
    "colab": {},
    "colab_type": "code",
    "id": "RbM-bmiJzv6B"
   },
   "outputs": [],
   "source": [
    "def getlowerscores(systolic, p_lower):\n",
    "  lowerscores = []\n",
    "\n",
    "  i = 0\n",
    "  for i in range(0, len(X), 1):\n",
    "    score = 0 \n",
    "    bpvalue = systolic[i]\n",
    "\n",
    "    if bpvalue < ideal_value: #lower_limit and bpvalue:\n",
    "      score = calculate_score(p_lower[i])\n",
    "      lowerscores.append([i, score])\n",
    "      scorestr = \"bp: \"+str(bpvalue)+\" at: \"+str(i)+\" lowerscore \"+str(score)\n",
    "      print(scorestr)\n",
    "    else:\n",
    "      \"\"\"Append 0 score for this index value in any array to facilitate combining later\"\"\"\n",
    "      scorestr = \"bp: \"+str(bpvalue)+\" no score at: \"+str(i)+\" - \"+str(score)\n",
    "      #print(scorestr)\n",
    "\n",
    "  nplowerscores = np.array(lowerscores)\n",
    "\n",
    "  return nplowerscores"
   ]
  },
  {
   "cell_type": "code",
   "execution_count": 0,
   "metadata": {
    "colab": {
     "base_uri": "https://localhost:8080/",
     "height": 34
    },
    "colab_type": "code",
    "executionInfo": {
     "elapsed": 741,
     "status": "ok",
     "timestamp": 1580604002847,
     "user": {
      "displayName": "SUNDUS ABRAR STUDENT",
      "photoUrl": "",
      "userId": "04348364771569198575"
     },
     "user_tz": -60
    },
    "id": "4yDUqfaWHxEE",
    "outputId": "87e5bb43-7d2c-45bf-c4b0-a4d48664fc04"
   },
   "outputs": [
    {
     "name": "stdout",
     "output_type": "stream",
     "text": [
      "ajantip_results/2_time_bins/testing/\n"
     ]
    }
   ],
   "source": [
    "import numpy as np\n",
    "import math\n",
    "from gmr import GMM, plot_error_ellipses\n",
    "\n",
    "# random_state = check_random_state(0)\n",
    "import pandas as pd\n",
    "\n",
    "idx = 2              # 0 = systolic | 1 = diatolic | 2 = heart rate\n",
    "upper_limit = 0\n",
    "lower_limit = 0\n",
    "\n",
    "ideal_value = 0\n",
    "\n",
    "\"\"\" Range collected from: https://www.disabled-world.com/calculators-charts/bloodpressurechart.php \"\"\"\n",
    "if idx == 0:\n",
    "  upper_limit = 179\n",
    "  lower_limit = 79\n",
    "  ideal_value = 120\n",
    "if idx == 1:\n",
    "  upper_limit = 120\n",
    "  lower_limit = 29\n",
    "  ideal_value = 80\n",
    "if idx == 2:\n",
    "  upper_limit = 120\n",
    "  lower_limit = 50\n",
    "  ideal_value = 75\n",
    "\n",
    "basePath='/content/drive/My Drive/MSCodeGoogleColab/'\n",
    "dir = 'ajantip_results/'+str(idx)+'_time_bins/'   # '/bindata/'\n",
    "\n",
    "dir = dir + 'testing/' \n",
    "print(dir)"
   ]
  },
  {
   "cell_type": "code",
   "execution_count": 0,
   "metadata": {
    "colab": {
     "base_uri": "https://localhost:8080/",
     "height": 34
    },
    "colab_type": "code",
    "executionInfo": {
     "elapsed": 1020,
     "status": "ok",
     "timestamp": 1580334994494,
     "user": {
      "displayName": "SUNDUS ABRAR STUDENT",
      "photoUrl": "",
      "userId": "04348364771569198575"
     },
     "user_tz": -60
    },
    "id": "3_NUpFb8t0GU",
    "outputId": "d30e27b6-5be2-44ae-bca2-399ff97ca513"
   },
   "outputs": [
    {
     "name": "stdout",
     "output_type": "stream",
     "text": [
      "*** reading /content/drive/My Drive/MSCodeGoogleColab/ajantip_results/1_time_bins/1.csv***\n"
     ]
    }
   ],
   "source": [
    "\"\"\"name = '1'\n",
    "bloodpressure, result = getdataframes(name)\n",
    "n_features = 1\n",
    "X = bloodpressure.values\n",
    "\n",
    "try:\n",
    "    np.asarray_chkfinite(X)\n",
    "except ValueError:\n",
    "    print('Data ValueError    Please Check sundus ')\n",
    "    print(np.isnan(X).any())\n",
    "  \n",
    "n_samples = X.shape[0]\n",
    "systolic = X[:,0]\n",
    "systolic = systolic.reshape(1,-1).transpose()\"\"\""
   ]
  },
  {
   "cell_type": "code",
   "execution_count": 0,
   "metadata": {
    "colab": {
     "base_uri": "https://localhost:8080/",
     "height": 1000
    },
    "colab_type": "code",
    "executionInfo": {
     "elapsed": 11435,
     "status": "ok",
     "timestamp": 1580605203989,
     "user": {
      "displayName": "SUNDUS ABRAR STUDENT",
      "photoUrl": "",
      "userId": "04348364771569198575"
     },
     "user_tz": -60
    },
    "id": "LYehfFLMmyWL",
    "outputId": "39b15a93-ea24-47c5-a1db-ec4388388496"
   },
   "outputs": [
    {
     "name": "stdout",
     "output_type": "stream",
     "text": [
      "*** reading /content/drive/My Drive/MSCodeGoogleColab/ajantip_results/2_time_bins/testing/0.csv***\n",
      "****upper****\n",
      "('centroid: ', 120)\n",
      "****lower****\n",
      "('centroid: ', 50)\n",
      "177\n",
      "177\n",
      "bp: [84] at: 0 upperscore 207.633822603\n",
      "bp: [84] at: 4 upperscore 207.633822603\n",
      "bp: [76] at: 6 upperscore 192.289407808\n",
      "bp: [79] at: 9 upperscore 193.338105877\n",
      "bp: [79] at: 10 upperscore 193.338105877\n",
      "bp: [79] at: 15 upperscore 193.338105877\n",
      "bp: [80] at: 18 upperscore 194.904182651\n",
      "bp: [96] at: 22 upperscore 333.076239655\n",
      "bp: [111] at: 23 upperscore 988.916189705\n",
      "bp: [81] at: 24 upperscore 197.095864328\n",
      "bp: [95] at: 25 upperscore 315.406506547\n",
      "bp: [83] at: 29 upperscore 203.434194912\n",
      "bp: [87] at: 30 upperscore 224.800577353\n",
      "bp: [81] at: 31 upperscore 197.095864328\n",
      "bp: [83] at: 34 upperscore 203.434194912\n",
      "bp: [76] at: 36 upperscore 192.289407808\n",
      "bp: [77] at: 39 upperscore 192.036083288\n",
      "bp: [79] at: 40 upperscore 193.338105877\n",
      "bp: [80] at: 43 upperscore 194.904182651\n",
      "bp: [77] at: 48 upperscore 192.036083288\n",
      "bp: [81] at: 50 upperscore 197.095864328\n",
      "bp: [80] at: 54 upperscore 194.904182651\n",
      "bp: [84] at: 56 upperscore 207.633822603\n",
      "bp: [76] at: 57 upperscore 192.289407808\n",
      "bp: [85] at: 63 upperscore 212.565641158\n",
      "bp: [81] at: 64 upperscore 197.095864328\n",
      "bp: [84] at: 67 upperscore 207.633822603\n",
      "bp: [128] at: 73 upperscore 5211.6113503\n",
      "bp: [85] at: 77 upperscore 212.565641158\n",
      "bp: [79] at: 80 upperscore 193.338105877\n",
      "bp: [118] at: 81 upperscore 1884.18487229\n",
      "bp: [330] at: 83 upperscore 2.16772966646e+11\n",
      "bp: [82] at: 84 upperscore 199.93132676\n",
      "bp: [82] at: 86 upperscore 199.93132676\n",
      "bp: [87] at: 87 upperscore 224.800577353\n",
      "bp: [83] at: 88 upperscore 203.434194912\n",
      "bp: [106] at: 91 upperscore 654.028024904\n",
      "bp: [86] at: 92 upperscore 218.271581766\n",
      "bp: [93] at: 94 upperscore 285.050462238\n",
      "bp: [82] at: 98 upperscore 199.93132676\n",
      "bp: [84] at: 100 upperscore 207.633822603\n",
      "bp: [82] at: 101 upperscore 199.93132676\n",
      "bp: [93] at: 103 upperscore 285.050462238\n",
      "bp: [115] at: 104 upperscore 1417.55028818\n",
      "bp: [109] at: 105 upperscore 833.775007018\n",
      "bp: [80] at: 106 upperscore 194.904182651\n",
      "bp: [82] at: 107 upperscore 199.93132676\n",
      "bp: [124] at: 108 upperscore 3432.01262589\n",
      "bp: [81] at: 111 upperscore 197.095864328\n",
      "bp: [78] at: 113 upperscore 192.384692595\n",
      "bp: [79] at: 119 upperscore 193.338105877\n",
      "bp: [86] at: 120 upperscore 218.271581766\n",
      "bp: [82] at: 122 upperscore 199.93132676\n",
      "bp: [81] at: 125 upperscore 197.095864328\n",
      "bp: [106] at: 133 upperscore 654.028024904\n",
      "bp: [78] at: 134 upperscore 192.384692595\n",
      "bp: [91] at: 135 upperscore 260.406496458\n",
      "bp: [78] at: 136 upperscore 192.384692595\n",
      "bp: [109] at: 137 upperscore 833.775007018\n",
      "bp: [78] at: 138 upperscore 192.384692595\n",
      "bp: [83] at: 140 upperscore 203.434194912\n",
      "bp: [101] at: 143 upperscore 453.859563867\n",
      "bp: [80] at: 147 upperscore 194.904182651\n",
      "bp: [76] at: 150 upperscore 192.289407808\n",
      "bp: [76] at: 153 upperscore 192.289407808\n",
      "bp: [98] at: 154 upperscore 374.255029643\n",
      "bp: [79] at: 155 upperscore 193.338105877\n",
      "bp: [107] at: 157 upperscore 707.861940726\n",
      "bp: [108] at: 163 upperscore 767.553461048\n",
      "bp: [76] at: 167 upperscore 192.289407808\n",
      "bp: [98] at: 168 upperscore 374.255029643\n",
      "bp: [76] at: 169 upperscore 192.289407808\n",
      "bp: [84] at: 170 upperscore 207.633822603\n",
      "bp: [106] at: 174 upperscore 654.028024904\n",
      "max: 216772966646.17868 min: 192.03608328767677\n",
      "created osx array :: 74\n",
      "('changing at indx: ', 83)\n",
      "bp: [73] at: 1 lowerscore 196.706822799\n",
      "bp: [74] at: 2 lowerscore 194.615180313\n",
      "bp: [63] at: 3 lowerscore 258.67259942\n",
      "bp: [74] at: 5 lowerscore 194.615180313\n",
      "bp: [64] at: 7 lowerscore 248.379729318\n",
      "bp: [68] at: 8 lowerscore 217.315489527\n",
      "bp: [60] at: 11 lowerscore 297.070768799\n",
      "bp: [62] at: 12 lowerscore 270.146546002\n",
      "bp: [70] at: 13 lowerscore 206.921708133\n",
      "bp: [65] at: 14 lowerscore 239.174942002\n",
      "bp: [69] at: 16 lowerscore 211.735080552\n",
      "bp: [74] at: 17 lowerscore 194.615180313\n",
      "bp: [72] at: 19 lowerscore 199.439014213\n",
      "bp: [63] at: 20 lowerscore 258.67259942\n",
      "bp: [70] at: 21 lowerscore 206.921708133\n",
      "bp: [59] at: 26 lowerscore 312.772235282\n",
      "bp: [73] at: 27 lowerscore 196.706822799\n",
      "bp: [69] at: 28 lowerscore 211.735080552\n",
      "bp: [74] at: 32 lowerscore 194.615180313\n",
      "bp: [68] at: 33 lowerscore 217.315489527\n",
      "bp: [72] at: 35 lowerscore 199.439014213\n",
      "bp: [71] at: 37 lowerscore 202.834500602\n",
      "bp: [68] at: 38 lowerscore 217.315489527\n",
      "bp: [69] at: 41 lowerscore 211.735080552\n",
      "bp: [55] at: 42 lowerscore 394.225226784\n",
      "bp: [74] at: 44 lowerscore 194.615180313\n",
      "bp: [67] at: 45 lowerscore 223.710723505\n",
      "bp: [72] at: 46 lowerscore 199.439014213\n",
      "bp: [65] at: 47 lowerscore 239.174942002\n",
      "bp: [69] at: 49 lowerscore 211.735080552\n",
      "bp: [72] at: 51 lowerscore 199.439014213\n",
      "bp: [69] at: 52 lowerscore 211.735080552\n",
      "bp: [69] at: 53 lowerscore 211.735080552\n",
      "bp: [61] at: 58 lowerscore 282.90652753\n",
      "bp: [49] at: 60 lowerscore 598.213292696\n",
      "bp: [66] at: 61 lowerscore 230.976061827\n",
      "bp: [69] at: 62 lowerscore 211.735080552\n",
      "bp: [73] at: 65 lowerscore 196.706822799\n",
      "bp: [60] at: 66 lowerscore 297.070768799\n",
      "bp: [71] at: 68 lowerscore 202.834500602\n",
      "bp: [59] at: 69 lowerscore 312.772235282\n",
      "bp: [60] at: 70 lowerscore 297.070768799\n",
      "bp: [65] at: 71 lowerscore 239.174942002\n",
      "bp: [60] at: 72 lowerscore 297.070768799\n",
      "bp: [70] at: 74 lowerscore 206.921708133\n",
      "bp: [69] at: 75 lowerscore 211.735080552\n",
      "bp: [72] at: 76 lowerscore 199.439014213\n",
      "bp: [63] at: 79 lowerscore 258.67259942\n",
      "bp: [44] at: 82 lowerscore 895.134231481\n",
      "bp: [65] at: 85 lowerscore 239.174942002\n",
      "bp: [65] at: 89 lowerscore 239.174942002\n",
      "bp: [69] at: 90 lowerscore 211.735080552\n",
      "bp: [73] at: 93 lowerscore 196.706822799\n",
      "bp: [74] at: 95 lowerscore 194.615180313\n",
      "bp: [69] at: 96 lowerscore 211.735080552\n",
      "bp: [73] at: 97 lowerscore 196.706822799\n",
      "bp: [70] at: 99 lowerscore 206.921708133\n",
      "bp: [36] at: 102 lowerscore 1855.60335362\n",
      "bp: [62] at: 109 lowerscore 270.146546002\n",
      "bp: [68] at: 110 lowerscore 217.315489527\n",
      "bp: [70] at: 112 lowerscore 206.921708133\n",
      "bp: [74] at: 114 lowerscore 194.615180313\n",
      "bp: [67] at: 116 lowerscore 223.710723505\n",
      "bp: [69] at: 117 lowerscore 211.735080552\n",
      "bp: [72] at: 118 lowerscore 199.439014213\n",
      "bp: [74] at: 123 lowerscore 194.615180313\n",
      "bp: [67] at: 124 lowerscore 223.710723505\n",
      "bp: [67] at: 126 lowerscore 223.710723505\n",
      "bp: [74] at: 128 lowerscore 194.615180313\n",
      "bp: [69] at: 129 lowerscore 211.735080552\n",
      "bp: [74] at: 130 lowerscore 194.615180313\n",
      "bp: [69] at: 131 lowerscore 211.735080552\n",
      "bp: [68] at: 132 lowerscore 217.315489527\n",
      "bp: [60] at: 139 lowerscore 297.070768799\n",
      "bp: [60] at: 141 lowerscore 297.070768799\n",
      "bp: [68] at: 142 lowerscore 217.315489527\n",
      "bp: [70] at: 144 lowerscore 206.921708133\n",
      "bp: [63] at: 145 lowerscore 258.67259942\n",
      "bp: [60] at: 148 lowerscore 297.070768799\n",
      "bp: [69] at: 149 lowerscore 211.735080552\n",
      "bp: [69] at: 151 lowerscore 211.735080552\n",
      "bp: [63] at: 152 lowerscore 258.67259942\n",
      "bp: [60] at: 156 lowerscore 297.070768799\n",
      "bp: [64] at: 158 lowerscore 248.379729318\n",
      "bp: [66] at: 159 lowerscore 230.976061827\n",
      "bp: [70] at: 160 lowerscore 206.921708133\n",
      "bp: [71] at: 161 lowerscore 202.834500602\n",
      "bp: [74] at: 162 lowerscore 194.615180313\n",
      "bp: [12] at: 164 lowerscore 23642.108063\n",
      "bp: [53] at: 165 lowerscore 449.03500612\n",
      "bp: [56] at: 166 lowerscore 370.687306527\n",
      "bp: [73] at: 171 lowerscore 196.706822799\n",
      "bp: [65] at: 172 lowerscore 239.174942002\n",
      "bp: [72] at: 173 lowerscore 199.439014213\n",
      "bp: [71] at: 175 lowerscore 202.834500602\n",
      "bp: [73] at: 176 lowerscore 196.706822799\n",
      "max: 23642.108063001782 min: 194.61518031269625\n",
      "created osx array :: 96\n",
      "('changing at indx: ', 83)\n",
      "('changing at indx: ', 164)\n",
      "('saving result at:: ', '/content/drive/My Drive/MSCodeGoogleColab/ajantip_results/2_time_bins/testing/outlier_results/mod0.csv')\n"
     ]
    }
   ],
   "source": [
    " for p in range(0, 1, 1): \n",
    "  name = str(p)\n",
    "  bloodpressure, result = getdataframes(name)\n",
    "  n_features = 1\n",
    "  X = bloodpressure.values\n",
    "\n",
    "  try:\n",
    "      np.asarray_chkfinite(X)\n",
    "  except ValueError:\n",
    "      print('Data ValueError    Please Check sundus ')\n",
    "      print(np.isnan(X).any())\n",
    "    \n",
    "  n_samples = X.shape[0]\n",
    "  systolic = X[:,0]\n",
    "  systolic = systolic.reshape(1,-1).transpose()\n",
    "\n",
    "  p_upper, p_lower = getseparatedensities(systolic)\n",
    "  value = result['ScOSx']\n",
    "\n",
    "  print(len(p_upper))\n",
    "  print(len(p_lower))\n",
    "\n",
    "  if len(p_upper) > 0: \n",
    "    npupperscores = getupperscores(systolic, p_upper)\n",
    "    if len(npupperscores) > 0:\n",
    "      uperdf = get_scaled_score(npupperscores[:,1])\n",
    "      #print(uperdf)\n",
    "      upperdf = pd.DataFrame({'index': npupperscores[:,0], 'value':uperdf})\n",
    "\n",
    "      for index, val in upperdf.iterrows():\n",
    "        idx = int((val['index']))\n",
    "        v = (val['value'])  \n",
    "        value.iloc[idx] = v\n",
    "\n",
    "\n",
    "      outliers = result['Result']\n",
    "      for index, val in result.iterrows():\n",
    "        score = (val['ScOSx'])\n",
    "        if score > 0.2:\n",
    "          print(\"changing at indx: \", index)\n",
    "          outliers.iloc[index] = 0\n",
    "\n",
    "    else:\n",
    "      print(\"no upper outlier found\")\n",
    "\n",
    "  if len(p_lower) > 0:\n",
    "    nplowerscores = getlowerscores(systolic, p_lower)\n",
    "    if len(nplowerscores) > 0:\n",
    "      lowerdf = get_scaled_score(nplowerscores[:,1])\n",
    "      #print(lowerdf)\n",
    "      loowerdf = pd.DataFrame({'index': nplowerscores[:,0], 'value':lowerdf})\n",
    "      #print(loowerdf)\n",
    "\n",
    "      for index, val in loowerdf.iterrows():\n",
    "        idx = int((val['index']))\n",
    "        v = (val['value'])  \n",
    "        value.iloc[idx] = v\n",
    "      \n",
    "    else:\n",
    "      print(\"no lower outlier found\")\n",
    "    \n",
    "    outliers = result['Result']\n",
    "\n",
    "    for index, val in result.iterrows():\n",
    "      score = (val['ScOSx'])\n",
    "      if score > 2.5:\n",
    "        print(\"changing at indx: \", index)\n",
    "        outliers.iloc[index] = 0\n",
    "\n",
    "\n",
    "\n",
    "  \"\"\"outliers = result['Result']\n",
    "\n",
    "  for index, val in result.iterrows():\n",
    "    score = (val['ScOSx'])\n",
    "    if score > 0.2:\n",
    "      print(\"changing at indx: \", index)\n",
    "      outliers.iloc[index] = 0\"\"\"\n",
    "\n",
    "  #print(result)\n",
    "  ofile = basePath + dir + 'outlier_results/' + 'mod' + name + '.csv'\n",
    "  # /content/drive/My Drive/MSCodeGoogleColab/ajantip_results/0_time_bins/outlier_results/mod0.csv'\n",
    "  print('saving result at:: ', ofile)  \n",
    "  result.to_csv(ofile, index=False, sep=',') \n",
    "\n"
   ]
  },
  {
   "cell_type": "code",
   "execution_count": 0,
   "metadata": {
    "colab": {
     "base_uri": "https://localhost:8080/",
     "height": 1000
    },
    "colab_type": "code",
    "executionInfo": {
     "elapsed": 595,
     "status": "ok",
     "timestamp": 1580605287375,
     "user": {
      "displayName": "SUNDUS ABRAR STUDENT",
      "photoUrl": "",
      "userId": "04348364771569198575"
     },
     "user_tz": -60
    },
    "id": "sE3kaNkhVWYV",
    "outputId": "2a2e9aac-b499-41c6-99ae-a86f64be956f"
   },
   "outputs": [
    {
     "name": "stdout",
     "output_type": "stream",
     "text": [
      "    index         value\n",
      "0     0.0  7.195426e-10\n",
      "1     4.0  7.195426e-10\n",
      "2     6.0  1.168617e-11\n",
      "3     9.0  6.006388e-11\n",
      "4    10.0  6.006388e-11\n",
      "5    15.0  6.006388e-11\n",
      "6    18.0  1.323089e-10\n",
      "7    22.0  6.506354e-09\n",
      "8    23.0  3.676105e-08\n",
      "9    24.0  2.334138e-10\n",
      "10   25.0  5.691227e-09\n",
      "11   29.0  5.258087e-10\n",
      "12   30.0  1.511466e-09\n",
      "13   31.0  2.334138e-10\n",
      "14   34.0  5.258087e-10\n",
      "15   36.0  1.168617e-11\n",
      "16   39.0  0.000000e+00\n",
      "17   40.0  6.006388e-11\n",
      "18   43.0  1.323089e-10\n",
      "19   48.0  0.000000e+00\n",
      "20   50.0  2.334138e-10\n",
      "21   54.0  1.323089e-10\n",
      "22   56.0  7.195426e-10\n",
      "23   57.0  1.168617e-11\n",
      "24   63.0  9.470534e-10\n",
      "25   64.0  2.334138e-10\n",
      "26   67.0  7.195426e-10\n",
      "27   73.0  2.315591e-07\n",
      "28   77.0  9.470534e-10\n",
      "29   80.0  6.006388e-11\n",
      "..    ...           ...\n",
      "44  105.0  2.960420e-08\n",
      "45  106.0  1.323089e-10\n",
      "46  107.0  3.642172e-10\n",
      "47  108.0  1.494640e-07\n",
      "48  111.0  2.334138e-10\n",
      "49  113.0  1.608177e-11\n",
      "50  119.0  6.006388e-11\n",
      "51  120.0  1.210275e-09\n",
      "52  122.0  3.642172e-10\n",
      "53  125.0  2.334138e-10\n",
      "54  133.0  2.131225e-08\n",
      "55  134.0  1.608177e-11\n",
      "56  135.0  3.154010e-09\n",
      "57  136.0  1.608177e-11\n",
      "58  137.0  2.960420e-08\n",
      "59  138.0  1.608177e-11\n",
      "60  140.0  5.258087e-10\n",
      "61  143.0  1.207823e-08\n",
      "62  147.0  1.323089e-10\n",
      "63  150.0  1.168617e-11\n",
      "64  153.0  1.168617e-11\n",
      "65  154.0  8.405981e-09\n",
      "66  155.0  6.006388e-11\n",
      "67  157.0  2.379567e-08\n",
      "68  163.0  2.654932e-08\n",
      "69  167.0  1.168617e-11\n",
      "70  168.0  8.405981e-09\n",
      "71  169.0  1.168617e-11\n",
      "72  170.0  7.195426e-10\n",
      "73  174.0  2.131225e-08\n",
      "\n",
      "[74 rows x 2 columns]\n"
     ]
    }
   ],
   "source": [
    "print(upperdf)\n",
    "#print(loowerdf[40:50])"
   ]
  },
  {
   "cell_type": "code",
   "execution_count": 0,
   "metadata": {
    "colab": {
     "base_uri": "https://localhost:8080/",
     "height": 153
    },
    "colab_type": "code",
    "executionInfo": {
     "elapsed": 916,
     "status": "ok",
     "timestamp": 1580342407130,
     "user": {
      "displayName": "SUNDUS ABRAR STUDENT",
      "photoUrl": "",
      "userId": "04348364771569198575"
     },
     "user_tz": -60
    },
    "id": "TfNfR-t5vE9h",
    "outputId": "2fee3162-d2dd-4c79-84e6-caaa230f08c7"
   },
   "outputs": [
    {
     "name": "stdout",
     "output_type": "stream",
     "text": [
      "('changing at indx: ', 8)\n",
      "('changing at indx: ', 38)\n",
      "('changing at indx: ', 123)\n",
      "('changing at indx: ', 141)\n",
      "('changing at indx: ', 150)\n",
      "('changing at indx: ', 152)\n",
      "('changing at indx: ', 166)\n",
      "('saving result at:: ', '/content/drive/My Drive/MSCodeGoogleColab/ajantip_results/1_time_bins/outlier_results/mod5.csv')\n"
     ]
    }
   ],
   "source": [
    "outliers = result['Result']\n",
    "\n",
    "for index, val in result.iterrows():\n",
    "  score = (val['ScOSx'])\n",
    "  if score > 5.0:\n",
    "    print(\"changing at indx: \", index)\n",
    "    outliers.iloc[index] = 0\n",
    "\n",
    "#print(result)\n",
    "ofile = basePath + dir + 'outlier_results/' + 'mod' + name + '.csv'\n",
    "# /content/drive/My Drive/MSCodeGoogleColab/ajantip_results/0_time_bins/outlier_results/mod0.csv'\n",
    "print('saving result at:: ', ofile)  \n",
    "result.to_csv(ofile, index=False, sep=',') "
   ]
  },
  {
   "cell_type": "code",
   "execution_count": 0,
   "metadata": {
    "colab": {
     "base_uri": "https://localhost:8080/",
     "height": 34
    },
    "colab_type": "code",
    "executionInfo": {
     "elapsed": 733,
     "status": "ok",
     "timestamp": 1579547086193,
     "user": {
      "displayName": "SUNDUS ABRAR STUDENT",
      "photoUrl": "",
      "userId": "04348364771569198575"
     },
     "user_tz": -60
    },
    "id": "AF3q1amscxdt",
    "outputId": "4a4a36a5-d341-4f5d-e5e3-cdc501d0b6ea"
   },
   "outputs": [
    {
     "name": "stdout",
     "output_type": "stream",
     "text": [
      "10.0\n"
     ]
    }
   ],
   "source": [
    "print(value[22])"
   ]
  },
  {
   "cell_type": "code",
   "execution_count": 0,
   "metadata": {
    "colab": {},
    "colab_type": "code",
    "id": "N-tiI6Vgj8WQ"
   },
   "outputs": [],
   "source": [
    "print(result)"
   ]
  },
  {
   "cell_type": "code",
   "execution_count": 0,
   "metadata": {
    "colab": {},
    "colab_type": "code",
    "id": "nF0iLlVLmMrx"
   },
   "outputs": [],
   "source": []
  },
  {
   "cell_type": "code",
   "execution_count": 0,
   "metadata": {
    "colab": {},
    "colab_type": "code",
    "id": "cD7qsVlVwwXG"
   },
   "outputs": [],
   "source": []
  },
  {
   "cell_type": "code",
   "execution_count": 0,
   "metadata": {
    "colab": {},
    "colab_type": "code",
    "id": "rwhbKtPrPbhT"
   },
   "outputs": [],
   "source": [
    "\"\"\"\n",
    "Old Code!! DO NOT RUN!!\n",
    "\"\"\"\n",
    "\n",
    "\n",
    "for p in range(0,1):\n",
    "    name = str(p)\n",
    "    path = basePath + dir + str(p)\n",
    "    filename = path + '.csv'      ##content/drive/My Drive/MSCodeGoogleColab/ajantip_results/0_time_bins/0.csv\n",
    "   \n",
    "    bloodpressure, result = getdataframes(name)\n",
    "    #print(result)\n",
    "    \n",
    "    n_features = 1\n",
    "    X = bloodpressure.values\n",
    "    X_test = X\n",
    "    \n",
    "    try:\n",
    "      np.asarray_chkfinite(X)\n",
    "    except ValueError:\n",
    "      print('Data ValueError    Please Check sundus ')\n",
    "      print(np.isnan(X).any())\n",
    "    \n",
    "    n_samples = X.shape[0]\n",
    "\n",
    "    \"\"\"Probability density calculation - for upper limit\"\"\"\n",
    "\n",
    "    \"\"\"centroidData = [160] \n",
    "    gmm = GMM(n_components=1,means=centroidData)    # here n componet is the centroid, if n componets are more than 1 then the number of centroids will also be more than 1, the means is the centroid data here i have set for upper limit\n",
    "    gmm.from_samples(X)\n",
    "    p = gmm.to_probability_density(X_test)\"\"\"\n",
    "\n",
    "    p_upper = get_prob_density(upper_limit, X)\n",
    "\n",
    "    \"\"\"Probability density for lower limit\"\"\"\n",
    "    \n",
    "    \"\"\"lowercentroidData = [60] \n",
    "    gmm1 = GMM(n_components=1,means=lowercentroidData)    # here n componet is the centroid, if n componets are more than 1 then the number of centroids will also be more than 1, the means is the centroid data here i have set for upper limit\n",
    "    gmm1.from_samples(X)\n",
    "    p_lower = gmm1.to_probability_density(X_test)\"\"\"\n",
    "\n",
    "    p_lower = get_prob_density(lower_limit, X)\n",
    "\n",
    "    \"\"\"Outier score calculation\"\"\"\n",
    "    allscores = []\n",
    "\n",
    "    for i in range(0, len(X), 1):\n",
    "      score = 0\n",
    "      bpvalue = X[i]\n",
    "      if bpvalue > upper_limit:\n",
    "        score = calculate_score(p_upper[i])\n",
    "      else if bpvalue < lower_limit:\n",
    "        score = calculate_score(p_lower[i])\n",
    "      allscores.append(score)\n",
    "\n",
    "    df = get_scaled_score(allscores)\n",
    "\n",
    "\n",
    "    df = getoutlierscores(p, X)\n",
    "    result['ScOSx'] = df\n",
    "    \n",
    "    sss = np.argmin(df)\n",
    "    mmm = np.argmax(df)\n",
    "    \n",
    "    maxscore = max(df)\n",
    "    minscore = min(df)\n",
    "\n",
    "   # opfile = basePath + dir +'outlier_results/scoutlier_score/scaledosx_' + name + '.csv'\n",
    "   # np.savetxt(opfile, df, delimiter = \",\")\n",
    "\n",
    "    outlierpos = []\n",
    "\n",
    "    for j in range(0, len(df)):\n",
    "        sc = df[j]\n",
    "        if sc > 8.0:\n",
    "            outlierpos.append(j)\n",
    "            #print(\"found outlier at \", j)\n",
    "\n",
    "    newdf = result['Result']     #bloodpressure['Y']\n",
    "\n",
    "    # replace outlier with 0\n",
    "    as_list = X_test\n",
    "    for pos in outlierpos:\n",
    "        newdf[pos] = 0\n",
    "\n",
    "\n",
    "    #place outlier positions in Y col\n",
    "    result['Result'] = newdf\n",
    "    print('****************************')\n",
    "    #print(result)\n",
    "    \n",
    "    ofile = basePath + dir + 'outlier_results/' + 'mod' + name + '.csv'\n",
    "    print('saved result at:: ', ofile)\n",
    "    result.to_csv(ofile, index=False, sep=',')\n",
    "    \n"
   ]
  },
  {
   "cell_type": "code",
   "execution_count": 0,
   "metadata": {
    "colab": {},
    "colab_type": "code",
    "id": "972X-srgQR1c"
   },
   "outputs": [],
   "source": [
    "def getoutlierscores(p, X):\n",
    "  osx = []\n",
    "  scaledosx = []\n",
    "  f = 4\n",
    "  exp = 2 * f\n",
    "\n",
    "  for i in range(0, len(X), 1):\n",
    "      pdensity = p[i]\n",
    "      os = (math.log10(pdensity) ** exp)\n",
    "      osx.append(os)\n",
    "\n",
    "  minval = min(osx)\n",
    "  maxval = max(osx)\n",
    "  bottom = maxval - minval\n",
    "\n",
    "  for os in osx:\n",
    "      top = os - minval\n",
    "      scaledos = top / bottom\n",
    "      scaledos = scaledos * 10\n",
    "      scaledosx.append(scaledos)\n",
    "\n",
    "  print(\"created osx array :: \"+str(len(scaledosx)))\n",
    "  df = np.array(scaledosx)\n",
    "  \n",
    "  #print(df)\n",
    "  \n",
    "  return df"
   ]
  }
 ],
 "metadata": {
  "colab": {
   "collapsed_sections": [],
   "name": "outlier_detection.ipynb",
   "provenance": []
  },
  "kernelspec": {
   "display_name": "Python 3 (ipykernel)",
   "language": "python",
   "name": "python3"
  },
  "language_info": {
   "codemirror_mode": {
    "name": "ipython",
    "version": 3
   },
   "file_extension": ".py",
   "mimetype": "text/x-python",
   "name": "python",
   "nbconvert_exporter": "python",
   "pygments_lexer": "ipython3",
   "version": "3.9.12"
  }
 },
 "nbformat": 4,
 "nbformat_minor": 1
}
